{
 "cells": [
  {
   "cell_type": "markdown",
   "source": [
    "## 3.3 데이터 전처리"
   ],
   "metadata": {
    "collapsed": false
   }
  },
  {
   "cell_type": "code",
   "execution_count": 1,
   "metadata": {
    "collapsed": true
   },
   "outputs": [],
   "source": [
    "import pandas as pd\n",
    "\n",
    "train = pd.read_csv('data/train.csv')\n",
    "test = pd.read_csv('data/test.csv')\n",
    "bts = pd.read_csv('data/bus_bts.csv')\n",
    "jeju_life = pd.read_csv('data/jeju_financial_life_data.csv')\n",
    "weather = pd.read_csv('data/weather.csv', encoding='cp949')\n",
    "rain = pd.read_csv('data/rain.csv', encoding='utf-8')"
   ]
  },
  {
   "cell_type": "code",
   "execution_count": 2,
   "outputs": [],
   "source": [
    "import matplotlib\n",
    "import matplotlib.pyplot as plt\n",
    "import seaborn as sns\n",
    "\n",
    "# 내부에 결과를 출력하도록 설정\n",
    "%matplotlib inline\n",
    "\n",
    "# 시각화 한글 폰트 설정\n",
    "# window 사용자\n",
    "# plt.rc('font', family='Malgun Gothic')\n",
    "# macOS 사용자\n",
    "plt.rc('font', family='AppleGothic')\n",
    "# 마이너스 기호 출력\n",
    "plt.rc('axes', unicode_minus=False)\n",
    "\n",
    "# 분석에 문제가 없는 경고 메시지는 숨긴다.\n",
    "import warnings\n",
    "warnings.filterwarnings('ignore')"
   ],
   "metadata": {
    "collapsed": false,
    "pycharm": {
     "name": "#%%\n"
    }
   }
  },
  {
   "cell_type": "code",
   "execution_count": 3,
   "outputs": [],
   "source": [
    "# 학습 데이터와 테스트 데이터를 구분하기 위한 변수 생성\n",
    "train['cue'] = 0\n",
    "test['cue'] = 1\n",
    "\n",
    "# 학습 데이터와 테스트 데이터 통합\n",
    "df = pd.concat([train, test], axis=0)"
   ],
   "metadata": {
    "collapsed": false,
    "pycharm": {
     "name": "#%%\n"
    }
   }
  },
  {
   "cell_type": "markdown",
   "source": [
    "### 3.3.1 내부 데이터를 통한 변수 생성"
   ],
   "metadata": {
    "collapsed": false
   }
  },
  {
   "cell_type": "markdown",
   "source": [
    "#### 3.3.1.1 탐색적 데이터 분석을 통한 변수"
   ],
   "metadata": {
    "collapsed": false
   }
  },
  {
   "cell_type": "markdown",
   "source": [
    "* 요일을 나타내는 변수(weekday)"
   ],
   "metadata": {
    "collapsed": false
   }
  },
  {
   "cell_type": "code",
   "execution_count": 4,
   "outputs": [],
   "source": [
    "# datetime 변수형으로 변환\n",
    "df['date'] = pd.to_datetime(df['date'])\n",
    "\n",
    "# 요일 추출 (0-월요일~6-일요일)\n",
    "df['weekday'] = df['date'].dt.weekday"
   ],
   "metadata": {
    "collapsed": false,
    "pycharm": {
     "name": "#%%\n"
    }
   }
  },
  {
   "cell_type": "code",
   "execution_count": 5,
   "outputs": [
    {
     "data": {
      "text/plain": "   weekday\n0        6\n1        6\n2        6\n3        6\n4        6",
      "text/html": "<div>\n<style scoped>\n    .dataframe tbody tr th:only-of-type {\n        vertical-align: middle;\n    }\n\n    .dataframe tbody tr th {\n        vertical-align: top;\n    }\n\n    .dataframe thead th {\n        text-align: right;\n    }\n</style>\n<table border=\"1\" class=\"dataframe\">\n  <thead>\n    <tr style=\"text-align: right;\">\n      <th></th>\n      <th>weekday</th>\n    </tr>\n  </thead>\n  <tbody>\n    <tr>\n      <th>0</th>\n      <td>6</td>\n    </tr>\n    <tr>\n      <th>1</th>\n      <td>6</td>\n    </tr>\n    <tr>\n      <th>2</th>\n      <td>6</td>\n    </tr>\n    <tr>\n      <th>3</th>\n      <td>6</td>\n    </tr>\n    <tr>\n      <th>4</th>\n      <td>6</td>\n    </tr>\n  </tbody>\n</table>\n</div>"
     },
     "execution_count": 5,
     "metadata": {},
     "output_type": "execute_result"
    }
   ],
   "source": [
    "df[['weekday']].head()"
   ],
   "metadata": {
    "collapsed": false,
    "pycharm": {
     "name": "#%%\n"
    }
   }
  },
  {
   "cell_type": "markdown",
   "source": [
    "* 요일별 평균 탑승객 수"
   ],
   "metadata": {
    "collapsed": false
   }
  },
  {
   "cell_type": "code",
   "execution_count": 6,
   "outputs": [],
   "source": [
    "# 요일별 평균 탑승 승객수를 구하는 함수\n",
    "def week_mean() :\n",
    "    # 전체 데이터에서 train 데이터에 해당하는 행 추출\n",
    "    train_data = df.query('cue==0').reset_index(drop=True)\n",
    "\n",
    "    # 일괄적으로 1의 값을 가지는 'weekdaymean'변수 생성\n",
    "    df['weekdaymean'] = 1\n",
    "\n",
    "    # 각 요일에 해당하는 인덱스 추출\n",
    "    index0 = df.query('weekday==0').index\n",
    "    index1 = df.query('weekday==1').index\n",
    "    index2 = df.query('weekday==2').index\n",
    "    index3 = df.query('weekday==3').index\n",
    "    index4 = df.query('weekday==4').index\n",
    "    index5 = df.query('weekday==5').index\n",
    "    index6 = df.query('weekday==6').index\n",
    "\n",
    "    # 인덱스를 활용하여 'weekdaymean'의 값을 각 요일에 맞는 평균 탑승 승객수로 변경\n",
    "    df.iloc[index0,-1] = train_data.query('weekday==0')['18~20_ride'].mean()\n",
    "    df.iloc[index1,-1] = train_data.query('weekday==1')['18~20_ride'].mean()\n",
    "    df.iloc[index2,-1] = train_data.query('weekday==2')['18~20_ride'].mean()\n",
    "    df.iloc[index3,-1] = train_data.query('weekday==3')['18~20_ride'].mean()\n",
    "    df.iloc[index4,-1] = train_data.query('weekday==4')['18~20_ride'].mean()\n",
    "    df.iloc[index5,-1] = train_data.query('weekday==5')['18~20_ride'].mean()\n",
    "    df.iloc[index6,-1] = train_data.query('weekday==6')['18~20_ride'].mean()\n",
    "\n",
    "    return df\n",
    "\n",
    "# 함수를 실행하여 변수 생성\n",
    "df = week_mean()"
   ],
   "metadata": {
    "collapsed": false,
    "pycharm": {
     "name": "#%%\n"
    }
   }
  },
  {
   "cell_type": "code",
   "execution_count": 7,
   "outputs": [
    {
     "data": {
      "text/plain": "   weekdaymean\n0     1.034282\n1     1.034282\n2     1.034282\n3     1.034282\n4     1.034282",
      "text/html": "<div>\n<style scoped>\n    .dataframe tbody tr th:only-of-type {\n        vertical-align: middle;\n    }\n\n    .dataframe tbody tr th {\n        vertical-align: top;\n    }\n\n    .dataframe thead th {\n        text-align: right;\n    }\n</style>\n<table border=\"1\" class=\"dataframe\">\n  <thead>\n    <tr style=\"text-align: right;\">\n      <th></th>\n      <th>weekdaymean</th>\n    </tr>\n  </thead>\n  <tbody>\n    <tr>\n      <th>0</th>\n      <td>1.034282</td>\n    </tr>\n    <tr>\n      <th>1</th>\n      <td>1.034282</td>\n    </tr>\n    <tr>\n      <th>2</th>\n      <td>1.034282</td>\n    </tr>\n    <tr>\n      <th>3</th>\n      <td>1.034282</td>\n    </tr>\n    <tr>\n      <th>4</th>\n      <td>1.034282</td>\n    </tr>\n  </tbody>\n</table>\n</div>"
     },
     "execution_count": 7,
     "metadata": {},
     "output_type": "execute_result"
    }
   ],
   "source": [
    "df[['weekdaymean']].head()"
   ],
   "metadata": {
    "collapsed": false,
    "pycharm": {
     "name": "#%%\n"
    }
   }
  },
  {
   "cell_type": "markdown",
   "source": [
    "* 버스 종류별 평균 탑승객 수"
   ],
   "metadata": {
    "collapsed": false
   }
  },
  {
   "cell_type": "code",
   "execution_count": 8,
   "outputs": [],
   "source": [
    "# 버스 종류별 평균 탑승 승객수를 구하는 함수\n",
    "def inout_mean() :\n",
    "    # 전체 데이터에서 train 데이터에 해당하는 행 추출\n",
    "    train_data = df.query('cue==0').reset_index(drop=True)\n",
    "\n",
    "    # 일괄적으로 1의 값을 가지는 in_out_mean 변수 생성\n",
    "    df['in_out_mean'] = 1\n",
    "\n",
    "    # 버스 종류별 인덱스 추출\n",
    "    in_index = df.query('in_out == \"시내\"').index # 시내버스\n",
    "    out_index = df.query('in_out == \"시외\"').index # 시외버스\n",
    "\n",
    "    # 인덱스를 활용하여 in_out_mean의 값을 각 버스 종류에 맞는\n",
    "    # 평균 탑승 승객수로 변경\n",
    "    df.iloc[in_index,-1] = train_data.query('in_out == \"시내\"')['18~20_ride'].mean()\n",
    "    df.iloc[out_index,-1] = train_data.query('in_out == \"시외\"')['18~20_ride'].mean()\n",
    "\n",
    "    return df\n",
    "\n",
    "# 함수를 실행하여 변수 생성\n",
    "df = inout_mean()"
   ],
   "metadata": {
    "collapsed": false,
    "pycharm": {
     "name": "#%%\n"
    }
   }
  },
  {
   "cell_type": "code",
   "execution_count": 9,
   "outputs": [
    {
     "data": {
      "text/plain": "   in_out_mean\n0     2.044345\n1     2.044345\n2     2.044345\n3     1.228499\n4     1.228499",
      "text/html": "<div>\n<style scoped>\n    .dataframe tbody tr th:only-of-type {\n        vertical-align: middle;\n    }\n\n    .dataframe tbody tr th {\n        vertical-align: top;\n    }\n\n    .dataframe thead th {\n        text-align: right;\n    }\n</style>\n<table border=\"1\" class=\"dataframe\">\n  <thead>\n    <tr style=\"text-align: right;\">\n      <th></th>\n      <th>in_out_mean</th>\n    </tr>\n  </thead>\n  <tbody>\n    <tr>\n      <th>0</th>\n      <td>2.044345</td>\n    </tr>\n    <tr>\n      <th>1</th>\n      <td>2.044345</td>\n    </tr>\n    <tr>\n      <th>2</th>\n      <td>2.044345</td>\n    </tr>\n    <tr>\n      <th>3</th>\n      <td>1.228499</td>\n    </tr>\n    <tr>\n      <th>4</th>\n      <td>1.228499</td>\n    </tr>\n  </tbody>\n</table>\n</div>"
     },
     "execution_count": 9,
     "metadata": {},
     "output_type": "execute_result"
    }
   ],
   "source": [
    "df[['in_out_mean']].head()"
   ],
   "metadata": {
    "collapsed": false,
    "pycharm": {
     "name": "#%%\n"
    }
   }
  },
  {
   "cell_type": "markdown",
   "source": [
    "* 일별 오전 시간대의 총 탑승객 수"
   ],
   "metadata": {
    "collapsed": false
   }
  },
  {
   "cell_type": "code",
   "execution_count": 10,
   "outputs": [],
   "source": [
    "# 날짜별 오전 시간에 탑승한 총 탑승객 수\n",
    "f = df.groupby('date')['6~7_ride', '7~8_ride', '8~9_ride', '9~10_ride', '10~11_ride'].sum().reset_index()\n",
    "\n",
    "# 변수명 변경\n",
    "f.columns = ['date', '6~7_ride_sum', '7~8_ride_sum', '8~9_ride_sum', '9~10_ride_sum', '10~11_ride_sum']\n",
    "\n",
    "# 기존 데이터프레임에 새로운 변수를 병합\n",
    "df = pd.merge(df, f, how='left', on='date')"
   ],
   "metadata": {
    "collapsed": false,
    "pycharm": {
     "name": "#%%\n"
    }
   }
  },
  {
   "cell_type": "code",
   "execution_count": 11,
   "outputs": [
    {
     "data": {
      "text/plain": "        date  6~7_ride_sum  7~8_ride_sum  8~9_ride_sum  9~10_ride_sum  \\\n0 2019-09-01        2942.0        4518.0        5682.0         6275.0   \n1 2019-09-01        2942.0        4518.0        5682.0         6275.0   \n2 2019-09-01        2942.0        4518.0        5682.0         6275.0   \n3 2019-09-01        2942.0        4518.0        5682.0         6275.0   \n4 2019-09-01        2942.0        4518.0        5682.0         6275.0   \n\n   10~11_ride_sum  \n0          6774.0  \n1          6774.0  \n2          6774.0  \n3          6774.0  \n4          6774.0  ",
      "text/html": "<div>\n<style scoped>\n    .dataframe tbody tr th:only-of-type {\n        vertical-align: middle;\n    }\n\n    .dataframe tbody tr th {\n        vertical-align: top;\n    }\n\n    .dataframe thead th {\n        text-align: right;\n    }\n</style>\n<table border=\"1\" class=\"dataframe\">\n  <thead>\n    <tr style=\"text-align: right;\">\n      <th></th>\n      <th>date</th>\n      <th>6~7_ride_sum</th>\n      <th>7~8_ride_sum</th>\n      <th>8~9_ride_sum</th>\n      <th>9~10_ride_sum</th>\n      <th>10~11_ride_sum</th>\n    </tr>\n  </thead>\n  <tbody>\n    <tr>\n      <th>0</th>\n      <td>2019-09-01</td>\n      <td>2942.0</td>\n      <td>4518.0</td>\n      <td>5682.0</td>\n      <td>6275.0</td>\n      <td>6774.0</td>\n    </tr>\n    <tr>\n      <th>1</th>\n      <td>2019-09-01</td>\n      <td>2942.0</td>\n      <td>4518.0</td>\n      <td>5682.0</td>\n      <td>6275.0</td>\n      <td>6774.0</td>\n    </tr>\n    <tr>\n      <th>2</th>\n      <td>2019-09-01</td>\n      <td>2942.0</td>\n      <td>4518.0</td>\n      <td>5682.0</td>\n      <td>6275.0</td>\n      <td>6774.0</td>\n    </tr>\n    <tr>\n      <th>3</th>\n      <td>2019-09-01</td>\n      <td>2942.0</td>\n      <td>4518.0</td>\n      <td>5682.0</td>\n      <td>6275.0</td>\n      <td>6774.0</td>\n    </tr>\n    <tr>\n      <th>4</th>\n      <td>2019-09-01</td>\n      <td>2942.0</td>\n      <td>4518.0</td>\n      <td>5682.0</td>\n      <td>6275.0</td>\n      <td>6774.0</td>\n    </tr>\n  </tbody>\n</table>\n</div>"
     },
     "execution_count": 11,
     "metadata": {},
     "output_type": "execute_result"
    }
   ],
   "source": [
    "df[['date', '6~7_ride_sum', '7~8_ride_sum', '8~9_ride_sum', '9~10_ride_sum', '10~11_ride_sum']].head()"
   ],
   "metadata": {
    "collapsed": false,
    "pycharm": {
     "name": "#%%\n"
    }
   }
  },
  {
   "cell_type": "markdown",
   "source": [
    "#### 3.3.1.2 도메인 조사를 통한 변수"
   ],
   "metadata": {
    "collapsed": false
   }
  },
  {
   "cell_type": "markdown",
   "source": [
    "* 배차 간격"
   ],
   "metadata": {
    "collapsed": false
   }
  },
  {
   "cell_type": "code",
   "execution_count": 12,
   "outputs": [],
   "source": [
    "# 탑승 날짜를 datetime 형으로 변환\n",
    "bts['geton_time2'] = pd.to_datetime(bts['geton_time'])\n",
    "\n",
    "# 탑승 날짜, 탑승 정류장 코드, 탑승 노선 번호 기준으로 정렬\n",
    "f = bts.sort_values(by=['geton_date', 'geton_station_code', 'bus_route_id', 'geton_time2'], ascending=True).reset_index()"
   ],
   "metadata": {
    "collapsed": false,
    "pycharm": {
     "name": "#%%\n"
    }
   }
  },
  {
   "cell_type": "code",
   "execution_count": 13,
   "outputs": [
    {
     "data": {
      "text/plain": "  0%|          | 0/2409413 [00:00<?, ?it/s]",
      "application/vnd.jupyter.widget-view+json": {
       "version_major": 2,
       "version_minor": 0,
       "model_id": "db19330e4f12462bb39d5afa0750e4de"
      }
     },
     "metadata": {},
     "output_type": "display_data"
    }
   ],
   "source": [
    "from tqdm import notebook\n",
    "\n",
    "# 시차를 넣기 위한 빈 리스트 생성\n",
    "interval_list = []\n",
    "for i in notebook.tqdm(range(0, len(f)-1)):\n",
    "  # 탑승 날짜, 탑승 정류장 코드, 탑승 노선 번호가 같다면\n",
    "  if ((f.iloc[i].geton_date == f.iloc[i+1].geton_date) & (f.iloc[i].geton_station_code == f.iloc[i+1].geton_station_code) & (f.iloc[i].bus_route_id == f.iloc[i+1].bus_route_id)):\n",
    "    # 탑승 날짜의 차를 interval_list에 넣기\n",
    "    interval_list.append(f.iloc[i+1].geton_time2 - f.iloc[i].geton_time2)\n",
    "\n",
    "  else:\n",
    "    # 같지 않다면 0을 interval_list에 넣기\n",
    "    interval_list.append(0)\n",
    "\n",
    "interval_list.insert(0, '0')"
   ],
   "metadata": {
    "collapsed": false,
    "pycharm": {
     "name": "#%%\n"
    }
   }
  },
  {
   "cell_type": "code",
   "execution_count": 14,
   "outputs": [],
   "source": [
    "f['interval'] = interval_list         # interval_list를 interval 변수로 생성\n",
    "# interval 변수의 값을 문자형으로 변환 후 시:분:초 형태로 변환\n",
    "f['interval'] = f['interval'].astype(str).str[7:].replace('', '00:00:00')\n",
    "f['bus_route_id'] = f['bus_route_id'].astype(object)"
   ],
   "metadata": {
    "collapsed": false,
    "pycharm": {
     "name": "#%%\n"
    }
   }
  },
  {
   "cell_type": "code",
   "execution_count": 30,
   "outputs": [],
   "source": [
    "def get_min(time_str):\n",
    "    h, m, s = time_str.split(':')\n",
    "    return (int(h) * 3600 + int(m) * 60 + int(s)) / 60\n",
    "# interval 함수의 모든 값에 대해 함수 적용하여 나온 값을 time 리스트에 넣기\n",
    "time = []\n",
    "for i in f['interval']:\n",
    "    time.append(get_min(i))\n",
    "\n",
    "f['time'] = time       # time 리스트를 time 변수로 생성\n",
    "f['time'] = f['time'].astype(int)       # time 변수를 int 타입으로 변경\n",
    "f = f[f['time'] > 3]                    # 간격이 3분보다 작은 것 제외\n",
    "f = f[f['time'] < 180]                  # 간격이 3시간보다 큰 것 제외"
   ],
   "metadata": {
    "collapsed": false,
    "pycharm": {
     "name": "#%%\n"
    }
   }
  },
  {
   "cell_type": "code",
   "execution_count": 31,
   "outputs": [],
   "source": [
    "# 버스 노선별 버스 간격의 평균 bus_interval 변수 생성\n",
    "data = f.groupby('bus_route_id')['time'].agg([('bus_interval', 'mean')]).reset_index()\n",
    "data['bus_interval'] = data['bus_interval'].astype(int)\n",
    "\n",
    "# 변수 생서에 많은 시간이 소요되므로 csv 파일로 저장\n",
    "data.to_csv('bus_interval.csv', index=False)"
   ],
   "metadata": {
    "collapsed": false,
    "pycharm": {
     "name": "#%%\n"
    }
   }
  },
  {
   "cell_type": "code",
   "execution_count": 32,
   "outputs": [],
   "source": [
    "# csv 파일이 성공적으로 저장됐다면 다음 과정부터 진행\n",
    "import numpy as np\n",
    "df['bus_route_id'] = df['bus_route_id'].astype(np.int64)\n",
    "bus_interval = pd.read_csv('bus_interval.csv')\n",
    "\n",
    "# 기종의 데이터프레임에 새로운 변수를 병합\n",
    "df = pd.merge(df, bus_interval, how='left', on='bus_route_id')\n",
    "df['bus_interval'] = df['bus_interval'].fillna(9999)     # 병합 중 생기는 NA 값 처리"
   ],
   "metadata": {
    "collapsed": false,
    "pycharm": {
     "name": "#%%\n"
    }
   }
  },
  {
   "cell_type": "code",
   "execution_count": 33,
   "outputs": [
    {
     "data": {
      "text/plain": "   bus_interval\n0          34.0\n1          34.0\n2          34.0\n3          34.0\n4          34.0",
      "text/html": "<div>\n<style scoped>\n    .dataframe tbody tr th:only-of-type {\n        vertical-align: middle;\n    }\n\n    .dataframe tbody tr th {\n        vertical-align: top;\n    }\n\n    .dataframe thead th {\n        text-align: right;\n    }\n</style>\n<table border=\"1\" class=\"dataframe\">\n  <thead>\n    <tr style=\"text-align: right;\">\n      <th></th>\n      <th>bus_interval</th>\n    </tr>\n  </thead>\n  <tbody>\n    <tr>\n      <th>0</th>\n      <td>34.0</td>\n    </tr>\n    <tr>\n      <th>1</th>\n      <td>34.0</td>\n    </tr>\n    <tr>\n      <th>2</th>\n      <td>34.0</td>\n    </tr>\n    <tr>\n      <th>3</th>\n      <td>34.0</td>\n    </tr>\n    <tr>\n      <th>4</th>\n      <td>34.0</td>\n    </tr>\n  </tbody>\n</table>\n</div>"
     },
     "execution_count": 33,
     "metadata": {},
     "output_type": "execute_result"
    }
   ],
   "source": [
    "df[['bus_interval']].head()"
   ],
   "metadata": {
    "collapsed": false,
    "pycharm": {
     "name": "#%%\n"
    }
   }
  },
  {
   "cell_type": "code",
   "execution_count": null,
   "outputs": [],
   "source": [],
   "metadata": {
    "collapsed": false,
    "pycharm": {
     "name": "#%%\n"
    }
   }
  }
 ],
 "metadata": {
  "kernelspec": {
   "display_name": "Python 3",
   "language": "python",
   "name": "python3"
  },
  "language_info": {
   "codemirror_mode": {
    "name": "ipython",
    "version": 2
   },
   "file_extension": ".py",
   "mimetype": "text/x-python",
   "name": "python",
   "nbconvert_exporter": "python",
   "pygments_lexer": "ipython2",
   "version": "2.7.6"
  }
 },
 "nbformat": 4,
 "nbformat_minor": 0
}