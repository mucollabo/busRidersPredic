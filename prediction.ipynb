{
 "cells": [
  {
   "cell_type": "code",
   "execution_count": 1,
   "metadata": {
    "collapsed": true
   },
   "outputs": [],
   "source": [
    "import pandas as pd\n",
    "\n",
    "train = pd.read_csv('data/train.csv')\n",
    "test = pd.read_csv('data/test.csv')\n",
    "bts = pd.read_csv('data/bus_bts.csv')\n",
    "jeju_life = pd.read_csv('data/jeju_financial_life_data.csv')\n",
    "weather = pd.read_csv('data/weather.csv', encoding='cp949')\n",
    "rain = pd.read_csv('data/rain.csv', encoding='utf-8')"
   ]
  },
  {
   "cell_type": "code",
   "execution_count": 2,
   "outputs": [],
   "source": [
    "import matplotlib\n",
    "import matplotlib.pyplot as plt\n",
    "import seaborn as sns\n",
    "\n",
    "# 내부에 결과를 출력하도록 설정\n",
    "%matplotlib inline\n",
    "\n",
    "# 시각화 한글 폰트 설정\n",
    "# window 사용자\n",
    "# plt.rc('font', family='Malgun Gothic')\n",
    "# macOS 사용자\n",
    "plt.rc('font', family='AppleGothic')\n",
    "\n",
    "plt.rc('axes', unicode_minus=False)\n",
    "\n",
    "# 분석에 문제가 없는 경고 메시지는 숨긴다.\n",
    "import warnings\n",
    "warnings.filterwarnings('ignore')"
   ],
   "metadata": {
    "collapsed": false,
    "pycharm": {
     "name": "#%%\n"
    }
   }
  },
  {
   "cell_type": "code",
   "execution_count": 3,
   "outputs": [],
   "source": [
    "# 학습 데이터와 테스트 데이터를 구분하기 위한 변수 생성\n",
    "train['cue'] = 0\n",
    "test['cue'] = 1\n",
    "\n",
    "# 학습 데이터와 테스트 데이터 통합\n",
    "df = pd.concat([train, test], axis=0)"
   ],
   "metadata": {
    "collapsed": false,
    "pycharm": {
     "name": "#%%\n"
    }
   }
  },
  {
   "cell_type": "code",
   "execution_count": 4,
   "outputs": [],
   "source": [
    "# datetime 변수형으로 변환\n",
    "df['date'] = pd.to_datetime(df['date'])\n",
    "\n",
    "# 요일 추출 (0-월요일~6-일요일)\n",
    "df['weekday'] = df['date'].dt.weekday"
   ],
   "metadata": {
    "collapsed": false,
    "pycharm": {
     "name": "#%%\n"
    }
   }
  },
  {
   "cell_type": "code",
   "execution_count": 5,
   "outputs": [
    {
     "data": {
      "text/plain": "   weekday\n0        6\n1        6\n2        6\n3        6\n4        6",
      "text/html": "<div>\n<style scoped>\n    .dataframe tbody tr th:only-of-type {\n        vertical-align: middle;\n    }\n\n    .dataframe tbody tr th {\n        vertical-align: top;\n    }\n\n    .dataframe thead th {\n        text-align: right;\n    }\n</style>\n<table border=\"1\" class=\"dataframe\">\n  <thead>\n    <tr style=\"text-align: right;\">\n      <th></th>\n      <th>weekday</th>\n    </tr>\n  </thead>\n  <tbody>\n    <tr>\n      <th>0</th>\n      <td>6</td>\n    </tr>\n    <tr>\n      <th>1</th>\n      <td>6</td>\n    </tr>\n    <tr>\n      <th>2</th>\n      <td>6</td>\n    </tr>\n    <tr>\n      <th>3</th>\n      <td>6</td>\n    </tr>\n    <tr>\n      <th>4</th>\n      <td>6</td>\n    </tr>\n  </tbody>\n</table>\n</div>"
     },
     "execution_count": 5,
     "metadata": {},
     "output_type": "execute_result"
    }
   ],
   "source": [
    "df[['weekday']].head()"
   ],
   "metadata": {
    "collapsed": false,
    "pycharm": {
     "name": "#%%\n"
    }
   }
  },
  {
   "cell_type": "code",
   "execution_count": 6,
   "outputs": [],
   "source": [
    "# 요일별 평균 탑승객 수를 구하는 함수\n",
    "def week_mean():\n",
    "  # 전체 데이터에서 train 데이터에 해당하는 행 추출\n",
    "  train_data = df.query('cue==\"0\"').reset_index(drop=True)\n",
    "\n",
    "  # 일괄적으로 1의 값을 가지는 'weekdaymean' 변수 생성\n",
    "  df['weekdaymean'] = 1\n",
    "\n",
    "  # 각 요일에 해당하는 인덱스 추출\n",
    "  index0 = df.query('weekday==0').index\n",
    "  index1 = df.query('weekday==1').index\n",
    "  index2 = df.query('weekday==2').index\n",
    "  index3 = df.query('weekday==3').index\n",
    "  index4 = df.query('weekday==4').index\n",
    "  index5 = df.query('weekday==5').index\n",
    "  index6 = df.query('weekday==6').index\n",
    "\n",
    "  # 인덱스를 활용해 'weekdaymean'의 값을 각 요일에 맞는 평균 탑승 탑승객 수로 변경\n",
    "  df.iloc[index0, -1] = train_data.query('weekday==0')['18~20_ride'].mean()\n",
    "  df.iloc[index1, -1] = train_data.query('weekday==1')['18~20_ride'].mean()\n",
    "  df.iloc[index2, -1] = train_data.query('weekday==2')['18~20_ride'].mean()\n",
    "  df.iloc[index3, -1] = train_data.query('weekday==3')['18~20_ride'].mean()\n",
    "  df.iloc[index4, -1] = train_data.query('weekday==4')['18~20_ride'].mean()\n",
    "  df.iloc[index5, -1] = train_data.query('weekday==5')['18~20_ride'].mean()\n",
    "  df.iloc[index6, -1] = train_data.query('weekday==6')['18~20_ride'].mean()\n",
    "\n",
    "  return df\n",
    "\n",
    "# 함수 실행하여 변수 생성\n",
    "df = week_mean()"
   ],
   "metadata": {
    "collapsed": false,
    "pycharm": {
     "name": "#%%\n"
    }
   }
  },
  {
   "cell_type": "code",
   "execution_count": 7,
   "outputs": [
    {
     "data": {
      "text/plain": "   weekdaymean\n0          NaN\n1          NaN\n2          NaN\n3          NaN\n4          NaN",
      "text/html": "<div>\n<style scoped>\n    .dataframe tbody tr th:only-of-type {\n        vertical-align: middle;\n    }\n\n    .dataframe tbody tr th {\n        vertical-align: top;\n    }\n\n    .dataframe thead th {\n        text-align: right;\n    }\n</style>\n<table border=\"1\" class=\"dataframe\">\n  <thead>\n    <tr style=\"text-align: right;\">\n      <th></th>\n      <th>weekdaymean</th>\n    </tr>\n  </thead>\n  <tbody>\n    <tr>\n      <th>0</th>\n      <td>NaN</td>\n    </tr>\n    <tr>\n      <th>1</th>\n      <td>NaN</td>\n    </tr>\n    <tr>\n      <th>2</th>\n      <td>NaN</td>\n    </tr>\n    <tr>\n      <th>3</th>\n      <td>NaN</td>\n    </tr>\n    <tr>\n      <th>4</th>\n      <td>NaN</td>\n    </tr>\n  </tbody>\n</table>\n</div>"
     },
     "execution_count": 7,
     "metadata": {},
     "output_type": "execute_result"
    }
   ],
   "source": [
    "df[['weekdaymean']].head()"
   ],
   "metadata": {
    "collapsed": false,
    "pycharm": {
     "name": "#%%\n"
    }
   }
  },
  {
   "cell_type": "code",
   "execution_count": 9,
   "outputs": [],
   "source": [
    "# 날짜별 오전 시간에 탑승한 총 탑승객 수\n",
    "f = df.groupby('date')['6~7_ride', '7~8_ride', '8~9_ride', '9~10_ride', '10~11_ride'].sum().reset_index()\n",
    "\n",
    "# 변수명 변경\n",
    "f.columns = ['date', '6~7_ride_sum', '7~8_ride_sum', '8~9_ride_sum', '9~10_ride_sum', '10~11_ride_sum']\n",
    "\n",
    "# 기존 데이터프레임에 새로운 변수를 병합\n",
    "df = pd.merge(df, f, how='left', on='date')"
   ],
   "metadata": {
    "collapsed": false,
    "pycharm": {
     "name": "#%%\n"
    }
   }
  },
  {
   "cell_type": "code",
   "execution_count": 10,
   "outputs": [
    {
     "data": {
      "text/plain": "        date  6~7_ride_sum  7~8_ride_sum  8~9_ride_sum  9~10_ride_sum  \\\n0 2019-09-01        2942.0        4518.0        5682.0         6275.0   \n1 2019-09-01        2942.0        4518.0        5682.0         6275.0   \n2 2019-09-01        2942.0        4518.0        5682.0         6275.0   \n3 2019-09-01        2942.0        4518.0        5682.0         6275.0   \n4 2019-09-01        2942.0        4518.0        5682.0         6275.0   \n\n   10~11_ride_sum  \n0          6774.0  \n1          6774.0  \n2          6774.0  \n3          6774.0  \n4          6774.0  ",
      "text/html": "<div>\n<style scoped>\n    .dataframe tbody tr th:only-of-type {\n        vertical-align: middle;\n    }\n\n    .dataframe tbody tr th {\n        vertical-align: top;\n    }\n\n    .dataframe thead th {\n        text-align: right;\n    }\n</style>\n<table border=\"1\" class=\"dataframe\">\n  <thead>\n    <tr style=\"text-align: right;\">\n      <th></th>\n      <th>date</th>\n      <th>6~7_ride_sum</th>\n      <th>7~8_ride_sum</th>\n      <th>8~9_ride_sum</th>\n      <th>9~10_ride_sum</th>\n      <th>10~11_ride_sum</th>\n    </tr>\n  </thead>\n  <tbody>\n    <tr>\n      <th>0</th>\n      <td>2019-09-01</td>\n      <td>2942.0</td>\n      <td>4518.0</td>\n      <td>5682.0</td>\n      <td>6275.0</td>\n      <td>6774.0</td>\n    </tr>\n    <tr>\n      <th>1</th>\n      <td>2019-09-01</td>\n      <td>2942.0</td>\n      <td>4518.0</td>\n      <td>5682.0</td>\n      <td>6275.0</td>\n      <td>6774.0</td>\n    </tr>\n    <tr>\n      <th>2</th>\n      <td>2019-09-01</td>\n      <td>2942.0</td>\n      <td>4518.0</td>\n      <td>5682.0</td>\n      <td>6275.0</td>\n      <td>6774.0</td>\n    </tr>\n    <tr>\n      <th>3</th>\n      <td>2019-09-01</td>\n      <td>2942.0</td>\n      <td>4518.0</td>\n      <td>5682.0</td>\n      <td>6275.0</td>\n      <td>6774.0</td>\n    </tr>\n    <tr>\n      <th>4</th>\n      <td>2019-09-01</td>\n      <td>2942.0</td>\n      <td>4518.0</td>\n      <td>5682.0</td>\n      <td>6275.0</td>\n      <td>6774.0</td>\n    </tr>\n  </tbody>\n</table>\n</div>"
     },
     "execution_count": 10,
     "metadata": {},
     "output_type": "execute_result"
    }
   ],
   "source": [
    "df[['date', '6~7_ride_sum', '7~8_ride_sum', '8~9_ride_sum', '9~10_ride_sum', '10~11_ride_sum']].head()"
   ],
   "metadata": {
    "collapsed": false,
    "pycharm": {
     "name": "#%%\n"
    }
   }
  },
  {
   "cell_type": "code",
   "execution_count": 11,
   "outputs": [],
   "source": [
    "# 탑승 날짜를 datetime 형으로 변환\n",
    "bts['geton_time2'] = pd.to_datetime(bts['geton_time'])\n",
    "\n",
    "# 탑승 날짜, 탑승 정류장 코드, 탑승 노선 번호 기준으로 정렬\n",
    "f = bts.sort_values(by=['geton_date', 'geton_station_code', 'bus_route_id', 'geton_time2'], ascending=True).reset_index()"
   ],
   "metadata": {
    "collapsed": false,
    "pycharm": {
     "name": "#%%\n"
    }
   }
  },
  {
   "cell_type": "code",
   "execution_count": 12,
   "outputs": [
    {
     "data": {
      "text/plain": "  0%|          | 0/2409413 [00:00<?, ?it/s]",
      "application/vnd.jupyter.widget-view+json": {
       "version_major": 2,
       "version_minor": 0,
       "model_id": "324ff5010a9345dfa9a28831f98a4371"
      }
     },
     "metadata": {},
     "output_type": "display_data"
    }
   ],
   "source": [
    "from tqdm import notebook\n",
    "\n",
    "# 시차를 넣기 위한 빈 리스트 생성\n",
    "interval_list = []\n",
    "for i in notebook.tqdm(range(0, len(f)-1)):\n",
    "  # 탑승 날짜, 탑승 정류장 코드, 탑승 노선 번호가 같다면\n",
    "  if ((f.iloc[i].geton_date == f.iloc[i+1].geton_date) & (f.iloc[i].geton_station_code == f.iloc[i+1].geton_station_code) & (f.iloc[i].bus_route_id == f.iloc[i+1].bus_route_id)):\n",
    "    # 탑승 날짜의 차를 interval_list에 넣기\n",
    "    interval_list.append(f.iloc[i+1].geton_time2 - f.iloc[i].geton_time2)\n",
    "\n",
    "  else:\n",
    "    # 같지 않다면 0을 interval_list에 넣기\n",
    "    interval_list.append(0)\n",
    "\n",
    "interval_list.insert(0, '0')"
   ],
   "metadata": {
    "collapsed": false,
    "pycharm": {
     "name": "#%%\n"
    }
   }
  },
  {
   "cell_type": "code",
   "execution_count": null,
   "outputs": [],
   "source": [],
   "metadata": {
    "collapsed": false,
    "pycharm": {
     "name": "#%%\n"
    }
   }
  }
 ],
 "metadata": {
  "kernelspec": {
   "display_name": "Python 3",
   "language": "python",
   "name": "python3"
  },
  "language_info": {
   "codemirror_mode": {
    "name": "ipython",
    "version": 2
   },
   "file_extension": ".py",
   "mimetype": "text/x-python",
   "name": "python",
   "nbconvert_exporter": "python",
   "pygments_lexer": "ipython2",
   "version": "2.7.6"
  }
 },
 "nbformat": 4,
 "nbformat_minor": 0
}