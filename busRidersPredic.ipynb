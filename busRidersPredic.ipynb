{
 "nbformat": 4,
 "nbformat_minor": 0,
 "metadata": {
  "colab": {
   "name": "busRidersPredic.ipynb",
   "provenance": [],
   "authorship_tag": "ABX9TyNHp1C6XD65Y1GGWbMcJdF1"
  },
  "kernelspec": {
   "name": "python3",
   "language": "python",
   "display_name": "Python 3"
  },
  "language_info": {
   "name": "python"
  }
 },
 "cells": [
  {
   "cell_type": "code",
   "metadata": {
    "colab": {
     "background_save": true
    },
    "id": "nNFv6Wjeg6uU",
    "outputId": "7599cf92-6e1a-442d-cddc-2347672eb23e"
   },
   "source": [
    "# from google.colab import drive\n",
    "# drive.mount('./mount')"
   ],
   "execution_count": 1,
   "outputs": []
  },
  {
   "cell_type": "code",
   "metadata": {
    "colab": {
     "background_save": true
    },
    "id": "x08F-Ytgh1Ni"
   },
   "source": [
    "import pandas as pd\n",
    "\n",
    "train = pd.read_csv('data/train.csv')\n",
    "test = pd.read_csv('data/test.csv')\n",
    "bts = pd.read_csv('data/bus_bts.csv')\n",
    "jeju_life = pd.read_csv('data/jeju_financial_life_data.csv')\n",
    "weather = pd.read_csv('data/weather.csv', encoding='cp949')\n",
    "rain = pd.read_csv('data/rain.csv', encoding='utf-8')"
   ],
   "execution_count": 1,
   "outputs": []
  },
  {
   "cell_type": "code",
   "metadata": {
    "colab": {
     "background_save": true
    },
    "id": "KEXS1oS6j1RL",
    "outputId": "d8c94b34-e41f-48a4-a17c-3e313da5ba50"
   },
   "source": [
    "train.head()"
   ],
   "execution_count": 2,
   "outputs": [
    {
     "data": {
      "text/plain": "   id        date  bus_route_id in_out  station_code  station_name  latitude  \\\n0   0  2019-09-01       4270000     시외           344         제주썬호텔  33.48990   \n1   1  2019-09-01       4270000     시외           357          한라병원  33.48944   \n2   2  2019-09-01       4270000     시외           432          정존마을  33.48181   \n3   3  2019-09-01       4270000     시내          1579  제주국제공항(600번)  33.50577   \n4   4  2019-09-01       4270000     시내          1646      중문관광단지입구  33.25579   \n\n   longitude  6~7_ride  7~8_ride  ...  9~10_ride  10~11_ride  11~12_ride  \\\n0  126.49373       0.0       1.0  ...        5.0         2.0         6.0   \n1  126.48508       1.0       4.0  ...        2.0         5.0         6.0   \n2  126.47352       1.0       1.0  ...        2.0         0.0         0.0   \n3  126.49252       0.0      17.0  ...       26.0        14.0        16.0   \n4  126.41260       0.0       0.0  ...        0.0         0.0         0.0   \n\n   6~7_takeoff  7~8_takeoff  8~9_takeoff  9~10_takeoff  10~11_takeoff  \\\n0          0.0          0.0          0.0           0.0            0.0   \n1          0.0          0.0          0.0           0.0            0.0   \n2          0.0          0.0          0.0           0.0            0.0   \n3          0.0          0.0          0.0           0.0            0.0   \n4          0.0          0.0          0.0           1.0            0.0   \n\n   11~12_takeoff  18~20_ride  \n0            0.0         0.0  \n1            0.0         5.0  \n2            0.0         2.0  \n3            0.0        53.0  \n4            0.0         0.0  \n\n[5 rows x 21 columns]",
      "text/html": "<div>\n<style scoped>\n    .dataframe tbody tr th:only-of-type {\n        vertical-align: middle;\n    }\n\n    .dataframe tbody tr th {\n        vertical-align: top;\n    }\n\n    .dataframe thead th {\n        text-align: right;\n    }\n</style>\n<table border=\"1\" class=\"dataframe\">\n  <thead>\n    <tr style=\"text-align: right;\">\n      <th></th>\n      <th>id</th>\n      <th>date</th>\n      <th>bus_route_id</th>\n      <th>in_out</th>\n      <th>station_code</th>\n      <th>station_name</th>\n      <th>latitude</th>\n      <th>longitude</th>\n      <th>6~7_ride</th>\n      <th>7~8_ride</th>\n      <th>...</th>\n      <th>9~10_ride</th>\n      <th>10~11_ride</th>\n      <th>11~12_ride</th>\n      <th>6~7_takeoff</th>\n      <th>7~8_takeoff</th>\n      <th>8~9_takeoff</th>\n      <th>9~10_takeoff</th>\n      <th>10~11_takeoff</th>\n      <th>11~12_takeoff</th>\n      <th>18~20_ride</th>\n    </tr>\n  </thead>\n  <tbody>\n    <tr>\n      <th>0</th>\n      <td>0</td>\n      <td>2019-09-01</td>\n      <td>4270000</td>\n      <td>시외</td>\n      <td>344</td>\n      <td>제주썬호텔</td>\n      <td>33.48990</td>\n      <td>126.49373</td>\n      <td>0.0</td>\n      <td>1.0</td>\n      <td>...</td>\n      <td>5.0</td>\n      <td>2.0</td>\n      <td>6.0</td>\n      <td>0.0</td>\n      <td>0.0</td>\n      <td>0.0</td>\n      <td>0.0</td>\n      <td>0.0</td>\n      <td>0.0</td>\n      <td>0.0</td>\n    </tr>\n    <tr>\n      <th>1</th>\n      <td>1</td>\n      <td>2019-09-01</td>\n      <td>4270000</td>\n      <td>시외</td>\n      <td>357</td>\n      <td>한라병원</td>\n      <td>33.48944</td>\n      <td>126.48508</td>\n      <td>1.0</td>\n      <td>4.0</td>\n      <td>...</td>\n      <td>2.0</td>\n      <td>5.0</td>\n      <td>6.0</td>\n      <td>0.0</td>\n      <td>0.0</td>\n      <td>0.0</td>\n      <td>0.0</td>\n      <td>0.0</td>\n      <td>0.0</td>\n      <td>5.0</td>\n    </tr>\n    <tr>\n      <th>2</th>\n      <td>2</td>\n      <td>2019-09-01</td>\n      <td>4270000</td>\n      <td>시외</td>\n      <td>432</td>\n      <td>정존마을</td>\n      <td>33.48181</td>\n      <td>126.47352</td>\n      <td>1.0</td>\n      <td>1.0</td>\n      <td>...</td>\n      <td>2.0</td>\n      <td>0.0</td>\n      <td>0.0</td>\n      <td>0.0</td>\n      <td>0.0</td>\n      <td>0.0</td>\n      <td>0.0</td>\n      <td>0.0</td>\n      <td>0.0</td>\n      <td>2.0</td>\n    </tr>\n    <tr>\n      <th>3</th>\n      <td>3</td>\n      <td>2019-09-01</td>\n      <td>4270000</td>\n      <td>시내</td>\n      <td>1579</td>\n      <td>제주국제공항(600번)</td>\n      <td>33.50577</td>\n      <td>126.49252</td>\n      <td>0.0</td>\n      <td>17.0</td>\n      <td>...</td>\n      <td>26.0</td>\n      <td>14.0</td>\n      <td>16.0</td>\n      <td>0.0</td>\n      <td>0.0</td>\n      <td>0.0</td>\n      <td>0.0</td>\n      <td>0.0</td>\n      <td>0.0</td>\n      <td>53.0</td>\n    </tr>\n    <tr>\n      <th>4</th>\n      <td>4</td>\n      <td>2019-09-01</td>\n      <td>4270000</td>\n      <td>시내</td>\n      <td>1646</td>\n      <td>중문관광단지입구</td>\n      <td>33.25579</td>\n      <td>126.41260</td>\n      <td>0.0</td>\n      <td>0.0</td>\n      <td>...</td>\n      <td>0.0</td>\n      <td>0.0</td>\n      <td>0.0</td>\n      <td>0.0</td>\n      <td>0.0</td>\n      <td>0.0</td>\n      <td>1.0</td>\n      <td>0.0</td>\n      <td>0.0</td>\n      <td>0.0</td>\n    </tr>\n  </tbody>\n</table>\n<p>5 rows × 21 columns</p>\n</div>"
     },
     "execution_count": 2,
     "metadata": {},
     "output_type": "execute_result"
    }
   ]
  },
  {
   "cell_type": "code",
   "metadata": {
    "colab": {
     "background_save": true
    },
    "id": "pazoNr0XlmZ-",
    "outputId": "c7fb65e6-b5ac-4d0f-fd0a-1cf98667763d"
   },
   "source": [
    "train.info()"
   ],
   "execution_count": 3,
   "outputs": [
    {
     "name": "stdout",
     "output_type": "stream",
     "text": [
      "<class 'pandas.core.frame.DataFrame'>\n",
      "RangeIndex: 415423 entries, 0 to 415422\n",
      "Data columns (total 21 columns):\n",
      " #   Column         Non-Null Count   Dtype  \n",
      "---  ------         --------------   -----  \n",
      " 0   id             415423 non-null  int64  \n",
      " 1   date           415423 non-null  object \n",
      " 2   bus_route_id   415423 non-null  int64  \n",
      " 3   in_out         415423 non-null  object \n",
      " 4   station_code   415423 non-null  int64  \n",
      " 5   station_name   415423 non-null  object \n",
      " 6   latitude       415423 non-null  float64\n",
      " 7   longitude      415423 non-null  float64\n",
      " 8   6~7_ride       415423 non-null  float64\n",
      " 9   7~8_ride       415423 non-null  float64\n",
      " 10  8~9_ride       415423 non-null  float64\n",
      " 11  9~10_ride      415423 non-null  float64\n",
      " 12  10~11_ride     415423 non-null  float64\n",
      " 13  11~12_ride     415423 non-null  float64\n",
      " 14  6~7_takeoff    415423 non-null  float64\n",
      " 15  7~8_takeoff    415423 non-null  float64\n",
      " 16  8~9_takeoff    415423 non-null  float64\n",
      " 17  9~10_takeoff   415423 non-null  float64\n",
      " 18  10~11_takeoff  415423 non-null  float64\n",
      " 19  11~12_takeoff  415423 non-null  float64\n",
      " 20  18~20_ride     415423 non-null  float64\n",
      "dtypes: float64(15), int64(3), object(3)\n",
      "memory usage: 66.6+ MB\n"
     ]
    }
   ]
  },
  {
   "cell_type": "code",
   "metadata": {
    "colab": {
     "background_save": true
    },
    "id": "LM_gLPWWmhGW",
    "outputId": "df9dc571-5554-45b1-eee3-c9be0792e608"
   },
   "source": [
    "bts.head()"
   ],
   "execution_count": 4,
   "outputs": [
    {
     "data": {
      "text/plain": "   user_card_id  bus_route_id     vhc_id  geton_date geton_time  \\\n0  1.010010e+15      23000000  149793674  2019-09-10   06:34:45   \n1  1.010010e+15      23000000  149793674  2019-09-10   06:34:58   \n2  1.019160e+15      21420000  149793535  2019-09-10   07:19:07   \n3  1.019150e+15      21420000  149793512  2019-09-09   09:14:47   \n4  1.010010e+15      21420000  149793512  2019-09-09   09:28:53   \n\n   geton_station_code geton_station_name getoff_date getoff_time  \\\n0                 360              노형오거리  2019-09-10    07:10:31   \n1                 360              노형오거리  2019-09-10    06:56:27   \n2                2495     동광환승정류장4(제주방면)  2019-09-10    07:40:29   \n3                3282    대정환승정류장(대정읍사무소)  2019-09-09    10:02:46   \n4                2820              삼정지에듀  2019-09-09    10:21:37   \n\n   getoff_station_code getoff_station_name  user_category  user_count  \n0                592.0              화북초등학교              1           1  \n1               3273.0          고산동산(광양방면)              1           1  \n2                431.0                정존마을              4           1  \n3                431.0                정존마을              1           1  \n4               2972.0          제주국제공항(종점)              4           1  ",
      "text/html": "<div>\n<style scoped>\n    .dataframe tbody tr th:only-of-type {\n        vertical-align: middle;\n    }\n\n    .dataframe tbody tr th {\n        vertical-align: top;\n    }\n\n    .dataframe thead th {\n        text-align: right;\n    }\n</style>\n<table border=\"1\" class=\"dataframe\">\n  <thead>\n    <tr style=\"text-align: right;\">\n      <th></th>\n      <th>user_card_id</th>\n      <th>bus_route_id</th>\n      <th>vhc_id</th>\n      <th>geton_date</th>\n      <th>geton_time</th>\n      <th>geton_station_code</th>\n      <th>geton_station_name</th>\n      <th>getoff_date</th>\n      <th>getoff_time</th>\n      <th>getoff_station_code</th>\n      <th>getoff_station_name</th>\n      <th>user_category</th>\n      <th>user_count</th>\n    </tr>\n  </thead>\n  <tbody>\n    <tr>\n      <th>0</th>\n      <td>1.010010e+15</td>\n      <td>23000000</td>\n      <td>149793674</td>\n      <td>2019-09-10</td>\n      <td>06:34:45</td>\n      <td>360</td>\n      <td>노형오거리</td>\n      <td>2019-09-10</td>\n      <td>07:10:31</td>\n      <td>592.0</td>\n      <td>화북초등학교</td>\n      <td>1</td>\n      <td>1</td>\n    </tr>\n    <tr>\n      <th>1</th>\n      <td>1.010010e+15</td>\n      <td>23000000</td>\n      <td>149793674</td>\n      <td>2019-09-10</td>\n      <td>06:34:58</td>\n      <td>360</td>\n      <td>노형오거리</td>\n      <td>2019-09-10</td>\n      <td>06:56:27</td>\n      <td>3273.0</td>\n      <td>고산동산(광양방면)</td>\n      <td>1</td>\n      <td>1</td>\n    </tr>\n    <tr>\n      <th>2</th>\n      <td>1.019160e+15</td>\n      <td>21420000</td>\n      <td>149793535</td>\n      <td>2019-09-10</td>\n      <td>07:19:07</td>\n      <td>2495</td>\n      <td>동광환승정류장4(제주방면)</td>\n      <td>2019-09-10</td>\n      <td>07:40:29</td>\n      <td>431.0</td>\n      <td>정존마을</td>\n      <td>4</td>\n      <td>1</td>\n    </tr>\n    <tr>\n      <th>3</th>\n      <td>1.019150e+15</td>\n      <td>21420000</td>\n      <td>149793512</td>\n      <td>2019-09-09</td>\n      <td>09:14:47</td>\n      <td>3282</td>\n      <td>대정환승정류장(대정읍사무소)</td>\n      <td>2019-09-09</td>\n      <td>10:02:46</td>\n      <td>431.0</td>\n      <td>정존마을</td>\n      <td>1</td>\n      <td>1</td>\n    </tr>\n    <tr>\n      <th>4</th>\n      <td>1.010010e+15</td>\n      <td>21420000</td>\n      <td>149793512</td>\n      <td>2019-09-09</td>\n      <td>09:28:53</td>\n      <td>2820</td>\n      <td>삼정지에듀</td>\n      <td>2019-09-09</td>\n      <td>10:21:37</td>\n      <td>2972.0</td>\n      <td>제주국제공항(종점)</td>\n      <td>4</td>\n      <td>1</td>\n    </tr>\n  </tbody>\n</table>\n</div>"
     },
     "execution_count": 4,
     "metadata": {},
     "output_type": "execute_result"
    }
   ]
  },
  {
   "cell_type": "code",
   "metadata": {
    "colab": {
     "background_save": true
    },
    "id": "anfD9DlunuUz",
    "outputId": "bac025e3-c75d-4e97-c9e5-10459c4bfbaf"
   },
   "source": [
    "bts.info(null_counts=True)"
   ],
   "execution_count": 6,
   "outputs": [
    {
     "name": "stderr",
     "output_type": "stream",
     "text": [
      "/Users/charles/Documents/GitHub/busRidersPredic/venv/lib/python3.7/site-packages/ipykernel_launcher.py:1: FutureWarning: null_counts is deprecated. Use show_counts instead\n",
      "  \"\"\"Entry point for launching an IPython kernel.\n"
     ]
    },
    {
     "name": "stdout",
     "output_type": "stream",
     "text": [
      "<class 'pandas.core.frame.DataFrame'>\n",
      "RangeIndex: 2409414 entries, 0 to 2409413\n",
      "Data columns (total 13 columns):\n",
      " #   Column               Non-Null Count    Dtype  \n",
      "---  ------               --------------    -----  \n",
      " 0   user_card_id         2409414 non-null  float64\n",
      " 1   bus_route_id         2409414 non-null  int64  \n",
      " 2   vhc_id               2409414 non-null  int64  \n",
      " 3   geton_date           2409414 non-null  object \n",
      " 4   geton_time           2409414 non-null  object \n",
      " 5   geton_station_code   2409414 non-null  int64  \n",
      " 6   geton_station_name   2409365 non-null  object \n",
      " 7   getoff_date          1513678 non-null  object \n",
      " 8   getoff_time          1513678 non-null  object \n",
      " 9   getoff_station_code  1513678 non-null  float64\n",
      " 10  getoff_station_name  1513639 non-null  object \n",
      " 11  user_category        2409414 non-null  int64  \n",
      " 12  user_count           2409414 non-null  int64  \n",
      "dtypes: float64(2), int64(5), object(6)\n",
      "memory usage: 239.0+ MB\n"
     ]
    }
   ]
  },
  {
   "cell_type": "code",
   "metadata": {
    "colab": {
     "background_save": true
    },
    "id": "xk7lGDfMoISl",
    "outputId": "7ec0eb67-b1ad-49f2-db94-0205dfc6a15e"
   },
   "source": [
    "pd.options.display.max_info_columns"
   ],
   "execution_count": 5,
   "outputs": [
    {
     "data": {
      "text/plain": "100"
     },
     "execution_count": 5,
     "metadata": {},
     "output_type": "execute_result"
    }
   ]
  },
  {
   "cell_type": "code",
   "metadata": {
    "colab": {
     "background_save": true
    },
    "id": "Z-_jrkALqF1w",
    "outputId": "4482c2e2-dc9a-4d01-e309-37d627129738"
   },
   "source": [
    "pd.options.display.max_info_rows"
   ],
   "execution_count": 6,
   "outputs": [
    {
     "data": {
      "text/plain": "1690785"
     },
     "execution_count": 6,
     "metadata": {},
     "output_type": "execute_result"
    }
   ]
  },
  {
   "cell_type": "code",
   "metadata": {
    "colab": {
     "background_save": true
    },
    "id": "fxiGUI1dqZMe",
    "outputId": "ec2c2138-e8fe-4d02-ac7a-1b159a8d9490"
   },
   "source": [
    "jeju_life.head()"
   ],
   "execution_count": 7,
   "outputs": [
    {
     "data": {
      "text/plain": "   zip_cd  year_month      x_axis     y_axis  sex  age  job_majorc  \\\n0   63299      201902  126.565889  33.513210    1   54         0.0   \n1   63560      201902  126.497121  33.247225    1   59         0.0   \n2   63560      201902  126.497121  33.247225    2   49         0.0   \n3   63560      201902  126.497121  33.247225    1   54         0.0   \n4   63560      201902  126.497121  33.247225    1   49         0.0   \n\n   job_smallc  job_public  job_profession  ...   avg_debt  avg_debt_credit  \\\n0    0.166667    0.000000        0.000000  ...   24285196         11419148   \n1    0.125000    0.000000        0.000000  ...  108571077         25896955   \n2    0.250000    0.000000        0.000000  ...   26424335         12015311   \n3    0.181818    0.090909        0.090909  ...  647716901         39952556   \n4    0.250000    0.000000        0.000000  ...  248232725         35712501   \n\n   avg_debt_noneb  avg_debt_mortgage  avg_debt_deposit  avg_debt_collateral  \\\n0         8863595           55550000                 0             55550000   \n1        13317443                  0         200000000             74421721   \n2        12015311           40833359                 0             40833359   \n3        21558153           36697792                 0            706300496   \n4         5568751                  0                 0            626810674   \n\n   avg_credit_rat  medium_resid_rat  large_resid_rat  vehicle_own_rat  \n0               5         -999999.0        -999999.0         0.000000  \n1               4         -999999.0        -999999.0         0.000000  \n2               2         -999999.0        -999999.0         0.000000  \n3               4         -999999.0        -999999.0         0.166667  \n4               5         -999999.0        -999999.0         0.000000  \n\n[5 rows x 27 columns]",
      "text/html": "<div>\n<style scoped>\n    .dataframe tbody tr th:only-of-type {\n        vertical-align: middle;\n    }\n\n    .dataframe tbody tr th {\n        vertical-align: top;\n    }\n\n    .dataframe thead th {\n        text-align: right;\n    }\n</style>\n<table border=\"1\" class=\"dataframe\">\n  <thead>\n    <tr style=\"text-align: right;\">\n      <th></th>\n      <th>zip_cd</th>\n      <th>year_month</th>\n      <th>x_axis</th>\n      <th>y_axis</th>\n      <th>sex</th>\n      <th>age</th>\n      <th>job_majorc</th>\n      <th>job_smallc</th>\n      <th>job_public</th>\n      <th>job_profession</th>\n      <th>...</th>\n      <th>avg_debt</th>\n      <th>avg_debt_credit</th>\n      <th>avg_debt_noneb</th>\n      <th>avg_debt_mortgage</th>\n      <th>avg_debt_deposit</th>\n      <th>avg_debt_collateral</th>\n      <th>avg_credit_rat</th>\n      <th>medium_resid_rat</th>\n      <th>large_resid_rat</th>\n      <th>vehicle_own_rat</th>\n    </tr>\n  </thead>\n  <tbody>\n    <tr>\n      <th>0</th>\n      <td>63299</td>\n      <td>201902</td>\n      <td>126.565889</td>\n      <td>33.513210</td>\n      <td>1</td>\n      <td>54</td>\n      <td>0.0</td>\n      <td>0.166667</td>\n      <td>0.000000</td>\n      <td>0.000000</td>\n      <td>...</td>\n      <td>24285196</td>\n      <td>11419148</td>\n      <td>8863595</td>\n      <td>55550000</td>\n      <td>0</td>\n      <td>55550000</td>\n      <td>5</td>\n      <td>-999999.0</td>\n      <td>-999999.0</td>\n      <td>0.000000</td>\n    </tr>\n    <tr>\n      <th>1</th>\n      <td>63560</td>\n      <td>201902</td>\n      <td>126.497121</td>\n      <td>33.247225</td>\n      <td>1</td>\n      <td>59</td>\n      <td>0.0</td>\n      <td>0.125000</td>\n      <td>0.000000</td>\n      <td>0.000000</td>\n      <td>...</td>\n      <td>108571077</td>\n      <td>25896955</td>\n      <td>13317443</td>\n      <td>0</td>\n      <td>200000000</td>\n      <td>74421721</td>\n      <td>4</td>\n      <td>-999999.0</td>\n      <td>-999999.0</td>\n      <td>0.000000</td>\n    </tr>\n    <tr>\n      <th>2</th>\n      <td>63560</td>\n      <td>201902</td>\n      <td>126.497121</td>\n      <td>33.247225</td>\n      <td>2</td>\n      <td>49</td>\n      <td>0.0</td>\n      <td>0.250000</td>\n      <td>0.000000</td>\n      <td>0.000000</td>\n      <td>...</td>\n      <td>26424335</td>\n      <td>12015311</td>\n      <td>12015311</td>\n      <td>40833359</td>\n      <td>0</td>\n      <td>40833359</td>\n      <td>2</td>\n      <td>-999999.0</td>\n      <td>-999999.0</td>\n      <td>0.000000</td>\n    </tr>\n    <tr>\n      <th>3</th>\n      <td>63560</td>\n      <td>201902</td>\n      <td>126.497121</td>\n      <td>33.247225</td>\n      <td>1</td>\n      <td>54</td>\n      <td>0.0</td>\n      <td>0.181818</td>\n      <td>0.090909</td>\n      <td>0.090909</td>\n      <td>...</td>\n      <td>647716901</td>\n      <td>39952556</td>\n      <td>21558153</td>\n      <td>36697792</td>\n      <td>0</td>\n      <td>706300496</td>\n      <td>4</td>\n      <td>-999999.0</td>\n      <td>-999999.0</td>\n      <td>0.166667</td>\n    </tr>\n    <tr>\n      <th>4</th>\n      <td>63560</td>\n      <td>201902</td>\n      <td>126.497121</td>\n      <td>33.247225</td>\n      <td>1</td>\n      <td>49</td>\n      <td>0.0</td>\n      <td>0.250000</td>\n      <td>0.000000</td>\n      <td>0.000000</td>\n      <td>...</td>\n      <td>248232725</td>\n      <td>35712501</td>\n      <td>5568751</td>\n      <td>0</td>\n      <td>0</td>\n      <td>626810674</td>\n      <td>5</td>\n      <td>-999999.0</td>\n      <td>-999999.0</td>\n      <td>0.000000</td>\n    </tr>\n  </tbody>\n</table>\n<p>5 rows × 27 columns</p>\n</div>"
     },
     "execution_count": 7,
     "metadata": {},
     "output_type": "execute_result"
    }
   ]
  },
  {
   "cell_type": "code",
   "metadata": {
    "colab": {
     "background_save": true
    },
    "id": "1jwbteFQuDn0",
    "outputId": "a9471612-d19f-4b95-a4b8-a3a36ea19d5f"
   },
   "source": [
    "jeju_life.info()"
   ],
   "execution_count": 10,
   "outputs": [
    {
     "name": "stdout",
     "output_type": "stream",
     "text": [
      "<class 'pandas.core.frame.DataFrame'>\n",
      "RangeIndex: 10422 entries, 0 to 10421\n",
      "Data columns (total 27 columns):\n",
      " #   Column               Non-Null Count  Dtype  \n",
      "---  ------               --------------  -----  \n",
      " 0   zip_cd               10422 non-null  int64  \n",
      " 1   year_month           10422 non-null  int64  \n",
      " 2   x_axis               10422 non-null  float64\n",
      " 3   y_axis               10422 non-null  float64\n",
      " 4   sex                  10422 non-null  int64  \n",
      " 5   age                  10422 non-null  int64  \n",
      " 6   job_majorc           10422 non-null  float64\n",
      " 7   job_smallc           10422 non-null  float64\n",
      " 8   job_public           10422 non-null  float64\n",
      " 9   job_profession       10422 non-null  float64\n",
      " 10  job_self             10422 non-null  float64\n",
      " 11  job_none             10422 non-null  float64\n",
      " 12  job_other            10422 non-null  float64\n",
      " 13  avg_income           10422 non-null  int64  \n",
      " 14  med_income           10422 non-null  int64  \n",
      " 15  avg_spend            10422 non-null  int64  \n",
      " 16  avg_foreign_spend    10422 non-null  int64  \n",
      " 17  avg_debt             10422 non-null  int64  \n",
      " 18  avg_debt_credit      10422 non-null  int64  \n",
      " 19  avg_debt_noneb       10422 non-null  int64  \n",
      " 20  avg_debt_mortgage    10422 non-null  int64  \n",
      " 21  avg_debt_deposit     10422 non-null  int64  \n",
      " 22  avg_debt_collateral  10422 non-null  int64  \n",
      " 23  avg_credit_rat       10422 non-null  int64  \n",
      " 24  medium_resid_rat     10422 non-null  float64\n",
      " 25  large_resid_rat      10422 non-null  float64\n",
      " 26  vehicle_own_rat      10422 non-null  float64\n",
      "dtypes: float64(12), int64(15)\n",
      "memory usage: 2.1 MB\n"
     ]
    }
   ]
  },
  {
   "cell_type": "code",
   "metadata": {
    "colab": {
     "background_save": true
    },
    "id": "beyFvHHyuIel",
    "outputId": "67baa030-3ced-4a66-cedc-356a6848a05a"
   },
   "source": [
    "weather.head()"
   ],
   "execution_count": 8,
   "outputs": [
    {
     "data": {
      "text/plain": "           날짜   현재일기  현재기온  체감온도   일강수\n0  2019-09-01     흐림  26.2  75.0     0\n1  2019-09-02   비 끝남  22.5  72.0  25.7\n2  2019-09-03     흐림  25.4  77.0  12.1\n3  2019-09-04  약한비단속  24.2  75.0  34.3\n4  2019-09-05   구름많음  27.6  79.0   0.1",
      "text/html": "<div>\n<style scoped>\n    .dataframe tbody tr th:only-of-type {\n        vertical-align: middle;\n    }\n\n    .dataframe tbody tr th {\n        vertical-align: top;\n    }\n\n    .dataframe thead th {\n        text-align: right;\n    }\n</style>\n<table border=\"1\" class=\"dataframe\">\n  <thead>\n    <tr style=\"text-align: right;\">\n      <th></th>\n      <th>날짜</th>\n      <th>현재일기</th>\n      <th>현재기온</th>\n      <th>체감온도</th>\n      <th>일강수</th>\n    </tr>\n  </thead>\n  <tbody>\n    <tr>\n      <th>0</th>\n      <td>2019-09-01</td>\n      <td>흐림</td>\n      <td>26.2</td>\n      <td>75.0</td>\n      <td>0</td>\n    </tr>\n    <tr>\n      <th>1</th>\n      <td>2019-09-02</td>\n      <td>비 끝남</td>\n      <td>22.5</td>\n      <td>72.0</td>\n      <td>25.7</td>\n    </tr>\n    <tr>\n      <th>2</th>\n      <td>2019-09-03</td>\n      <td>흐림</td>\n      <td>25.4</td>\n      <td>77.0</td>\n      <td>12.1</td>\n    </tr>\n    <tr>\n      <th>3</th>\n      <td>2019-09-04</td>\n      <td>약한비단속</td>\n      <td>24.2</td>\n      <td>75.0</td>\n      <td>34.3</td>\n    </tr>\n    <tr>\n      <th>4</th>\n      <td>2019-09-05</td>\n      <td>구름많음</td>\n      <td>27.6</td>\n      <td>79.0</td>\n      <td>0.1</td>\n    </tr>\n  </tbody>\n</table>\n</div>"
     },
     "execution_count": 8,
     "metadata": {},
     "output_type": "execute_result"
    }
   ]
  },
  {
   "cell_type": "code",
   "metadata": {
    "colab": {
     "background_save": true
    },
    "id": "1h2LxVuOveiV",
    "outputId": "9cb8357e-f889-4727-def1-83ac4d66e215"
   },
   "source": [
    "weather.info()"
   ],
   "execution_count": 9,
   "outputs": [
    {
     "name": "stdout",
     "output_type": "stream",
     "text": [
      "<class 'pandas.core.frame.DataFrame'>\n",
      "RangeIndex: 46 entries, 0 to 45\n",
      "Data columns (total 5 columns):\n",
      " #   Column  Non-Null Count  Dtype  \n",
      "---  ------  --------------  -----  \n",
      " 0   날짜      46 non-null     object \n",
      " 1   현재일기    46 non-null     object \n",
      " 2   현재기온    46 non-null     float64\n",
      " 3   체감온도    46 non-null     float64\n",
      " 4   일강수     46 non-null     object \n",
      "dtypes: float64(2), object(3)\n",
      "memory usage: 1.9+ KB\n"
     ]
    }
   ]
  },
  {
   "cell_type": "code",
   "metadata": {
    "colab": {
     "background_save": true
    },
    "id": "nutMWUXhwNMC",
    "outputId": "b1549f1b-ba2e-45df-f7ee-5cedc1c69e10"
   },
   "source": [
    "rain.head()"
   ],
   "execution_count": 10,
   "outputs": [
    {
     "data": {
      "text/plain": "      지점          일시     기온(°C)  강수량(mm)\n0  gosan  2019-09-01  23.916667     0.00\n1  gosan  2019-09-02  23.700000    12.10\n2  gosan  2019-09-03  23.550000     1.90\n3  gosan  2019-09-04  23.533333    12.84\n4  gosan  2019-09-05  26.033333     0.00",
      "text/html": "<div>\n<style scoped>\n    .dataframe tbody tr th:only-of-type {\n        vertical-align: middle;\n    }\n\n    .dataframe tbody tr th {\n        vertical-align: top;\n    }\n\n    .dataframe thead th {\n        text-align: right;\n    }\n</style>\n<table border=\"1\" class=\"dataframe\">\n  <thead>\n    <tr style=\"text-align: right;\">\n      <th></th>\n      <th>지점</th>\n      <th>일시</th>\n      <th>기온(°C)</th>\n      <th>강수량(mm)</th>\n    </tr>\n  </thead>\n  <tbody>\n    <tr>\n      <th>0</th>\n      <td>gosan</td>\n      <td>2019-09-01</td>\n      <td>23.916667</td>\n      <td>0.00</td>\n    </tr>\n    <tr>\n      <th>1</th>\n      <td>gosan</td>\n      <td>2019-09-02</td>\n      <td>23.700000</td>\n      <td>12.10</td>\n    </tr>\n    <tr>\n      <th>2</th>\n      <td>gosan</td>\n      <td>2019-09-03</td>\n      <td>23.550000</td>\n      <td>1.90</td>\n    </tr>\n    <tr>\n      <th>3</th>\n      <td>gosan</td>\n      <td>2019-09-04</td>\n      <td>23.533333</td>\n      <td>12.84</td>\n    </tr>\n    <tr>\n      <th>4</th>\n      <td>gosan</td>\n      <td>2019-09-05</td>\n      <td>26.033333</td>\n      <td>0.00</td>\n    </tr>\n  </tbody>\n</table>\n</div>"
     },
     "execution_count": 10,
     "metadata": {},
     "output_type": "execute_result"
    }
   ]
  },
  {
   "cell_type": "code",
   "metadata": {
    "colab": {
     "background_save": true
    },
    "id": "5_MFlwO3wvBR",
    "outputId": "e5a78913-a8f8-46cd-e77c-fb48a95c52d7"
   },
   "source": [
    "rain.info()"
   ],
   "execution_count": 11,
   "outputs": [
    {
     "name": "stdout",
     "output_type": "stream",
     "text": [
      "<class 'pandas.core.frame.DataFrame'>\n",
      "RangeIndex: 184 entries, 0 to 183\n",
      "Data columns (total 4 columns):\n",
      " #   Column   Non-Null Count  Dtype  \n",
      "---  ------   --------------  -----  \n",
      " 0   지점       184 non-null    object \n",
      " 1   일시       184 non-null    object \n",
      " 2   기온(°C)   184 non-null    float64\n",
      " 3   강수량(mm)  66 non-null     float64\n",
      "dtypes: float64(2), object(2)\n",
      "memory usage: 5.9+ KB\n"
     ]
    }
   ]
  },
  {
   "cell_type": "code",
   "metadata": {
    "colab": {
     "background_save": true
    },
    "id": "e2HXVIKqw0dF"
   },
   "source": [
    "import matplotlib\n",
    "import matplotlib.pyplot as plt\n",
    "import seaborn as sns\n",
    "\n",
    "# 내부에 결과를 출력하도록 설정\n",
    "%matplotlib inline\n",
    "\n",
    "# 시각화 한글 폰트 설정\n",
    "# window 사용자\n",
    "# plt.rc('font', family='Malgun Gothic')\n",
    "# macOS 사용자\n",
    "plt.rc('font', family='AppleGothic')\n",
    "\n",
    "plt.rc('axes', unicode_minus=False)\n",
    "\n",
    "# 분석에 문제가 없는 경고 메시지는 숨긴다.\n",
    "import warnings\n",
    "warnings.filterwarnings('ignore')"
   ],
   "execution_count": 12,
   "outputs": []
  },
  {
   "cell_type": "code",
   "metadata": {
    "colab": {
     "background_save": true
    },
    "id": "3xlXD-Mdycd4"
   },
   "source": [
    "# 학습 데이터 복사본 생성\n",
    "traindata = train.copy()"
   ],
   "execution_count": 13,
   "outputs": []
  },
  {
   "cell_type": "code",
   "metadata": {
    "colab": {
     "background_save": true
    },
    "id": "Ta15KckRy8Q2",
    "outputId": "a01a03a5-9283-4c78-b23b-8d3283a558cb"
   },
   "source": [
    "# 타깃 변수(퇴근시간 승차인원) 분포 시각화\n",
    "sns.distplot(traindata['18~20_ride'], kde=False, bins=50)\n",
    "plt.axis([0, 50, 0, 450000])\n",
    "plt.title(\"퇴근 시간 승차 인원 히스토그램\")\n",
    "plt.show()"
   ],
   "execution_count": 14,
   "outputs": [
    {
     "data": {
      "text/plain": "<Figure size 432x288 with 1 Axes>",
      "image/png": "[encoded data removed]"
     },
     "metadata": {
      "needs_background": "light"
     },
     "output_type": "display_data"
    }
   ]
  },
  {
   "cell_type": "code",
   "metadata": {
    "colab": {
     "background_save": true
    },
    "id": "h8NKhmih0KF9",
    "outputId": "978f418c-8434-4763-94dc-e6c9b8e98d73"
   },
   "source": [
    "traindata.groupby('18~20_ride').size().head()"
   ],
   "execution_count": 22,
   "outputs": [
    {
     "data": {
      "text/plain": "18~20_ride\n0.0    296528\n1.0     44268\n2.0     23752\n3.0     13560\n4.0      8630\ndtype: int64"
     },
     "execution_count": 22,
     "metadata": {},
     "output_type": "execute_result"
    }
   ]
  },
  {
   "cell_type": "code",
   "metadata": {
    "colab": {
     "background_save": true
    },
    "id": "OicKTF49kQ4-"
   },
   "source": [
    "# 요일 변수 생성\n",
    "# 날짜 형으로 변환\n",
    "traindata['date'] = pd.to_datetime(traindata['date'])\n",
    "# 요일을 문자형으로 추출해 변수 생성\n",
    "traindata['weekday'] = traindata['date'].dt.strftime('%a')"
   ],
   "execution_count": 23,
   "outputs": []
  },
  {
   "cell_type": "code",
   "metadata": {
    "colab": {
     "background_save": true
    },
    "id": "7CfWpQZLllnQ",
    "outputId": "bd9cf378-c4c6-4f2d-affd-e379e5b561c4"
   },
   "source": [
    "traindata[['date', 'weekday']].head()"
   ],
   "execution_count": 40,
   "outputs": [
    {
     "data": {
      "text/plain": "        date weekday\n0 2019-09-01     Sun\n1 2019-09-01     Sun\n2 2019-09-01     Sun\n3 2019-09-01     Sun\n4 2019-09-01     Sun",
      "text/html": "<div>\n<style scoped>\n    .dataframe tbody tr th:only-of-type {\n        vertical-align: middle;\n    }\n\n    .dataframe tbody tr th {\n        vertical-align: top;\n    }\n\n    .dataframe thead th {\n        text-align: right;\n    }\n</style>\n<table border=\"1\" class=\"dataframe\">\n  <thead>\n    <tr style=\"text-align: right;\">\n      <th></th>\n      <th>date</th>\n      <th>weekday</th>\n    </tr>\n  </thead>\n  <tbody>\n    <tr>\n      <th>0</th>\n      <td>2019-09-01</td>\n      <td>Sun</td>\n    </tr>\n    <tr>\n      <th>1</th>\n      <td>2019-09-01</td>\n      <td>Sun</td>\n    </tr>\n    <tr>\n      <th>2</th>\n      <td>2019-09-01</td>\n      <td>Sun</td>\n    </tr>\n    <tr>\n      <th>3</th>\n      <td>2019-09-01</td>\n      <td>Sun</td>\n    </tr>\n    <tr>\n      <th>4</th>\n      <td>2019-09-01</td>\n      <td>Sun</td>\n    </tr>\n  </tbody>\n</table>\n</div>"
     },
     "execution_count": 40,
     "metadata": {},
     "output_type": "execute_result"
    }
   ]
  },
  {
   "cell_type": "code",
   "metadata": {
    "colab": {
     "background_save": true
    },
    "id": "iJmcW8AqmUz6",
    "outputId": "d0a232d8-a782-445d-e2c0-1ef85608c5dc"
   },
   "source": [
    "traindata[['date', 'weekday']].info()"
   ],
   "execution_count": 27,
   "outputs": [
    {
     "name": "stdout",
     "output_type": "stream",
     "text": [
      "<class 'pandas.core.frame.DataFrame'>\n",
      "RangeIndex: 415423 entries, 0 to 415422\n",
      "Data columns (total 2 columns):\n",
      " #   Column   Non-Null Count   Dtype         \n",
      "---  ------   --------------   -----         \n",
      " 0   date     415423 non-null  datetime64[ns]\n",
      " 1   weekday  415423 non-null  object        \n",
      "dtypes: datetime64[ns](1), object(1)\n",
      "memory usage: 6.3+ MB\n"
     ]
    }
   ]
  },
  {
   "cell_type": "code",
   "metadata": {
    "colab": {
     "background_save": true
    },
    "id": "F-80oFY4mcPi",
    "outputId": "3fc9a4eb-6f8c-412f-d5cf-97a729c24822"
   },
   "source": [
    "# 요일별 퇴근시간 평균 탑승객 수 시각화\n",
    "sns.barplot(x=\"weekday\", y=\"18~20_ride\", data=traindata)\n",
    "plt.title(\"요일에 따른 퇴근 시간 평균 탑승객 수\")     # number of riders at rushour by weekday\n",
    "plt.show"
   ],
   "execution_count": 30,
   "outputs": [
    {
     "data": {
      "text/plain": "<function matplotlib.pyplot.show(close=None, block=None)>"
     },
     "execution_count": 30,
     "metadata": {},
     "output_type": "execute_result"
    },
    {
     "data": {
      "text/plain": "<Figure size 432x288 with 1 Axes>",
      "image/png": "[encoded data removed]"
     },
     "metadata": {
      "needs_background": "light"
     },
     "output_type": "display_data"
    }
   ]
  },
  {
   "cell_type": "code",
   "metadata": {
    "colab": {
     "background_save": true
    },
    "id": "z9dgzL_Gn1Yf",
    "outputId": "77a1814f-ce87-4b23-8b07-e0ba2ad29759"
   },
   "source": [
    "# 버스 종류별 퇴근시간 평균 탑승객 수 시각화\n",
    "sns.barplot(x=\"in_out\", y=\"18~20_ride\", data=traindata)\n",
    "plt.title(\"버스 종류에 따른 평균 탑승객 수\")       # number of riders by busType\n",
    "plt.show()"
   ],
   "execution_count": 29,
   "outputs": [
    {
     "data": {
      "text/plain": "<Figure size 432x288 with 1 Axes>",
      "image/png": "[encoded data removed]"
     },
     "metadata": {
      "needs_background": "light"
     },
     "output_type": "display_data"
    }
   ]
  },
  {
   "cell_type": "code",
   "metadata": {
    "colab": {
     "background_save": true
    },
    "id": "X50GXfs0vZpC"
   },
   "source": [
    "# 일별 출퇴근 시간의 총 승차 인원 데이터 생성\n",
    "traindata['8~10_ride'] = traindata['8~9_ride'] + traindata['9~10_ride']\n",
    "eda_data = traindata.groupby('date')[['18~20_ride', '8~10_ride']].agg('sum').reset_index()"
   ],
   "execution_count": 41,
   "outputs": []
  },
  {
   "cell_type": "code",
   "metadata": {
    "colab": {
     "background_save": true
    },
    "id": "4GbXk0Guy6hn",
    "outputId": "935355f5-7199-4f77-8a19-54f00781e1b3"
   },
   "source": [
    "eda_data.head()"
   ],
   "execution_count": 42,
   "outputs": [
    {
     "data": {
      "text/plain": "        date  18~20_ride  8~10_ride\n0 2019-09-01     11537.0    11957.0\n1 2019-09-02     20561.0    21844.0\n2 2019-09-03     19743.0    25756.0\n3 2019-09-04     20133.0    21472.0\n4 2019-09-05     20392.0    26331.0",
      "text/html": "<div>\n<style scoped>\n    .dataframe tbody tr th:only-of-type {\n        vertical-align: middle;\n    }\n\n    .dataframe tbody tr th {\n        vertical-align: top;\n    }\n\n    .dataframe thead th {\n        text-align: right;\n    }\n</style>\n<table border=\"1\" class=\"dataframe\">\n  <thead>\n    <tr style=\"text-align: right;\">\n      <th></th>\n      <th>date</th>\n      <th>18~20_ride</th>\n      <th>8~10_ride</th>\n    </tr>\n  </thead>\n  <tbody>\n    <tr>\n      <th>0</th>\n      <td>2019-09-01</td>\n      <td>11537.0</td>\n      <td>11957.0</td>\n    </tr>\n    <tr>\n      <th>1</th>\n      <td>2019-09-02</td>\n      <td>20561.0</td>\n      <td>21844.0</td>\n    </tr>\n    <tr>\n      <th>2</th>\n      <td>2019-09-03</td>\n      <td>19743.0</td>\n      <td>25756.0</td>\n    </tr>\n    <tr>\n      <th>3</th>\n      <td>2019-09-04</td>\n      <td>20133.0</td>\n      <td>21472.0</td>\n    </tr>\n    <tr>\n      <th>4</th>\n      <td>2019-09-05</td>\n      <td>20392.0</td>\n      <td>26331.0</td>\n    </tr>\n  </tbody>\n</table>\n</div>"
     },
     "execution_count": 42,
     "metadata": {},
     "output_type": "execute_result"
    }
   ]
  },
  {
   "cell_type": "code",
   "metadata": {
    "colab": {
     "background_save": true
    },
    "id": "ukNVmpc4zEdR",
    "outputId": "c6e1335a-2602-42f9-970e-c9a5b309db40",
    "pycharm": {
     "name": "#%%\n"
    }
   },
   "source": [
    "# 일별 출퇴근 시간 탑승객 수 시각화\n",
    "plt.plot(\"date\", \"18~20_ride\", \"g-\", label=\"퇴근 시간 탑승객 수\", data=eda_data)\n",
    "plt.plot(\"date\", \"8~10_ride\", \"b-\", label=\"출근 시간 탑승객 수\", data=eda_data)\n",
    "plt.gcf().autofmt_xdate()         # x축의 라벨이 서로 겹치지 않도록 설정\n",
    "plt.legend(loc=0)                 # 그래프 상에서 최적의 위치에 범례 표시\n",
    "plt.title(\"일별 출퇴근 시간 탑승객 수\")\n",
    "plt.show()"
   ],
   "execution_count": 43,
   "outputs": [
    {
     "data": {
      "text/plain": "<Figure size 432x288 with 1 Axes>",
      "image/png": "[encoded data removed]"
     },
     "metadata": {
      "needs_background": "light"
     },
     "output_type": "display_data"
    }
   ]
  }
 ]
}