{
 "nbformat": 4,
 "nbformat_minor": 0,
 "metadata": {
  "colab": {
   "name": "busRidersPredic.ipynb",
   "provenance": [],
   "authorship_tag": "ABX9TyNHp1C6XD65Y1GGWbMcJdF1"
  },
  "kernelspec": {
   "name": "python3",
   "language": "python",
   "display_name": "Python 3"
  },
  "language_info": {
   "name": "python"
  }
 },
 "cells": [
  {
   "cell_type": "code",
   "metadata": {
    "colab": {
     "background_save": true
    },
    "id": "nNFv6Wjeg6uU",
    "outputId": "7599cf92-6e1a-442d-cddc-2347672eb23e"
   },
   "source": [
    "# from google.colab import drive\n",
    "# drive.mount('./mount')"
   ],
   "execution_count": 1,
   "outputs": []
  },
  {
   "cell_type": "code",
   "metadata": {
    "colab": {
     "background_save": true
    },
    "id": "x08F-Ytgh1Ni"
   },
   "source": [
    "import pandas as pd\n",
    "\n",
    "train = pd.read_csv('data/train.csv')\n",
    "test = pd.read_csv('data/test.csv')\n",
    "bts = pd.read_csv('data/bus_bts.csv')\n",
    "jeju_life = pd.read_csv('data/jeju_financial_life_data.csv')\n",
    "weather = pd.read_csv('data/weather.csv', encoding='cp949')\n",
    "rain = pd.read_csv('data/rain.csv', encoding='utf-8')"
   ],
   "execution_count": 2,
   "outputs": []
  },
  {
   "cell_type": "code",
   "metadata": {
    "colab": {
     "background_save": true
    },
    "id": "KEXS1oS6j1RL",
    "outputId": "d8c94b34-e41f-48a4-a17c-3e313da5ba50"
   },
   "source": [
    "train.head()"
   ],
   "execution_count": 3,
   "outputs": [
    {
     "data": {
      "text/plain": "   id        date  bus_route_id in_out  station_code  station_name  latitude  \\\n0   0  2019-09-01       4270000     시외           344         제주썬호텔  33.48990   \n1   1  2019-09-01       4270000     시외           357          한라병원  33.48944   \n2   2  2019-09-01       4270000     시외           432          정존마을  33.48181   \n3   3  2019-09-01       4270000     시내          1579  제주국제공항(600번)  33.50577   \n4   4  2019-09-01       4270000     시내          1646      중문관광단지입구  33.25579   \n\n   longitude  6~7_ride  7~8_ride  ...  9~10_ride  10~11_ride  11~12_ride  \\\n0  126.49373       0.0       1.0  ...        5.0         2.0         6.0   \n1  126.48508       1.0       4.0  ...        2.0         5.0         6.0   \n2  126.47352       1.0       1.0  ...        2.0         0.0         0.0   \n3  126.49252       0.0      17.0  ...       26.0        14.0        16.0   \n4  126.41260       0.0       0.0  ...        0.0         0.0         0.0   \n\n   6~7_takeoff  7~8_takeoff  8~9_takeoff  9~10_takeoff  10~11_takeoff  \\\n0          0.0          0.0          0.0           0.0            0.0   \n1          0.0          0.0          0.0           0.0            0.0   \n2          0.0          0.0          0.0           0.0            0.0   \n3          0.0          0.0          0.0           0.0            0.0   \n4          0.0          0.0          0.0           1.0            0.0   \n\n   11~12_takeoff  18~20_ride  \n0            0.0         0.0  \n1            0.0         5.0  \n2            0.0         2.0  \n3            0.0        53.0  \n4            0.0         0.0  \n\n[5 rows x 21 columns]",
      "text/html": "<div>\n<style scoped>\n    .dataframe tbody tr th:only-of-type {\n        vertical-align: middle;\n    }\n\n    .dataframe tbody tr th {\n        vertical-align: top;\n    }\n\n    .dataframe thead th {\n        text-align: right;\n    }\n</style>\n<table border=\"1\" class=\"dataframe\">\n  <thead>\n    <tr style=\"text-align: right;\">\n      <th></th>\n      <th>id</th>\n      <th>date</th>\n      <th>bus_route_id</th>\n      <th>in_out</th>\n      <th>station_code</th>\n      <th>station_name</th>\n      <th>latitude</th>\n      <th>longitude</th>\n      <th>6~7_ride</th>\n      <th>7~8_ride</th>\n      <th>...</th>\n      <th>9~10_ride</th>\n      <th>10~11_ride</th>\n      <th>11~12_ride</th>\n      <th>6~7_takeoff</th>\n      <th>7~8_takeoff</th>\n      <th>8~9_takeoff</th>\n      <th>9~10_takeoff</th>\n      <th>10~11_takeoff</th>\n      <th>11~12_takeoff</th>\n      <th>18~20_ride</th>\n    </tr>\n  </thead>\n  <tbody>\n    <tr>\n      <th>0</th>\n      <td>0</td>\n      <td>2019-09-01</td>\n      <td>4270000</td>\n      <td>시외</td>\n      <td>344</td>\n      <td>제주썬호텔</td>\n      <td>33.48990</td>\n      <td>126.49373</td>\n      <td>0.0</td>\n      <td>1.0</td>\n      <td>...</td>\n      <td>5.0</td>\n      <td>2.0</td>\n      <td>6.0</td>\n      <td>0.0</td>\n      <td>0.0</td>\n      <td>0.0</td>\n      <td>0.0</td>\n      <td>0.0</td>\n      <td>0.0</td>\n      <td>0.0</td>\n    </tr>\n    <tr>\n      <th>1</th>\n      <td>1</td>\n      <td>2019-09-01</td>\n      <td>4270000</td>\n      <td>시외</td>\n      <td>357</td>\n      <td>한라병원</td>\n      <td>33.48944</td>\n      <td>126.48508</td>\n      <td>1.0</td>\n      <td>4.0</td>\n      <td>...</td>\n      <td>2.0</td>\n      <td>5.0</td>\n      <td>6.0</td>\n      <td>0.0</td>\n      <td>0.0</td>\n      <td>0.0</td>\n      <td>0.0</td>\n      <td>0.0</td>\n      <td>0.0</td>\n      <td>5.0</td>\n    </tr>\n    <tr>\n      <th>2</th>\n      <td>2</td>\n      <td>2019-09-01</td>\n      <td>4270000</td>\n      <td>시외</td>\n      <td>432</td>\n      <td>정존마을</td>\n      <td>33.48181</td>\n      <td>126.47352</td>\n      <td>1.0</td>\n      <td>1.0</td>\n      <td>...</td>\n      <td>2.0</td>\n      <td>0.0</td>\n      <td>0.0</td>\n      <td>0.0</td>\n      <td>0.0</td>\n      <td>0.0</td>\n      <td>0.0</td>\n      <td>0.0</td>\n      <td>0.0</td>\n      <td>2.0</td>\n    </tr>\n    <tr>\n      <th>3</th>\n      <td>3</td>\n      <td>2019-09-01</td>\n      <td>4270000</td>\n      <td>시내</td>\n      <td>1579</td>\n      <td>제주국제공항(600번)</td>\n      <td>33.50577</td>\n      <td>126.49252</td>\n      <td>0.0</td>\n      <td>17.0</td>\n      <td>...</td>\n      <td>26.0</td>\n      <td>14.0</td>\n      <td>16.0</td>\n      <td>0.0</td>\n      <td>0.0</td>\n      <td>0.0</td>\n      <td>0.0</td>\n      <td>0.0</td>\n      <td>0.0</td>\n      <td>53.0</td>\n    </tr>\n    <tr>\n      <th>4</th>\n      <td>4</td>\n      <td>2019-09-01</td>\n      <td>4270000</td>\n      <td>시내</td>\n      <td>1646</td>\n      <td>중문관광단지입구</td>\n      <td>33.25579</td>\n      <td>126.41260</td>\n      <td>0.0</td>\n      <td>0.0</td>\n      <td>...</td>\n      <td>0.0</td>\n      <td>0.0</td>\n      <td>0.0</td>\n      <td>0.0</td>\n      <td>0.0</td>\n      <td>0.0</td>\n      <td>1.0</td>\n      <td>0.0</td>\n      <td>0.0</td>\n      <td>0.0</td>\n    </tr>\n  </tbody>\n</table>\n<p>5 rows × 21 columns</p>\n</div>"
     },
     "execution_count": 3,
     "metadata": {},
     "output_type": "execute_result"
    }
   ]
  },
  {
   "cell_type": "code",
   "metadata": {
    "colab": {
     "background_save": true
    },
    "id": "pazoNr0XlmZ-",
    "outputId": "c7fb65e6-b5ac-4d0f-fd0a-1cf98667763d"
   },
   "source": [
    "train.info()"
   ],
   "execution_count": 4,
   "outputs": [
    {
     "name": "stdout",
     "output_type": "stream",
     "text": [
      "<class 'pandas.core.frame.DataFrame'>\n",
      "RangeIndex: 415423 entries, 0 to 415422\n",
      "Data columns (total 21 columns):\n",
      " #   Column         Non-Null Count   Dtype  \n",
      "---  ------         --------------   -----  \n",
      " 0   id             415423 non-null  int64  \n",
      " 1   date           415423 non-null  object \n",
      " 2   bus_route_id   415423 non-null  int64  \n",
      " 3   in_out         415423 non-null  object \n",
      " 4   station_code   415423 non-null  int64  \n",
      " 5   station_name   415423 non-null  object \n",
      " 6   latitude       415423 non-null  float64\n",
      " 7   longitude      415423 non-null  float64\n",
      " 8   6~7_ride       415423 non-null  float64\n",
      " 9   7~8_ride       415423 non-null  float64\n",
      " 10  8~9_ride       415423 non-null  float64\n",
      " 11  9~10_ride      415423 non-null  float64\n",
      " 12  10~11_ride     415423 non-null  float64\n",
      " 13  11~12_ride     415423 non-null  float64\n",
      " 14  6~7_takeoff    415423 non-null  float64\n",
      " 15  7~8_takeoff    415423 non-null  float64\n",
      " 16  8~9_takeoff    415423 non-null  float64\n",
      " 17  9~10_takeoff   415423 non-null  float64\n",
      " 18  10~11_takeoff  415423 non-null  float64\n",
      " 19  11~12_takeoff  415423 non-null  float64\n",
      " 20  18~20_ride     415423 non-null  float64\n",
      "dtypes: float64(15), int64(3), object(3)\n",
      "memory usage: 66.6+ MB\n"
     ]
    }
   ]
  },
  {
   "cell_type": "code",
   "metadata": {
    "colab": {
     "background_save": true
    },
    "id": "LM_gLPWWmhGW",
    "outputId": "df9dc571-5554-45b1-eee3-c9be0792e608"
   },
   "source": [
    "bts.head()"
   ],
   "execution_count": 5,
   "outputs": [
    {
     "data": {
      "text/plain": "   user_card_id  bus_route_id     vhc_id  geton_date geton_time  \\\n0  1.010010e+15      23000000  149793674  2019-09-10   06:34:45   \n1  1.010010e+15      23000000  149793674  2019-09-10   06:34:58   \n2  1.019160e+15      21420000  149793535  2019-09-10   07:19:07   \n3  1.019150e+15      21420000  149793512  2019-09-09   09:14:47   \n4  1.010010e+15      21420000  149793512  2019-09-09   09:28:53   \n\n   geton_station_code geton_station_name getoff_date getoff_time  \\\n0                 360              노형오거리  2019-09-10    07:10:31   \n1                 360              노형오거리  2019-09-10    06:56:27   \n2                2495     동광환승정류장4(제주방면)  2019-09-10    07:40:29   \n3                3282    대정환승정류장(대정읍사무소)  2019-09-09    10:02:46   \n4                2820              삼정지에듀  2019-09-09    10:21:37   \n\n   getoff_station_code getoff_station_name  user_category  user_count  \n0                592.0              화북초등학교              1           1  \n1               3273.0          고산동산(광양방면)              1           1  \n2                431.0                정존마을              4           1  \n3                431.0                정존마을              1           1  \n4               2972.0          제주국제공항(종점)              4           1  ",
      "text/html": "<div>\n<style scoped>\n    .dataframe tbody tr th:only-of-type {\n        vertical-align: middle;\n    }\n\n    .dataframe tbody tr th {\n        vertical-align: top;\n    }\n\n    .dataframe thead th {\n        text-align: right;\n    }\n</style>\n<table border=\"1\" class=\"dataframe\">\n  <thead>\n    <tr style=\"text-align: right;\">\n      <th></th>\n      <th>user_card_id</th>\n      <th>bus_route_id</th>\n      <th>vhc_id</th>\n      <th>geton_date</th>\n      <th>geton_time</th>\n      <th>geton_station_code</th>\n      <th>geton_station_name</th>\n      <th>getoff_date</th>\n      <th>getoff_time</th>\n      <th>getoff_station_code</th>\n      <th>getoff_station_name</th>\n      <th>user_category</th>\n      <th>user_count</th>\n    </tr>\n  </thead>\n  <tbody>\n    <tr>\n      <th>0</th>\n      <td>1.010010e+15</td>\n      <td>23000000</td>\n      <td>149793674</td>\n      <td>2019-09-10</td>\n      <td>06:34:45</td>\n      <td>360</td>\n      <td>노형오거리</td>\n      <td>2019-09-10</td>\n      <td>07:10:31</td>\n      <td>592.0</td>\n      <td>화북초등학교</td>\n      <td>1</td>\n      <td>1</td>\n    </tr>\n    <tr>\n      <th>1</th>\n      <td>1.010010e+15</td>\n      <td>23000000</td>\n      <td>149793674</td>\n      <td>2019-09-10</td>\n      <td>06:34:58</td>\n      <td>360</td>\n      <td>노형오거리</td>\n      <td>2019-09-10</td>\n      <td>06:56:27</td>\n      <td>3273.0</td>\n      <td>고산동산(광양방면)</td>\n      <td>1</td>\n      <td>1</td>\n    </tr>\n    <tr>\n      <th>2</th>\n      <td>1.019160e+15</td>\n      <td>21420000</td>\n      <td>149793535</td>\n      <td>2019-09-10</td>\n      <td>07:19:07</td>\n      <td>2495</td>\n      <td>동광환승정류장4(제주방면)</td>\n      <td>2019-09-10</td>\n      <td>07:40:29</td>\n      <td>431.0</td>\n      <td>정존마을</td>\n      <td>4</td>\n      <td>1</td>\n    </tr>\n    <tr>\n      <th>3</th>\n      <td>1.019150e+15</td>\n      <td>21420000</td>\n      <td>149793512</td>\n      <td>2019-09-09</td>\n      <td>09:14:47</td>\n      <td>3282</td>\n      <td>대정환승정류장(대정읍사무소)</td>\n      <td>2019-09-09</td>\n      <td>10:02:46</td>\n      <td>431.0</td>\n      <td>정존마을</td>\n      <td>1</td>\n      <td>1</td>\n    </tr>\n    <tr>\n      <th>4</th>\n      <td>1.010010e+15</td>\n      <td>21420000</td>\n      <td>149793512</td>\n      <td>2019-09-09</td>\n      <td>09:28:53</td>\n      <td>2820</td>\n      <td>삼정지에듀</td>\n      <td>2019-09-09</td>\n      <td>10:21:37</td>\n      <td>2972.0</td>\n      <td>제주국제공항(종점)</td>\n      <td>4</td>\n      <td>1</td>\n    </tr>\n  </tbody>\n</table>\n</div>"
     },
     "execution_count": 5,
     "metadata": {},
     "output_type": "execute_result"
    }
   ]
  },
  {
   "cell_type": "code",
   "metadata": {
    "colab": {
     "background_save": true
    },
    "id": "anfD9DlunuUz",
    "outputId": "bac025e3-c75d-4e97-c9e5-10459c4bfbaf"
   },
   "source": [
    "bts.info(null_counts=True)"
   ],
   "execution_count": 6,
   "outputs": [
    {
     "name": "stderr",
     "output_type": "stream",
     "text": [
      "/Users/charles/Documents/GitHub/busRidersPredic/venv/lib/python3.7/site-packages/ipykernel_launcher.py:1: FutureWarning: null_counts is deprecated. Use show_counts instead\n",
      "  \"\"\"Entry point for launching an IPython kernel.\n"
     ]
    },
    {
     "name": "stdout",
     "output_type": "stream",
     "text": [
      "<class 'pandas.core.frame.DataFrame'>\n",
      "RangeIndex: 2409414 entries, 0 to 2409413\n",
      "Data columns (total 13 columns):\n",
      " #   Column               Non-Null Count    Dtype  \n",
      "---  ------               --------------    -----  \n",
      " 0   user_card_id         2409414 non-null  float64\n",
      " 1   bus_route_id         2409414 non-null  int64  \n",
      " 2   vhc_id               2409414 non-null  int64  \n",
      " 3   geton_date           2409414 non-null  object \n",
      " 4   geton_time           2409414 non-null  object \n",
      " 5   geton_station_code   2409414 non-null  int64  \n",
      " 6   geton_station_name   2409365 non-null  object \n",
      " 7   getoff_date          1513678 non-null  object \n",
      " 8   getoff_time          1513678 non-null  object \n",
      " 9   getoff_station_code  1513678 non-null  float64\n",
      " 10  getoff_station_name  1513639 non-null  object \n",
      " 11  user_category        2409414 non-null  int64  \n",
      " 12  user_count           2409414 non-null  int64  \n",
      "dtypes: float64(2), int64(5), object(6)\n",
      "memory usage: 239.0+ MB\n"
     ]
    }
   ]
  },
  {
   "cell_type": "code",
   "metadata": {
    "colab": {
     "background_save": true
    },
    "id": "xk7lGDfMoISl",
    "outputId": "7ec0eb67-b1ad-49f2-db94-0205dfc6a15e"
   },
   "source": [
    "pd.options.display.max_info_columns"
   ],
   "execution_count": 7,
   "outputs": [
    {
     "data": {
      "text/plain": "100"
     },
     "execution_count": 7,
     "metadata": {},
     "output_type": "execute_result"
    }
   ]
  },
  {
   "cell_type": "code",
   "metadata": {
    "colab": {
     "background_save": true
    },
    "id": "Z-_jrkALqF1w",
    "outputId": "4482c2e2-dc9a-4d01-e309-37d627129738"
   },
   "source": [
    "pd.options.display.max_info_rows"
   ],
   "execution_count": 8,
   "outputs": [
    {
     "data": {
      "text/plain": "1690785"
     },
     "execution_count": 8,
     "metadata": {},
     "output_type": "execute_result"
    }
   ]
  },
  {
   "cell_type": "code",
   "metadata": {
    "colab": {
     "background_save": true
    },
    "id": "fxiGUI1dqZMe",
    "outputId": "ec2c2138-e8fe-4d02-ac7a-1b159a8d9490"
   },
   "source": [
    "jeju_life.head()"
   ],
   "execution_count": 9,
   "outputs": [
    {
     "data": {
      "text/plain": "   zip_cd  year_month      x_axis     y_axis  sex  age  job_majorc  \\\n0   63299      201902  126.565889  33.513210    1   54         0.0   \n1   63560      201902  126.497121  33.247225    1   59         0.0   \n2   63560      201902  126.497121  33.247225    2   49         0.0   \n3   63560      201902  126.497121  33.247225    1   54         0.0   \n4   63560      201902  126.497121  33.247225    1   49         0.0   \n\n   job_smallc  job_public  job_profession  ...   avg_debt  avg_debt_credit  \\\n0    0.166667    0.000000        0.000000  ...   24285196         11419148   \n1    0.125000    0.000000        0.000000  ...  108571077         25896955   \n2    0.250000    0.000000        0.000000  ...   26424335         12015311   \n3    0.181818    0.090909        0.090909  ...  647716901         39952556   \n4    0.250000    0.000000        0.000000  ...  248232725         35712501   \n\n   avg_debt_noneb  avg_debt_mortgage  avg_debt_deposit  avg_debt_collateral  \\\n0         8863595           55550000                 0             55550000   \n1        13317443                  0         200000000             74421721   \n2        12015311           40833359                 0             40833359   \n3        21558153           36697792                 0            706300496   \n4         5568751                  0                 0            626810674   \n\n   avg_credit_rat  medium_resid_rat  large_resid_rat  vehicle_own_rat  \n0               5         -999999.0        -999999.0         0.000000  \n1               4         -999999.0        -999999.0         0.000000  \n2               2         -999999.0        -999999.0         0.000000  \n3               4         -999999.0        -999999.0         0.166667  \n4               5         -999999.0        -999999.0         0.000000  \n\n[5 rows x 27 columns]",
      "text/html": "<div>\n<style scoped>\n    .dataframe tbody tr th:only-of-type {\n        vertical-align: middle;\n    }\n\n    .dataframe tbody tr th {\n        vertical-align: top;\n    }\n\n    .dataframe thead th {\n        text-align: right;\n    }\n</style>\n<table border=\"1\" class=\"dataframe\">\n  <thead>\n    <tr style=\"text-align: right;\">\n      <th></th>\n      <th>zip_cd</th>\n      <th>year_month</th>\n      <th>x_axis</th>\n      <th>y_axis</th>\n      <th>sex</th>\n      <th>age</th>\n      <th>job_majorc</th>\n      <th>job_smallc</th>\n      <th>job_public</th>\n      <th>job_profession</th>\n      <th>...</th>\n      <th>avg_debt</th>\n      <th>avg_debt_credit</th>\n      <th>avg_debt_noneb</th>\n      <th>avg_debt_mortgage</th>\n      <th>avg_debt_deposit</th>\n      <th>avg_debt_collateral</th>\n      <th>avg_credit_rat</th>\n      <th>medium_resid_rat</th>\n      <th>large_resid_rat</th>\n      <th>vehicle_own_rat</th>\n    </tr>\n  </thead>\n  <tbody>\n    <tr>\n      <th>0</th>\n      <td>63299</td>\n      <td>201902</td>\n      <td>126.565889</td>\n      <td>33.513210</td>\n      <td>1</td>\n      <td>54</td>\n      <td>0.0</td>\n      <td>0.166667</td>\n      <td>0.000000</td>\n      <td>0.000000</td>\n      <td>...</td>\n      <td>24285196</td>\n      <td>11419148</td>\n      <td>8863595</td>\n      <td>55550000</td>\n      <td>0</td>\n      <td>55550000</td>\n      <td>5</td>\n      <td>-999999.0</td>\n      <td>-999999.0</td>\n      <td>0.000000</td>\n    </tr>\n    <tr>\n      <th>1</th>\n      <td>63560</td>\n      <td>201902</td>\n      <td>126.497121</td>\n      <td>33.247225</td>\n      <td>1</td>\n      <td>59</td>\n      <td>0.0</td>\n      <td>0.125000</td>\n      <td>0.000000</td>\n      <td>0.000000</td>\n      <td>...</td>\n      <td>108571077</td>\n      <td>25896955</td>\n      <td>13317443</td>\n      <td>0</td>\n      <td>200000000</td>\n      <td>74421721</td>\n      <td>4</td>\n      <td>-999999.0</td>\n      <td>-999999.0</td>\n      <td>0.000000</td>\n    </tr>\n    <tr>\n      <th>2</th>\n      <td>63560</td>\n      <td>201902</td>\n      <td>126.497121</td>\n      <td>33.247225</td>\n      <td>2</td>\n      <td>49</td>\n      <td>0.0</td>\n      <td>0.250000</td>\n      <td>0.000000</td>\n      <td>0.000000</td>\n      <td>...</td>\n      <td>26424335</td>\n      <td>12015311</td>\n      <td>12015311</td>\n      <td>40833359</td>\n      <td>0</td>\n      <td>40833359</td>\n      <td>2</td>\n      <td>-999999.0</td>\n      <td>-999999.0</td>\n      <td>0.000000</td>\n    </tr>\n    <tr>\n      <th>3</th>\n      <td>63560</td>\n      <td>201902</td>\n      <td>126.497121</td>\n      <td>33.247225</td>\n      <td>1</td>\n      <td>54</td>\n      <td>0.0</td>\n      <td>0.181818</td>\n      <td>0.090909</td>\n      <td>0.090909</td>\n      <td>...</td>\n      <td>647716901</td>\n      <td>39952556</td>\n      <td>21558153</td>\n      <td>36697792</td>\n      <td>0</td>\n      <td>706300496</td>\n      <td>4</td>\n      <td>-999999.0</td>\n      <td>-999999.0</td>\n      <td>0.166667</td>\n    </tr>\n    <tr>\n      <th>4</th>\n      <td>63560</td>\n      <td>201902</td>\n      <td>126.497121</td>\n      <td>33.247225</td>\n      <td>1</td>\n      <td>49</td>\n      <td>0.0</td>\n      <td>0.250000</td>\n      <td>0.000000</td>\n      <td>0.000000</td>\n      <td>...</td>\n      <td>248232725</td>\n      <td>35712501</td>\n      <td>5568751</td>\n      <td>0</td>\n      <td>0</td>\n      <td>626810674</td>\n      <td>5</td>\n      <td>-999999.0</td>\n      <td>-999999.0</td>\n      <td>0.000000</td>\n    </tr>\n  </tbody>\n</table>\n<p>5 rows × 27 columns</p>\n</div>"
     },
     "execution_count": 9,
     "metadata": {},
     "output_type": "execute_result"
    }
   ]
  },
  {
   "cell_type": "code",
   "metadata": {
    "colab": {
     "background_save": true
    },
    "id": "1jwbteFQuDn0",
    "outputId": "a9471612-d19f-4b95-a4b8-a3a36ea19d5f"
   },
   "source": [
    "jeju_life.info()"
   ],
   "execution_count": 10,
   "outputs": [
    {
     "name": "stdout",
     "output_type": "stream",
     "text": [
      "<class 'pandas.core.frame.DataFrame'>\n",
      "RangeIndex: 10422 entries, 0 to 10421\n",
      "Data columns (total 27 columns):\n",
      " #   Column               Non-Null Count  Dtype  \n",
      "---  ------               --------------  -----  \n",
      " 0   zip_cd               10422 non-null  int64  \n",
      " 1   year_month           10422 non-null  int64  \n",
      " 2   x_axis               10422 non-null  float64\n",
      " 3   y_axis               10422 non-null  float64\n",
      " 4   sex                  10422 non-null  int64  \n",
      " 5   age                  10422 non-null  int64  \n",
      " 6   job_majorc           10422 non-null  float64\n",
      " 7   job_smallc           10422 non-null  float64\n",
      " 8   job_public           10422 non-null  float64\n",
      " 9   job_profession       10422 non-null  float64\n",
      " 10  job_self             10422 non-null  float64\n",
      " 11  job_none             10422 non-null  float64\n",
      " 12  job_other            10422 non-null  float64\n",
      " 13  avg_income           10422 non-null  int64  \n",
      " 14  med_income           10422 non-null  int64  \n",
      " 15  avg_spend            10422 non-null  int64  \n",
      " 16  avg_foreign_spend    10422 non-null  int64  \n",
      " 17  avg_debt             10422 non-null  int64  \n",
      " 18  avg_debt_credit      10422 non-null  int64  \n",
      " 19  avg_debt_noneb       10422 non-null  int64  \n",
      " 20  avg_debt_mortgage    10422 non-null  int64  \n",
      " 21  avg_debt_deposit     10422 non-null  int64  \n",
      " 22  avg_debt_collateral  10422 non-null  int64  \n",
      " 23  avg_credit_rat       10422 non-null  int64  \n",
      " 24  medium_resid_rat     10422 non-null  float64\n",
      " 25  large_resid_rat      10422 non-null  float64\n",
      " 26  vehicle_own_rat      10422 non-null  float64\n",
      "dtypes: float64(12), int64(15)\n",
      "memory usage: 2.1 MB\n"
     ]
    }
   ]
  },
  {
   "cell_type": "code",
   "metadata": {
    "colab": {
     "background_save": true
    },
    "id": "beyFvHHyuIel",
    "outputId": "67baa030-3ced-4a66-cedc-356a6848a05a"
   },
   "source": [
    "weather.head()"
   ],
   "execution_count": 11,
   "outputs": [
    {
     "data": {
      "text/plain": "           날짜   현재일기  현재기온  체감온도   일강수\n0  2019-09-01     흐림  26.2  75.0     0\n1  2019-09-02   비 끝남  22.5  72.0  25.7\n2  2019-09-03     흐림  25.4  77.0  12.1\n3  2019-09-04  약한비단속  24.2  75.0  34.3\n4  2019-09-05   구름많음  27.6  79.0   0.1",
      "text/html": "<div>\n<style scoped>\n    .dataframe tbody tr th:only-of-type {\n        vertical-align: middle;\n    }\n\n    .dataframe tbody tr th {\n        vertical-align: top;\n    }\n\n    .dataframe thead th {\n        text-align: right;\n    }\n</style>\n<table border=\"1\" class=\"dataframe\">\n  <thead>\n    <tr style=\"text-align: right;\">\n      <th></th>\n      <th>날짜</th>\n      <th>현재일기</th>\n      <th>현재기온</th>\n      <th>체감온도</th>\n      <th>일강수</th>\n    </tr>\n  </thead>\n  <tbody>\n    <tr>\n      <th>0</th>\n      <td>2019-09-01</td>\n      <td>흐림</td>\n      <td>26.2</td>\n      <td>75.0</td>\n      <td>0</td>\n    </tr>\n    <tr>\n      <th>1</th>\n      <td>2019-09-02</td>\n      <td>비 끝남</td>\n      <td>22.5</td>\n      <td>72.0</td>\n      <td>25.7</td>\n    </tr>\n    <tr>\n      <th>2</th>\n      <td>2019-09-03</td>\n      <td>흐림</td>\n      <td>25.4</td>\n      <td>77.0</td>\n      <td>12.1</td>\n    </tr>\n    <tr>\n      <th>3</th>\n      <td>2019-09-04</td>\n      <td>약한비단속</td>\n      <td>24.2</td>\n      <td>75.0</td>\n      <td>34.3</td>\n    </tr>\n    <tr>\n      <th>4</th>\n      <td>2019-09-05</td>\n      <td>구름많음</td>\n      <td>27.6</td>\n      <td>79.0</td>\n      <td>0.1</td>\n    </tr>\n  </tbody>\n</table>\n</div>"
     },
     "execution_count": 11,
     "metadata": {},
     "output_type": "execute_result"
    }
   ]
  },
  {
   "cell_type": "code",
   "metadata": {
    "colab": {
     "background_save": true
    },
    "id": "1h2LxVuOveiV",
    "outputId": "9cb8357e-f889-4727-def1-83ac4d66e215"
   },
   "source": [
    "weather.info()"
   ],
   "execution_count": 12,
   "outputs": [
    {
     "name": "stdout",
     "output_type": "stream",
     "text": [
      "<class 'pandas.core.frame.DataFrame'>\n",
      "RangeIndex: 46 entries, 0 to 45\n",
      "Data columns (total 5 columns):\n",
      " #   Column  Non-Null Count  Dtype  \n",
      "---  ------  --------------  -----  \n",
      " 0   날짜      46 non-null     object \n",
      " 1   현재일기    46 non-null     object \n",
      " 2   현재기온    46 non-null     float64\n",
      " 3   체감온도    46 non-null     float64\n",
      " 4   일강수     46 non-null     object \n",
      "dtypes: float64(2), object(3)\n",
      "memory usage: 1.9+ KB\n"
     ]
    }
   ]
  },
  {
   "cell_type": "code",
   "metadata": {
    "colab": {
     "background_save": true
    },
    "id": "nutMWUXhwNMC",
    "outputId": "b1549f1b-ba2e-45df-f7ee-5cedc1c69e10"
   },
   "source": [
    "rain.head()"
   ],
   "execution_count": 13,
   "outputs": [
    {
     "data": {
      "text/plain": "      지점          일시     기온(°C)  강수량(mm)\n0  gosan  2019-09-01  23.916667     0.00\n1  gosan  2019-09-02  23.700000    12.10\n2  gosan  2019-09-03  23.550000     1.90\n3  gosan  2019-09-04  23.533333    12.84\n4  gosan  2019-09-05  26.033333     0.00",
      "text/html": "<div>\n<style scoped>\n    .dataframe tbody tr th:only-of-type {\n        vertical-align: middle;\n    }\n\n    .dataframe tbody tr th {\n        vertical-align: top;\n    }\n\n    .dataframe thead th {\n        text-align: right;\n    }\n</style>\n<table border=\"1\" class=\"dataframe\">\n  <thead>\n    <tr style=\"text-align: right;\">\n      <th></th>\n      <th>지점</th>\n      <th>일시</th>\n      <th>기온(°C)</th>\n      <th>강수량(mm)</th>\n    </tr>\n  </thead>\n  <tbody>\n    <tr>\n      <th>0</th>\n      <td>gosan</td>\n      <td>2019-09-01</td>\n      <td>23.916667</td>\n      <td>0.00</td>\n    </tr>\n    <tr>\n      <th>1</th>\n      <td>gosan</td>\n      <td>2019-09-02</td>\n      <td>23.700000</td>\n      <td>12.10</td>\n    </tr>\n    <tr>\n      <th>2</th>\n      <td>gosan</td>\n      <td>2019-09-03</td>\n      <td>23.550000</td>\n      <td>1.90</td>\n    </tr>\n    <tr>\n      <th>3</th>\n      <td>gosan</td>\n      <td>2019-09-04</td>\n      <td>23.533333</td>\n      <td>12.84</td>\n    </tr>\n    <tr>\n      <th>4</th>\n      <td>gosan</td>\n      <td>2019-09-05</td>\n      <td>26.033333</td>\n      <td>0.00</td>\n    </tr>\n  </tbody>\n</table>\n</div>"
     },
     "execution_count": 13,
     "metadata": {},
     "output_type": "execute_result"
    }
   ]
  },
  {
   "cell_type": "code",
   "metadata": {
    "colab": {
     "background_save": true
    },
    "id": "5_MFlwO3wvBR",
    "outputId": "e5a78913-a8f8-46cd-e77c-fb48a95c52d7"
   },
   "source": [
    "rain.info()"
   ],
   "execution_count": 14,
   "outputs": [
    {
     "name": "stdout",
     "output_type": "stream",
     "text": [
      "<class 'pandas.core.frame.DataFrame'>\n",
      "RangeIndex: 184 entries, 0 to 183\n",
      "Data columns (total 4 columns):\n",
      " #   Column   Non-Null Count  Dtype  \n",
      "---  ------   --------------  -----  \n",
      " 0   지점       184 non-null    object \n",
      " 1   일시       184 non-null    object \n",
      " 2   기온(°C)   184 non-null    float64\n",
      " 3   강수량(mm)  66 non-null     float64\n",
      "dtypes: float64(2), object(2)\n",
      "memory usage: 5.9+ KB\n"
     ]
    }
   ]
  },
  {
   "cell_type": "code",
   "metadata": {
    "colab": {
     "background_save": true
    },
    "id": "e2HXVIKqw0dF"
   },
   "source": [
    "import matplotlib\n",
    "import matplotlib.pyplot as plt\n",
    "import seaborn as sns\n",
    "\n",
    "%matplotlib inline\n",
    "\n",
    "plt.rc('font', family='AppleGothic')\n",
    "\n",
    "# plt.rc('axes', unicode_minus=False)\n",
    "\n",
    "import warnings\n",
    "warnings.filterwarnings('ignore')"
   ],
   "execution_count": 15,
   "outputs": []
  },
  {
   "cell_type": "code",
   "metadata": {
    "colab": {
     "background_save": true
    },
    "id": "3xlXD-Mdycd4"
   },
   "source": [
    "traindata = train.copy()"
   ],
   "execution_count": 16,
   "outputs": []
  },
  {
   "cell_type": "code",
   "metadata": {
    "colab": {
     "background_save": true
    },
    "id": "Ta15KckRy8Q2",
    "outputId": "a01a03a5-9283-4c78-b23b-8d3283a558cb"
   },
   "source": [
    "sns.distplot(traindata['18~20_ride'], kde=False, bins=50)\n",
    "plt.axis([0, 50, 0, 450000])\n",
    "plt.title(\"퇴근 시간 승차 인원 히스토그램\")\n",
    "plt.show()"
   ],
   "execution_count": 17,
   "outputs": [
    {
     "data": {
      "text/plain": "<Figure size 432x288 with 1 Axes>",
      "image/png": "[encoded data removed]"
     },
     "metadata": {
      "needs_background": "light"
     },
     "output_type": "display_data"
    }
   ]
  },
  {
   "cell_type": "code",
   "metadata": {
    "colab": {
     "background_save": true
    },
    "id": "h8NKhmih0KF9",
    "outputId": "978f418c-8434-4763-94dc-e6c9b8e98d73"
   },
   "source": [
    "traindata.groupby('18~20_ride').size().head()"
   ],
   "execution_count": 18,
   "outputs": [
    {
     "data": {
      "text/plain": "18~20_ride\n0.0    296528\n1.0     44268\n2.0     23752\n3.0     13560\n4.0      8630\ndtype: int64"
     },
     "execution_count": 18,
     "metadata": {},
     "output_type": "execute_result"
    }
   ]
  },
  {
   "cell_type": "code",
   "metadata": {
    "colab": {
     "background_save": true
    },
    "id": "OicKTF49kQ4-"
   },
   "source": [
    "traindata['date'] = pd.to_datetime(traindata['date'])\n",
    "traindata['weekday'] = traindata['date'].dt.strftime('%a')"
   ],
   "execution_count": 19,
   "outputs": []
  },
  {
   "cell_type": "code",
   "metadata": {
    "colab": {
     "background_save": true
    },
    "id": "7CfWpQZLllnQ",
    "outputId": "bd9cf378-c4c6-4f2d-affd-e379e5b561c4"
   },
   "source": [
    "traindata.head()"
   ],
   "execution_count": 20,
   "outputs": [
    {
     "data": {
      "text/plain": "   id       date  bus_route_id in_out  station_code  station_name  latitude  \\\n0   0 2019-09-01       4270000     시외           344         제주썬호텔  33.48990   \n1   1 2019-09-01       4270000     시외           357          한라병원  33.48944   \n2   2 2019-09-01       4270000     시외           432          정존마을  33.48181   \n3   3 2019-09-01       4270000     시내          1579  제주국제공항(600번)  33.50577   \n4   4 2019-09-01       4270000     시내          1646      중문관광단지입구  33.25579   \n\n   longitude  6~7_ride  7~8_ride  ...  10~11_ride  11~12_ride  6~7_takeoff  \\\n0  126.49373       0.0       1.0  ...         2.0         6.0          0.0   \n1  126.48508       1.0       4.0  ...         5.0         6.0          0.0   \n2  126.47352       1.0       1.0  ...         0.0         0.0          0.0   \n3  126.49252       0.0      17.0  ...        14.0        16.0          0.0   \n4  126.41260       0.0       0.0  ...         0.0         0.0          0.0   \n\n   7~8_takeoff  8~9_takeoff  9~10_takeoff  10~11_takeoff  11~12_takeoff  \\\n0          0.0          0.0           0.0            0.0            0.0   \n1          0.0          0.0           0.0            0.0            0.0   \n2          0.0          0.0           0.0            0.0            0.0   \n3          0.0          0.0           0.0            0.0            0.0   \n4          0.0          0.0           1.0            0.0            0.0   \n\n   18~20_ride  weekday  \n0         0.0      Sun  \n1         5.0      Sun  \n2         2.0      Sun  \n3        53.0      Sun  \n4         0.0      Sun  \n\n[5 rows x 22 columns]",
      "text/html": "<div>\n<style scoped>\n    .dataframe tbody tr th:only-of-type {\n        vertical-align: middle;\n    }\n\n    .dataframe tbody tr th {\n        vertical-align: top;\n    }\n\n    .dataframe thead th {\n        text-align: right;\n    }\n</style>\n<table border=\"1\" class=\"dataframe\">\n  <thead>\n    <tr style=\"text-align: right;\">\n      <th></th>\n      <th>id</th>\n      <th>date</th>\n      <th>bus_route_id</th>\n      <th>in_out</th>\n      <th>station_code</th>\n      <th>station_name</th>\n      <th>latitude</th>\n      <th>longitude</th>\n      <th>6~7_ride</th>\n      <th>7~8_ride</th>\n      <th>...</th>\n      <th>10~11_ride</th>\n      <th>11~12_ride</th>\n      <th>6~7_takeoff</th>\n      <th>7~8_takeoff</th>\n      <th>8~9_takeoff</th>\n      <th>9~10_takeoff</th>\n      <th>10~11_takeoff</th>\n      <th>11~12_takeoff</th>\n      <th>18~20_ride</th>\n      <th>weekday</th>\n    </tr>\n  </thead>\n  <tbody>\n    <tr>\n      <th>0</th>\n      <td>0</td>\n      <td>2019-09-01</td>\n      <td>4270000</td>\n      <td>시외</td>\n      <td>344</td>\n      <td>제주썬호텔</td>\n      <td>33.48990</td>\n      <td>126.49373</td>\n      <td>0.0</td>\n      <td>1.0</td>\n      <td>...</td>\n      <td>2.0</td>\n      <td>6.0</td>\n      <td>0.0</td>\n      <td>0.0</td>\n      <td>0.0</td>\n      <td>0.0</td>\n      <td>0.0</td>\n      <td>0.0</td>\n      <td>0.0</td>\n      <td>Sun</td>\n    </tr>\n    <tr>\n      <th>1</th>\n      <td>1</td>\n      <td>2019-09-01</td>\n      <td>4270000</td>\n      <td>시외</td>\n      <td>357</td>\n      <td>한라병원</td>\n      <td>33.48944</td>\n      <td>126.48508</td>\n      <td>1.0</td>\n      <td>4.0</td>\n      <td>...</td>\n      <td>5.0</td>\n      <td>6.0</td>\n      <td>0.0</td>\n      <td>0.0</td>\n      <td>0.0</td>\n      <td>0.0</td>\n      <td>0.0</td>\n      <td>0.0</td>\n      <td>5.0</td>\n      <td>Sun</td>\n    </tr>\n    <tr>\n      <th>2</th>\n      <td>2</td>\n      <td>2019-09-01</td>\n      <td>4270000</td>\n      <td>시외</td>\n      <td>432</td>\n      <td>정존마을</td>\n      <td>33.48181</td>\n      <td>126.47352</td>\n      <td>1.0</td>\n      <td>1.0</td>\n      <td>...</td>\n      <td>0.0</td>\n      <td>0.0</td>\n      <td>0.0</td>\n      <td>0.0</td>\n      <td>0.0</td>\n      <td>0.0</td>\n      <td>0.0</td>\n      <td>0.0</td>\n      <td>2.0</td>\n      <td>Sun</td>\n    </tr>\n    <tr>\n      <th>3</th>\n      <td>3</td>\n      <td>2019-09-01</td>\n      <td>4270000</td>\n      <td>시내</td>\n      <td>1579</td>\n      <td>제주국제공항(600번)</td>\n      <td>33.50577</td>\n      <td>126.49252</td>\n      <td>0.0</td>\n      <td>17.0</td>\n      <td>...</td>\n      <td>14.0</td>\n      <td>16.0</td>\n      <td>0.0</td>\n      <td>0.0</td>\n      <td>0.0</td>\n      <td>0.0</td>\n      <td>0.0</td>\n      <td>0.0</td>\n      <td>53.0</td>\n      <td>Sun</td>\n    </tr>\n    <tr>\n      <th>4</th>\n      <td>4</td>\n      <td>2019-09-01</td>\n      <td>4270000</td>\n      <td>시내</td>\n      <td>1646</td>\n      <td>중문관광단지입구</td>\n      <td>33.25579</td>\n      <td>126.41260</td>\n      <td>0.0</td>\n      <td>0.0</td>\n      <td>...</td>\n      <td>0.0</td>\n      <td>0.0</td>\n      <td>0.0</td>\n      <td>0.0</td>\n      <td>0.0</td>\n      <td>1.0</td>\n      <td>0.0</td>\n      <td>0.0</td>\n      <td>0.0</td>\n      <td>Sun</td>\n    </tr>\n  </tbody>\n</table>\n<p>5 rows × 22 columns</p>\n</div>"
     },
     "execution_count": 20,
     "metadata": {},
     "output_type": "execute_result"
    }
   ]
  },
  {
   "cell_type": "code",
   "metadata": {
    "colab": {
     "background_save": true
    },
    "id": "iJmcW8AqmUz6",
    "outputId": "d0a232d8-a782-445d-e2c0-1ef85608c5dc"
   },
   "source": [
    "traindata.info()"
   ],
   "execution_count": 21,
   "outputs": [
    {
     "name": "stdout",
     "output_type": "stream",
     "text": [
      "<class 'pandas.core.frame.DataFrame'>\n",
      "RangeIndex: 415423 entries, 0 to 415422\n",
      "Data columns (total 22 columns):\n",
      " #   Column         Non-Null Count   Dtype         \n",
      "---  ------         --------------   -----         \n",
      " 0   id             415423 non-null  int64         \n",
      " 1   date           415423 non-null  datetime64[ns]\n",
      " 2   bus_route_id   415423 non-null  int64         \n",
      " 3   in_out         415423 non-null  object        \n",
      " 4   station_code   415423 non-null  int64         \n",
      " 5   station_name   415423 non-null  object        \n",
      " 6   latitude       415423 non-null  float64       \n",
      " 7   longitude      415423 non-null  float64       \n",
      " 8   6~7_ride       415423 non-null  float64       \n",
      " 9   7~8_ride       415423 non-null  float64       \n",
      " 10  8~9_ride       415423 non-null  float64       \n",
      " 11  9~10_ride      415423 non-null  float64       \n",
      " 12  10~11_ride     415423 non-null  float64       \n",
      " 13  11~12_ride     415423 non-null  float64       \n",
      " 14  6~7_takeoff    415423 non-null  float64       \n",
      " 15  7~8_takeoff    415423 non-null  float64       \n",
      " 16  8~9_takeoff    415423 non-null  float64       \n",
      " 17  9~10_takeoff   415423 non-null  float64       \n",
      " 18  10~11_takeoff  415423 non-null  float64       \n",
      " 19  11~12_takeoff  415423 non-null  float64       \n",
      " 20  18~20_ride     415423 non-null  float64       \n",
      " 21  weekday        415423 non-null  object        \n",
      "dtypes: datetime64[ns](1), float64(15), int64(3), object(3)\n",
      "memory usage: 69.7+ MB\n"
     ]
    }
   ]
  },
  {
   "cell_type": "code",
   "metadata": {
    "colab": {
     "background_save": true
    },
    "id": "F-80oFY4mcPi",
    "outputId": "3fc9a4eb-6f8c-412f-d5cf-97a729c24822"
   },
   "source": [
    "sns.barplot(x=\"weekday\", y=\"18~20_ride\", data=traindata)\n",
    "plt.title(\"number of riders at rushour by weekday\")\n",
    "plt.show"
   ],
   "execution_count": 22,
   "outputs": [
    {
     "data": {
      "text/plain": "<function matplotlib.pyplot.show(close=None, block=None)>"
     },
     "execution_count": 22,
     "metadata": {},
     "output_type": "execute_result"
    },
    {
     "data": {
      "text/plain": "<Figure size 432x288 with 1 Axes>",
      "image/png": "[encoded data removed]"
     },
     "metadata": {
      "needs_background": "light"
     },
     "output_type": "display_data"
    }
   ]
  },
  {
   "cell_type": "code",
   "metadata": {
    "colab": {
     "background_save": true
    },
    "id": "z9dgzL_Gn1Yf",
    "outputId": "77a1814f-ce87-4b23-8b07-e0ba2ad29759"
   },
   "source": [
    "# 버스 종류별 퇴근시간 평균 탑승객 수 시각화\n",
    "sns.barplot(x=\"in_out\", y=\"18~20_ride\", data=traindata)\n",
    "plt.title(\"number of riders by busType\")\n",
    "plt.show()"
   ],
   "execution_count": 23,
   "outputs": [
    {
     "data": {
      "text/plain": "<Figure size 432x288 with 1 Axes>",
      "image/png": "[encoded data removed]"
     },
     "metadata": {
      "needs_background": "light"
     },
     "output_type": "display_data"
    }
   ]
  },
  {
   "cell_type": "code",
   "metadata": {
    "colab": {
     "background_save": true
    },
    "id": "X50GXfs0vZpC"
   },
   "source": [
    "# 일별 출퇴근 시간의 총 승차 인원 데이터 생성\n",
    "traindata['8~10_ride'] = traindata['8~9_ride'] + traindata['9~10_ride']\n",
    "eda_data = traindata.groupby('date')[['18~20_ride', '8~10_ride']].agg('sum').reset_index()"
   ],
   "execution_count": 24,
   "outputs": []
  },
  {
   "cell_type": "code",
   "metadata": {
    "colab": {
     "background_save": true
    },
    "id": "4GbXk0Guy6hn",
    "outputId": "935355f5-7199-4f77-8a19-54f00781e1b3"
   },
   "source": [
    "eda_data.head()"
   ],
   "execution_count": 25,
   "outputs": [
    {
     "data": {
      "text/plain": "        date  18~20_ride  8~10_ride\n0 2019-09-01     11537.0    11957.0\n1 2019-09-02     20561.0    21844.0\n2 2019-09-03     19743.0    25756.0\n3 2019-09-04     20133.0    21472.0\n4 2019-09-05     20392.0    26331.0",
      "text/html": "<div>\n<style scoped>\n    .dataframe tbody tr th:only-of-type {\n        vertical-align: middle;\n    }\n\n    .dataframe tbody tr th {\n        vertical-align: top;\n    }\n\n    .dataframe thead th {\n        text-align: right;\n    }\n</style>\n<table border=\"1\" class=\"dataframe\">\n  <thead>\n    <tr style=\"text-align: right;\">\n      <th></th>\n      <th>date</th>\n      <th>18~20_ride</th>\n      <th>8~10_ride</th>\n    </tr>\n  </thead>\n  <tbody>\n    <tr>\n      <th>0</th>\n      <td>2019-09-01</td>\n      <td>11537.0</td>\n      <td>11957.0</td>\n    </tr>\n    <tr>\n      <th>1</th>\n      <td>2019-09-02</td>\n      <td>20561.0</td>\n      <td>21844.0</td>\n    </tr>\n    <tr>\n      <th>2</th>\n      <td>2019-09-03</td>\n      <td>19743.0</td>\n      <td>25756.0</td>\n    </tr>\n    <tr>\n      <th>3</th>\n      <td>2019-09-04</td>\n      <td>20133.0</td>\n      <td>21472.0</td>\n    </tr>\n    <tr>\n      <th>4</th>\n      <td>2019-09-05</td>\n      <td>20392.0</td>\n      <td>26331.0</td>\n    </tr>\n  </tbody>\n</table>\n</div>"
     },
     "execution_count": 25,
     "metadata": {},
     "output_type": "execute_result"
    }
   ]
  },
  {
   "cell_type": "code",
   "metadata": {
    "colab": {
     "background_save": true
    },
    "id": "ukNVmpc4zEdR",
    "outputId": "c6e1335a-2602-42f9-970e-c9a5b309db40"
   },
   "source": [
    "# 일별 출퇴근 시간 탑승객 수 시각화\n",
    "plt.plot(\"date\", \"18~20_ride\", \"g-\", label=\"number of riders by leave\", data=eda_data)\n",
    "plt.plot(\"date\", \"8~10_ride\", \"b-\", label=\"number of riders by attandance\", data=eda_data)\n",
    "plt.gcf().autofmt_xdate()\n",
    "plt.legend(loc=0)\n",
    "plt.title(\"number of riders at attandance & leave by day\")\n",
    "plt.show()"
   ],
   "execution_count": 26,
   "outputs": [
    {
     "data": {
      "text/plain": "<Figure size 432x288 with 1 Axes>",
      "image/png": "[encoded data removed]"
     },
     "metadata": {
      "needs_background": "light"
     },
     "output_type": "display_data"
    }
   ]
  },
  {
   "cell_type": "code",
   "metadata": {
    "colab": {
     "background_save": true
    },
    "id": "O7hsifys1Co9"
   },
   "source": [
    "train['cue'] = 0\n",
    "test['cue'] = 1\n",
    "\n",
    "df = pd.concat([train, test], axis=0)"
   ],
   "execution_count": 27,
   "outputs": []
  },
  {
   "cell_type": "code",
   "metadata": {
    "colab": {
     "background_save": true
    },
    "id": "W6ICblmr6hS6"
   },
   "source": [
    "# datetime 변수형으로 변환\n",
    "df['date'] = pd.to_datetime(df['date'])\n",
    "\n",
    "# 요일 추출 (0-월요일~6-일요일)\n",
    "df['weekday'] = df['date'].dt.weekday"
   ],
   "execution_count": 28,
   "outputs": []
  },
  {
   "cell_type": "code",
   "metadata": {
    "colab": {
     "background_save": true
    },
    "id": "kygT_xXR7Wy6",
    "outputId": "c6c6c026-55bf-48ce-d346-18607384c58f"
   },
   "source": [
    "df[['weekday']].head()"
   ],
   "execution_count": 29,
   "outputs": [
    {
     "data": {
      "text/plain": "   weekday\n0        6\n1        6\n2        6\n3        6\n4        6",
      "text/html": "<div>\n<style scoped>\n    .dataframe tbody tr th:only-of-type {\n        vertical-align: middle;\n    }\n\n    .dataframe tbody tr th {\n        vertical-align: top;\n    }\n\n    .dataframe thead th {\n        text-align: right;\n    }\n</style>\n<table border=\"1\" class=\"dataframe\">\n  <thead>\n    <tr style=\"text-align: right;\">\n      <th></th>\n      <th>weekday</th>\n    </tr>\n  </thead>\n  <tbody>\n    <tr>\n      <th>0</th>\n      <td>6</td>\n    </tr>\n    <tr>\n      <th>1</th>\n      <td>6</td>\n    </tr>\n    <tr>\n      <th>2</th>\n      <td>6</td>\n    </tr>\n    <tr>\n      <th>3</th>\n      <td>6</td>\n    </tr>\n    <tr>\n      <th>4</th>\n      <td>6</td>\n    </tr>\n  </tbody>\n</table>\n</div>"
     },
     "execution_count": 29,
     "metadata": {},
     "output_type": "execute_result"
    }
   ]
  },
  {
   "cell_type": "code",
   "metadata": {
    "colab": {
     "background_save": true
    },
    "id": "uv_dJkyg7baZ"
   },
   "source": [
    "def week_mean():\n",
    "  # 전체 데이터에서 train 데이터에 해당하는 행 추출\n",
    "  train_data = df.query('cue==\"0\"').reset_index(drop=True)\n",
    "\n",
    "  # 일괄적으로 1의 값을 가지는 'weekdaymean' 변수 생성\n",
    "  df['weekdaymean'] = 1\n",
    "\n",
    "  # 각 요일에 해당하는 인덱스 추출\n",
    "  index0 = df.query('weekday==0').index\n",
    "  index1 = df.query('weekday==1').index\n",
    "  index2 = df.query('weekday==2').index\n",
    "  index3 = df.query('weekday==3').index\n",
    "  index4 = df.query('weekday==4').index\n",
    "  index5 = df.query('weekday==5').index\n",
    "  index6 = df.query('weekday==6').index\n",
    "\n",
    "  # 인덱스를 활용해 'weekdaymean'의 값을 각 요일에 맞는 평균 탑승 탑승객 수로 변경\n",
    "  df.iloc[index0, -1] = train_data.query('weekday==0')['18~20_ride'].mean()\n",
    "  df.iloc[index1, -1] = train_data.query('weekday==1')['18~20_ride'].mean()\n",
    "  df.iloc[index2, -1] = train_data.query('weekday==2')['18~20_ride'].mean()\n",
    "  df.iloc[index3, -1] = train_data.query('weekday==3')['18~20_ride'].mean()\n",
    "  df.iloc[index4, -1] = train_data.query('weekday==4')['18~20_ride'].mean()\n",
    "  df.iloc[index5, -1] = train_data.query('weekday==5')['18~20_ride'].mean()\n",
    "  df.iloc[index6, -1] = train_data.query('weekday==6')['18~20_ride'].mean()\n",
    "\n",
    "  return df\n",
    "\n",
    "df = week_mean()"
   ],
   "execution_count": 30,
   "outputs": []
  },
  {
   "cell_type": "code",
   "metadata": {
    "colab": {
     "background_save": true
    },
    "id": "XwLXMeQP_Zt5",
    "outputId": "fe3d9fc3-20eb-45f4-8567-5997cab1adf7"
   },
   "source": [
    "df[['weekdaymean']].head()"
   ],
   "execution_count": 31,
   "outputs": [
    {
     "data": {
      "text/plain": "   weekdaymean\n0          NaN\n1          NaN\n2          NaN\n3          NaN\n4          NaN",
      "text/html": "<div>\n<style scoped>\n    .dataframe tbody tr th:only-of-type {\n        vertical-align: middle;\n    }\n\n    .dataframe tbody tr th {\n        vertical-align: top;\n    }\n\n    .dataframe thead th {\n        text-align: right;\n    }\n</style>\n<table border=\"1\" class=\"dataframe\">\n  <thead>\n    <tr style=\"text-align: right;\">\n      <th></th>\n      <th>weekdaymean</th>\n    </tr>\n  </thead>\n  <tbody>\n    <tr>\n      <th>0</th>\n      <td>NaN</td>\n    </tr>\n    <tr>\n      <th>1</th>\n      <td>NaN</td>\n    </tr>\n    <tr>\n      <th>2</th>\n      <td>NaN</td>\n    </tr>\n    <tr>\n      <th>3</th>\n      <td>NaN</td>\n    </tr>\n    <tr>\n      <th>4</th>\n      <td>NaN</td>\n    </tr>\n  </tbody>\n</table>\n</div>"
     },
     "execution_count": 31,
     "metadata": {},
     "output_type": "execute_result"
    }
   ]
  },
  {
   "cell_type": "code",
   "metadata": {
    "colab": {
     "background_save": true
    },
    "id": "MwHpv5Ss_ilT"
   },
   "source": [
    "# 버스 종류별 평균 탑승객 수를 구하는 함수\n",
    "def inout_mean():\n",
    "  # 전체 데이터에서 train 데이터에 해당하는 행 추출\n",
    "  train_data = df.query('cue==\"0\"').reset_index(drop=True)\n",
    "\n",
    "  # 일괄적으로 1의 값을 가지는 in_out_mean 변수 생성\n",
    "  df['in_out_mean'] = 1\n",
    "\n",
    "  # 버스 종류별 인덱스 추출\n",
    "  in_index = df.query('in_out == \"시내\"').index   # 시내버스\n",
    "  out_index = df.query('in_out == \"시외\"').index  # 시외버스\n",
    "\n",
    "  # 인덱스를 활용하여 in_out_mean의 값을 각 버스 종류에 맞는 평균 탑승 승객 수로 변경\n",
    "  df.iloc[in_index, -1] = train_data.query('in_out == \"시내\"')['18~20_ride'].mean()\n",
    "  df.iloc[out_index, -1] = train_data.query('in_out == \"시외\"')['18~20_ride'].mean()\n",
    "\n",
    "  return df\n",
    "\n",
    "df = inout_mean()"
   ],
   "execution_count": 32,
   "outputs": []
  },
  {
   "cell_type": "code",
   "metadata": {
    "colab": {
     "background_save": true
    },
    "id": "q_e8TEBNEx0c",
    "outputId": "9c271bd5-c68f-4331-f115-f96bcd239c3d"
   },
   "source": [
    "df[['in_out_mean']].head()"
   ],
   "execution_count": 33,
   "outputs": [
    {
     "data": {
      "text/plain": "   in_out_mean\n0          NaN\n1          NaN\n2          NaN\n3          NaN\n4          NaN",
      "text/html": "<div>\n<style scoped>\n    .dataframe tbody tr th:only-of-type {\n        vertical-align: middle;\n    }\n\n    .dataframe tbody tr th {\n        vertical-align: top;\n    }\n\n    .dataframe thead th {\n        text-align: right;\n    }\n</style>\n<table border=\"1\" class=\"dataframe\">\n  <thead>\n    <tr style=\"text-align: right;\">\n      <th></th>\n      <th>in_out_mean</th>\n    </tr>\n  </thead>\n  <tbody>\n    <tr>\n      <th>0</th>\n      <td>NaN</td>\n    </tr>\n    <tr>\n      <th>1</th>\n      <td>NaN</td>\n    </tr>\n    <tr>\n      <th>2</th>\n      <td>NaN</td>\n    </tr>\n    <tr>\n      <th>3</th>\n      <td>NaN</td>\n    </tr>\n    <tr>\n      <th>4</th>\n      <td>NaN</td>\n    </tr>\n  </tbody>\n</table>\n</div>"
     },
     "execution_count": 33,
     "metadata": {},
     "output_type": "execute_result"
    }
   ]
  },
  {
   "cell_type": "code",
   "metadata": {
    "colab": {
     "background_save": true
    },
    "id": "_Jlgx0WGJxJP"
   },
   "source": [
    "# 날짜별 오전 시간에 탑승한 총 탑승객 수\n",
    "f = df.groupby('date')['6~7_ride', '7~8_ride', '8~9_ride', '9~10_ride', '10~11_ride'].sum().reset_index()\n",
    "\n",
    "# 변수명 변경\n",
    "f.columns = ['date', '6~7_ride_sum', '7~8_ride_sum', '8~9_ride_sum', '9~10_ride_sum', '10~11_ride_sum']\n",
    "\n",
    "# 기존 데이터프레임에 새로운 변수를 병합\n",
    "df = pd.merge(df, f, how='left', on='date')\n"
   ],
   "execution_count": 34,
   "outputs": []
  },
  {
   "cell_type": "code",
   "metadata": {
    "colab": {
     "background_save": true
    },
    "id": "MIByGOzHNAul",
    "outputId": "e85afa05-5d6d-463c-ab41-d85d00809ce3"
   },
   "source": [
    "df[['date', '6~7_ride_sum', '7~8_ride_sum', '8~9_ride_sum', '9~10_ride_sum', '10~11_ride_sum']].head()"
   ],
   "execution_count": 35,
   "outputs": [
    {
     "data": {
      "text/plain": "        date  6~7_ride_sum  7~8_ride_sum  8~9_ride_sum  9~10_ride_sum  \\\n0 2019-09-01        2942.0        4518.0        5682.0         6275.0   \n1 2019-09-01        2942.0        4518.0        5682.0         6275.0   \n2 2019-09-01        2942.0        4518.0        5682.0         6275.0   \n3 2019-09-01        2942.0        4518.0        5682.0         6275.0   \n4 2019-09-01        2942.0        4518.0        5682.0         6275.0   \n\n   10~11_ride_sum  \n0          6774.0  \n1          6774.0  \n2          6774.0  \n3          6774.0  \n4          6774.0  ",
      "text/html": "<div>\n<style scoped>\n    .dataframe tbody tr th:only-of-type {\n        vertical-align: middle;\n    }\n\n    .dataframe tbody tr th {\n        vertical-align: top;\n    }\n\n    .dataframe thead th {\n        text-align: right;\n    }\n</style>\n<table border=\"1\" class=\"dataframe\">\n  <thead>\n    <tr style=\"text-align: right;\">\n      <th></th>\n      <th>date</th>\n      <th>6~7_ride_sum</th>\n      <th>7~8_ride_sum</th>\n      <th>8~9_ride_sum</th>\n      <th>9~10_ride_sum</th>\n      <th>10~11_ride_sum</th>\n    </tr>\n  </thead>\n  <tbody>\n    <tr>\n      <th>0</th>\n      <td>2019-09-01</td>\n      <td>2942.0</td>\n      <td>4518.0</td>\n      <td>5682.0</td>\n      <td>6275.0</td>\n      <td>6774.0</td>\n    </tr>\n    <tr>\n      <th>1</th>\n      <td>2019-09-01</td>\n      <td>2942.0</td>\n      <td>4518.0</td>\n      <td>5682.0</td>\n      <td>6275.0</td>\n      <td>6774.0</td>\n    </tr>\n    <tr>\n      <th>2</th>\n      <td>2019-09-01</td>\n      <td>2942.0</td>\n      <td>4518.0</td>\n      <td>5682.0</td>\n      <td>6275.0</td>\n      <td>6774.0</td>\n    </tr>\n    <tr>\n      <th>3</th>\n      <td>2019-09-01</td>\n      <td>2942.0</td>\n      <td>4518.0</td>\n      <td>5682.0</td>\n      <td>6275.0</td>\n      <td>6774.0</td>\n    </tr>\n    <tr>\n      <th>4</th>\n      <td>2019-09-01</td>\n      <td>2942.0</td>\n      <td>4518.0</td>\n      <td>5682.0</td>\n      <td>6275.0</td>\n      <td>6774.0</td>\n    </tr>\n  </tbody>\n</table>\n</div>"
     },
     "execution_count": 35,
     "metadata": {},
     "output_type": "execute_result"
    }
   ]
  },
  {
   "cell_type": "code",
   "metadata": {
    "colab": {
     "background_save": true
    },
    "id": "TBiBOZcGrzsO"
   },
   "source": [
    "# 탑승 날짜를 datetime 형으로 변환\n",
    "bts['geton_time2'] = pd.to_datetime(bts['geton_time'])\n",
    "\n",
    "# 탑승 날짜, 탑승 정류장 코드, 탑승 노선 번호 기준으로 정렬\n",
    "f = bts.sort_values(by=['geton_date', 'geton_station_code', 'bus_route_id', 'geton_time2'], ascending=True).reset_index()"
   ],
   "execution_count": 36,
   "outputs": []
  },
  {
   "cell_type": "code",
   "metadata": {
    "colab": {
     "background_save": true,
     "base_uri": "https://localhost:8080/",
     "height": 34,
     "referenced_widgets": [
      "70dbb07d293e491a8c930660d7bf2c88"
     ]
    },
    "id": "zSbPEMve1Fzm",
    "outputId": "582c7f96-71cd-49f6-a367-98ff221f1334"
   },
   "source": [
    "from tqdm import notebook\n",
    "\n",
    "# 시차를 넣기 위한 빈 리스트 생성\n",
    "interval_list = []\n",
    "for i in notebook.tqdm(range(0, len(f)-1)):\n",
    "  # 탑승 날짜, 탑승 정류장 코드, 탑승 노선 번호가 같다면\n",
    "  if ((f.iloc[i].geton_date == f.iloc[i+1].geton_date) & (f.iloc[i].geton_station_code == f.iloc[i+1].geton_station_code) & (f.iloc[i].bus_route_id == f.iloc[i+1].bus_route_id)):\n",
    "    # 탑승 날짜의 차를 interval_list에 넣기\n",
    "    interval_list.append(f.iloc[i+1].geton_time2 - f.iloc[i].geton_time2)\n",
    "\n",
    "  else:\n",
    "    # 같지 않다면 0을 interval_list에 넣기\n",
    "    interval_list.append(0)\n",
    "\n",
    "interval_list.insert(0, '0')"
   ],
   "execution_count": 37,
   "outputs": [
    {
     "data": {
      "text/plain": "  0%|          | 0/2409413 [00:00<?, ?it/s]",
      "application/vnd.jupyter.widget-view+json": {
       "version_major": 2,
       "version_minor": 0,
       "model_id": "b4b0b6815d5c4ff78b4d2a6e2abec62d"
      }
     },
     "metadata": {},
     "output_type": "display_data"
    }
   ]
  },
  {
   "cell_type": "code",
   "metadata": {
    "id": "8HKI1-RB3iFF"
   },
   "source": [
    ""
   ],
   "execution_count": 37,
   "outputs": []
  }
 ]
}