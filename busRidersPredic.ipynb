{
  "nbformat": 4,
  "nbformat_minor": 0,
  "metadata": {
    "colab": {
      "name": "busRidersPredic.ipynb",
      "provenance": []
    },
    "kernelspec": {
      "name": "python3",
      "display_name": "Python 3"
    },
    "language_info": {
      "name": "python"
    }
  },
  "cells": [
    {
      "cell_type": "code",
      "metadata": {
        "colab": {
          "base_uri": "https://localhost:8080/"
        },
        "id": "nNFv6Wjeg6uU",
        "outputId": "b366f3fc-3cac-4eb8-acad-1bb058bf087f"
      },
      "source": [
        "from google.colab import drive\n",
        "drive.mount('./mount')"
      ],
      "execution_count": 1,
      "outputs": [
        {
          "output_type": "stream",
          "text": [
            "Drive already mounted at ./mount; to attempt to forcibly remount, call drive.mount(\"./mount\", force_remount=True).\n"
          ],
          "name": "stdout"
        }
      ]
    },
    {
      "cell_type": "code",
      "metadata": {
        "id": "x08F-Ytgh1Ni"
      },
      "source": [
        "import pandas as pd\n",
        "\n",
        "path = 'mount/My Drive/Colab Notebooks/busRidersPredic/data/'\n",
        "train = pd.read_csv(path + 'train.csv')\n",
        "test = pd.read_csv(path + 'test.csv')\n",
        "bts = pd.read_csv(path + 'bus_bts.csv')\n",
        "jeju_life = pd.read_csv(path + 'jeju_financial_life_data.csv')\n",
        "weather = pd.read_csv(path + 'weather.csv', encoding='cp949')\n",
        "rain = pd.read_csv(path + 'rain.csv', encoding='utf-8')"
      ],
      "execution_count": 2,
      "outputs": []
    },
    {
      "cell_type": "code",
      "metadata": {
        "colab": {
          "base_uri": "https://localhost:8080/",
          "height": 309
        },
        "id": "KEXS1oS6j1RL",
        "outputId": "4c4d661d-8136-469a-85cb-3482b91ffda3"
      },
      "source": [
        "train.head()"
      ],
      "execution_count": 3,
      "outputs": [
        {
          "output_type": "execute_result",
          "data": {
            "text/html": [
              "<div>\n",
              "<style scoped>\n",
              "    .dataframe tbody tr th:only-of-type {\n",
              "        vertical-align: middle;\n",
              "    }\n",
              "\n",
              "    .dataframe tbody tr th {\n",
              "        vertical-align: top;\n",
              "    }\n",
              "\n",
              "    .dataframe thead th {\n",
              "        text-align: right;\n",
              "    }\n",
              "</style>\n",
              "<table border=\"1\" class=\"dataframe\">\n",
              "  <thead>\n",
              "    <tr style=\"text-align: right;\">\n",
              "      <th></th>\n",
              "      <th>id</th>\n",
              "      <th>date</th>\n",
              "      <th>bus_route_id</th>\n",
              "      <th>in_out</th>\n",
              "      <th>station_code</th>\n",
              "      <th>station_name</th>\n",
              "      <th>latitude</th>\n",
              "      <th>longitude</th>\n",
              "      <th>6~7_ride</th>\n",
              "      <th>7~8_ride</th>\n",
              "      <th>8~9_ride</th>\n",
              "      <th>9~10_ride</th>\n",
              "      <th>10~11_ride</th>\n",
              "      <th>11~12_ride</th>\n",
              "      <th>6~7_takeoff</th>\n",
              "      <th>7~8_takeoff</th>\n",
              "      <th>8~9_takeoff</th>\n",
              "      <th>9~10_takeoff</th>\n",
              "      <th>10~11_takeoff</th>\n",
              "      <th>11~12_takeoff</th>\n",
              "      <th>18~20_ride</th>\n",
              "    </tr>\n",
              "  </thead>\n",
              "  <tbody>\n",
              "    <tr>\n",
              "      <th>0</th>\n",
              "      <td>0</td>\n",
              "      <td>2019-09-01</td>\n",
              "      <td>4270000</td>\n",
              "      <td>시외</td>\n",
              "      <td>344</td>\n",
              "      <td>제주썬호텔</td>\n",
              "      <td>33.48990</td>\n",
              "      <td>126.49373</td>\n",
              "      <td>0.0</td>\n",
              "      <td>1.0</td>\n",
              "      <td>2.0</td>\n",
              "      <td>5.0</td>\n",
              "      <td>2.0</td>\n",
              "      <td>6.0</td>\n",
              "      <td>0.0</td>\n",
              "      <td>0.0</td>\n",
              "      <td>0.0</td>\n",
              "      <td>0.0</td>\n",
              "      <td>0.0</td>\n",
              "      <td>0.0</td>\n",
              "      <td>0.0</td>\n",
              "    </tr>\n",
              "    <tr>\n",
              "      <th>1</th>\n",
              "      <td>1</td>\n",
              "      <td>2019-09-01</td>\n",
              "      <td>4270000</td>\n",
              "      <td>시외</td>\n",
              "      <td>357</td>\n",
              "      <td>한라병원</td>\n",
              "      <td>33.48944</td>\n",
              "      <td>126.48508</td>\n",
              "      <td>1.0</td>\n",
              "      <td>4.0</td>\n",
              "      <td>4.0</td>\n",
              "      <td>2.0</td>\n",
              "      <td>5.0</td>\n",
              "      <td>6.0</td>\n",
              "      <td>0.0</td>\n",
              "      <td>0.0</td>\n",
              "      <td>0.0</td>\n",
              "      <td>0.0</td>\n",
              "      <td>0.0</td>\n",
              "      <td>0.0</td>\n",
              "      <td>5.0</td>\n",
              "    </tr>\n",
              "    <tr>\n",
              "      <th>2</th>\n",
              "      <td>2</td>\n",
              "      <td>2019-09-01</td>\n",
              "      <td>4270000</td>\n",
              "      <td>시외</td>\n",
              "      <td>432</td>\n",
              "      <td>정존마을</td>\n",
              "      <td>33.48181</td>\n",
              "      <td>126.47352</td>\n",
              "      <td>1.0</td>\n",
              "      <td>1.0</td>\n",
              "      <td>0.0</td>\n",
              "      <td>2.0</td>\n",
              "      <td>0.0</td>\n",
              "      <td>0.0</td>\n",
              "      <td>0.0</td>\n",
              "      <td>0.0</td>\n",
              "      <td>0.0</td>\n",
              "      <td>0.0</td>\n",
              "      <td>0.0</td>\n",
              "      <td>0.0</td>\n",
              "      <td>2.0</td>\n",
              "    </tr>\n",
              "    <tr>\n",
              "      <th>3</th>\n",
              "      <td>3</td>\n",
              "      <td>2019-09-01</td>\n",
              "      <td>4270000</td>\n",
              "      <td>시내</td>\n",
              "      <td>1579</td>\n",
              "      <td>제주국제공항(600번)</td>\n",
              "      <td>33.50577</td>\n",
              "      <td>126.49252</td>\n",
              "      <td>0.0</td>\n",
              "      <td>17.0</td>\n",
              "      <td>6.0</td>\n",
              "      <td>26.0</td>\n",
              "      <td>14.0</td>\n",
              "      <td>16.0</td>\n",
              "      <td>0.0</td>\n",
              "      <td>0.0</td>\n",
              "      <td>0.0</td>\n",
              "      <td>0.0</td>\n",
              "      <td>0.0</td>\n",
              "      <td>0.0</td>\n",
              "      <td>53.0</td>\n",
              "    </tr>\n",
              "    <tr>\n",
              "      <th>4</th>\n",
              "      <td>4</td>\n",
              "      <td>2019-09-01</td>\n",
              "      <td>4270000</td>\n",
              "      <td>시내</td>\n",
              "      <td>1646</td>\n",
              "      <td>중문관광단지입구</td>\n",
              "      <td>33.25579</td>\n",
              "      <td>126.41260</td>\n",
              "      <td>0.0</td>\n",
              "      <td>0.0</td>\n",
              "      <td>0.0</td>\n",
              "      <td>0.0</td>\n",
              "      <td>0.0</td>\n",
              "      <td>0.0</td>\n",
              "      <td>0.0</td>\n",
              "      <td>0.0</td>\n",
              "      <td>0.0</td>\n",
              "      <td>1.0</td>\n",
              "      <td>0.0</td>\n",
              "      <td>0.0</td>\n",
              "      <td>0.0</td>\n",
              "    </tr>\n",
              "  </tbody>\n",
              "</table>\n",
              "</div>"
            ],
            "text/plain": [
              "   id        date  bus_route_id  ... 10~11_takeoff  11~12_takeoff 18~20_ride\n",
              "0   0  2019-09-01       4270000  ...           0.0            0.0        0.0\n",
              "1   1  2019-09-01       4270000  ...           0.0            0.0        5.0\n",
              "2   2  2019-09-01       4270000  ...           0.0            0.0        2.0\n",
              "3   3  2019-09-01       4270000  ...           0.0            0.0       53.0\n",
              "4   4  2019-09-01       4270000  ...           0.0            0.0        0.0\n",
              "\n",
              "[5 rows x 21 columns]"
            ]
          },
          "metadata": {
            "tags": []
          },
          "execution_count": 3
        }
      ]
    },
    {
      "cell_type": "code",
      "metadata": {
        "colab": {
          "base_uri": "https://localhost:8080/"
        },
        "id": "pazoNr0XlmZ-",
        "outputId": "bd9d6074-2033-47d1-b361-3ecccc9e1d25"
      },
      "source": [
        "train.info()"
      ],
      "execution_count": 4,
      "outputs": [
        {
          "output_type": "stream",
          "text": [
            "<class 'pandas.core.frame.DataFrame'>\n",
            "RangeIndex: 415423 entries, 0 to 415422\n",
            "Data columns (total 21 columns):\n",
            " #   Column         Non-Null Count   Dtype  \n",
            "---  ------         --------------   -----  \n",
            " 0   id             415423 non-null  int64  \n",
            " 1   date           415423 non-null  object \n",
            " 2   bus_route_id   415423 non-null  int64  \n",
            " 3   in_out         415423 non-null  object \n",
            " 4   station_code   415423 non-null  int64  \n",
            " 5   station_name   415423 non-null  object \n",
            " 6   latitude       415423 non-null  float64\n",
            " 7   longitude      415423 non-null  float64\n",
            " 8   6~7_ride       415423 non-null  float64\n",
            " 9   7~8_ride       415423 non-null  float64\n",
            " 10  8~9_ride       415423 non-null  float64\n",
            " 11  9~10_ride      415423 non-null  float64\n",
            " 12  10~11_ride     415423 non-null  float64\n",
            " 13  11~12_ride     415423 non-null  float64\n",
            " 14  6~7_takeoff    415423 non-null  float64\n",
            " 15  7~8_takeoff    415423 non-null  float64\n",
            " 16  8~9_takeoff    415423 non-null  float64\n",
            " 17  9~10_takeoff   415423 non-null  float64\n",
            " 18  10~11_takeoff  415423 non-null  float64\n",
            " 19  11~12_takeoff  415423 non-null  float64\n",
            " 20  18~20_ride     415423 non-null  float64\n",
            "dtypes: float64(15), int64(3), object(3)\n",
            "memory usage: 66.6+ MB\n"
          ],
          "name": "stdout"
        }
      ]
    },
    {
      "cell_type": "code",
      "metadata": {
        "colab": {
          "base_uri": "https://localhost:8080/",
          "height": 241
        },
        "id": "LM_gLPWWmhGW",
        "outputId": "0cea1651-ee1e-41fa-919f-49408b695905"
      },
      "source": [
        "bts.head()"
      ],
      "execution_count": 5,
      "outputs": [
        {
          "output_type": "execute_result",
          "data": {
            "text/html": [
              "<div>\n",
              "<style scoped>\n",
              "    .dataframe tbody tr th:only-of-type {\n",
              "        vertical-align: middle;\n",
              "    }\n",
              "\n",
              "    .dataframe tbody tr th {\n",
              "        vertical-align: top;\n",
              "    }\n",
              "\n",
              "    .dataframe thead th {\n",
              "        text-align: right;\n",
              "    }\n",
              "</style>\n",
              "<table border=\"1\" class=\"dataframe\">\n",
              "  <thead>\n",
              "    <tr style=\"text-align: right;\">\n",
              "      <th></th>\n",
              "      <th>user_card_id</th>\n",
              "      <th>bus_route_id</th>\n",
              "      <th>vhc_id</th>\n",
              "      <th>geton_date</th>\n",
              "      <th>geton_time</th>\n",
              "      <th>geton_station_code</th>\n",
              "      <th>geton_station_name</th>\n",
              "      <th>getoff_date</th>\n",
              "      <th>getoff_time</th>\n",
              "      <th>getoff_station_code</th>\n",
              "      <th>getoff_station_name</th>\n",
              "      <th>user_category</th>\n",
              "      <th>user_count</th>\n",
              "    </tr>\n",
              "  </thead>\n",
              "  <tbody>\n",
              "    <tr>\n",
              "      <th>0</th>\n",
              "      <td>1.010010e+15</td>\n",
              "      <td>23000000</td>\n",
              "      <td>149793674</td>\n",
              "      <td>2019-09-10</td>\n",
              "      <td>06:34:45</td>\n",
              "      <td>360</td>\n",
              "      <td>노형오거리</td>\n",
              "      <td>2019-09-10</td>\n",
              "      <td>07:10:31</td>\n",
              "      <td>592.0</td>\n",
              "      <td>화북초등학교</td>\n",
              "      <td>1</td>\n",
              "      <td>1</td>\n",
              "    </tr>\n",
              "    <tr>\n",
              "      <th>1</th>\n",
              "      <td>1.010010e+15</td>\n",
              "      <td>23000000</td>\n",
              "      <td>149793674</td>\n",
              "      <td>2019-09-10</td>\n",
              "      <td>06:34:58</td>\n",
              "      <td>360</td>\n",
              "      <td>노형오거리</td>\n",
              "      <td>2019-09-10</td>\n",
              "      <td>06:56:27</td>\n",
              "      <td>3273.0</td>\n",
              "      <td>고산동산(광양방면)</td>\n",
              "      <td>1</td>\n",
              "      <td>1</td>\n",
              "    </tr>\n",
              "    <tr>\n",
              "      <th>2</th>\n",
              "      <td>1.019160e+15</td>\n",
              "      <td>21420000</td>\n",
              "      <td>149793535</td>\n",
              "      <td>2019-09-10</td>\n",
              "      <td>07:19:07</td>\n",
              "      <td>2495</td>\n",
              "      <td>동광환승정류장4(제주방면)</td>\n",
              "      <td>2019-09-10</td>\n",
              "      <td>07:40:29</td>\n",
              "      <td>431.0</td>\n",
              "      <td>정존마을</td>\n",
              "      <td>4</td>\n",
              "      <td>1</td>\n",
              "    </tr>\n",
              "    <tr>\n",
              "      <th>3</th>\n",
              "      <td>1.019150e+15</td>\n",
              "      <td>21420000</td>\n",
              "      <td>149793512</td>\n",
              "      <td>2019-09-09</td>\n",
              "      <td>09:14:47</td>\n",
              "      <td>3282</td>\n",
              "      <td>대정환승정류장(대정읍사무소)</td>\n",
              "      <td>2019-09-09</td>\n",
              "      <td>10:02:46</td>\n",
              "      <td>431.0</td>\n",
              "      <td>정존마을</td>\n",
              "      <td>1</td>\n",
              "      <td>1</td>\n",
              "    </tr>\n",
              "    <tr>\n",
              "      <th>4</th>\n",
              "      <td>1.010010e+15</td>\n",
              "      <td>21420000</td>\n",
              "      <td>149793512</td>\n",
              "      <td>2019-09-09</td>\n",
              "      <td>09:28:53</td>\n",
              "      <td>2820</td>\n",
              "      <td>삼정지에듀</td>\n",
              "      <td>2019-09-09</td>\n",
              "      <td>10:21:37</td>\n",
              "      <td>2972.0</td>\n",
              "      <td>제주국제공항(종점)</td>\n",
              "      <td>4</td>\n",
              "      <td>1</td>\n",
              "    </tr>\n",
              "  </tbody>\n",
              "</table>\n",
              "</div>"
            ],
            "text/plain": [
              "   user_card_id  bus_route_id  ...  user_category user_count\n",
              "0  1.010010e+15      23000000  ...              1          1\n",
              "1  1.010010e+15      23000000  ...              1          1\n",
              "2  1.019160e+15      21420000  ...              4          1\n",
              "3  1.019150e+15      21420000  ...              1          1\n",
              "4  1.010010e+15      21420000  ...              4          1\n",
              "\n",
              "[5 rows x 13 columns]"
            ]
          },
          "metadata": {
            "tags": []
          },
          "execution_count": 5
        }
      ]
    },
    {
      "cell_type": "code",
      "metadata": {
        "colab": {
          "base_uri": "https://localhost:8080/"
        },
        "id": "anfD9DlunuUz",
        "outputId": "e8f1df3f-0379-4234-c3b3-a7588f46c205"
      },
      "source": [
        "bts.info(null_counts=True)"
      ],
      "execution_count": 6,
      "outputs": [
        {
          "output_type": "stream",
          "text": [
            "<class 'pandas.core.frame.DataFrame'>\n",
            "RangeIndex: 2409414 entries, 0 to 2409413\n",
            "Data columns (total 13 columns):\n",
            " #   Column               Non-Null Count    Dtype  \n",
            "---  ------               --------------    -----  \n",
            " 0   user_card_id         2409414 non-null  float64\n",
            " 1   bus_route_id         2409414 non-null  int64  \n",
            " 2   vhc_id               2409414 non-null  int64  \n",
            " 3   geton_date           2409414 non-null  object \n",
            " 4   geton_time           2409414 non-null  object \n",
            " 5   geton_station_code   2409414 non-null  int64  \n",
            " 6   geton_station_name   2409365 non-null  object \n",
            " 7   getoff_date          1513678 non-null  object \n",
            " 8   getoff_time          1513678 non-null  object \n",
            " 9   getoff_station_code  1513678 non-null  float64\n",
            " 10  getoff_station_name  1513639 non-null  object \n",
            " 11  user_category        2409414 non-null  int64  \n",
            " 12  user_count           2409414 non-null  int64  \n",
            "dtypes: float64(2), int64(5), object(6)\n",
            "memory usage: 239.0+ MB\n"
          ],
          "name": "stdout"
        }
      ]
    },
    {
      "cell_type": "code",
      "metadata": {
        "colab": {
          "base_uri": "https://localhost:8080/"
        },
        "id": "xk7lGDfMoISl",
        "outputId": "436851c6-2215-4236-ed63-6240cb4171fd"
      },
      "source": [
        "pd.options.display.max_info_columns"
      ],
      "execution_count": 7,
      "outputs": [
        {
          "output_type": "execute_result",
          "data": {
            "text/plain": [
              "100"
            ]
          },
          "metadata": {
            "tags": []
          },
          "execution_count": 7
        }
      ]
    },
    {
      "cell_type": "code",
      "metadata": {
        "colab": {
          "base_uri": "https://localhost:8080/"
        },
        "id": "Z-_jrkALqF1w",
        "outputId": "d7b709fd-ee33-4e8e-aacc-ad33eb31f0e6"
      },
      "source": [
        "pd.options.display.max_info_rows"
      ],
      "execution_count": 8,
      "outputs": [
        {
          "output_type": "execute_result",
          "data": {
            "text/plain": [
              "1690785"
            ]
          },
          "metadata": {
            "tags": []
          },
          "execution_count": 8
        }
      ]
    },
    {
      "cell_type": "code",
      "metadata": {
        "colab": {
          "base_uri": "https://localhost:8080/",
          "height": 224
        },
        "id": "fxiGUI1dqZMe",
        "outputId": "3158ab0c-dc81-4f13-c9bb-c6cbd7300074"
      },
      "source": [
        "jeju_life.head()"
      ],
      "execution_count": 9,
      "outputs": [
        {
          "output_type": "execute_result",
          "data": {
            "text/html": [
              "<div>\n",
              "<style scoped>\n",
              "    .dataframe tbody tr th:only-of-type {\n",
              "        vertical-align: middle;\n",
              "    }\n",
              "\n",
              "    .dataframe tbody tr th {\n",
              "        vertical-align: top;\n",
              "    }\n",
              "\n",
              "    .dataframe thead th {\n",
              "        text-align: right;\n",
              "    }\n",
              "</style>\n",
              "<table border=\"1\" class=\"dataframe\">\n",
              "  <thead>\n",
              "    <tr style=\"text-align: right;\">\n",
              "      <th></th>\n",
              "      <th>zip_cd</th>\n",
              "      <th>year_month</th>\n",
              "      <th>x_axis</th>\n",
              "      <th>y_axis</th>\n",
              "      <th>sex</th>\n",
              "      <th>age</th>\n",
              "      <th>job_majorc</th>\n",
              "      <th>job_smallc</th>\n",
              "      <th>job_public</th>\n",
              "      <th>job_profession</th>\n",
              "      <th>job_self</th>\n",
              "      <th>job_none</th>\n",
              "      <th>job_other</th>\n",
              "      <th>avg_income</th>\n",
              "      <th>med_income</th>\n",
              "      <th>avg_spend</th>\n",
              "      <th>avg_foreign_spend</th>\n",
              "      <th>avg_debt</th>\n",
              "      <th>avg_debt_credit</th>\n",
              "      <th>avg_debt_noneb</th>\n",
              "      <th>avg_debt_mortgage</th>\n",
              "      <th>avg_debt_deposit</th>\n",
              "      <th>avg_debt_collateral</th>\n",
              "      <th>avg_credit_rat</th>\n",
              "      <th>medium_resid_rat</th>\n",
              "      <th>large_resid_rat</th>\n",
              "      <th>vehicle_own_rat</th>\n",
              "    </tr>\n",
              "  </thead>\n",
              "  <tbody>\n",
              "    <tr>\n",
              "      <th>0</th>\n",
              "      <td>63299</td>\n",
              "      <td>201902</td>\n",
              "      <td>126.565889</td>\n",
              "      <td>33.513210</td>\n",
              "      <td>1</td>\n",
              "      <td>54</td>\n",
              "      <td>0.0</td>\n",
              "      <td>0.166667</td>\n",
              "      <td>0.000000</td>\n",
              "      <td>0.000000</td>\n",
              "      <td>0.166667</td>\n",
              "      <td>0.500000</td>\n",
              "      <td>0.166667</td>\n",
              "      <td>37188000</td>\n",
              "      <td>33000000</td>\n",
              "      <td>2611619</td>\n",
              "      <td>0</td>\n",
              "      <td>24285196</td>\n",
              "      <td>11419148</td>\n",
              "      <td>8863595</td>\n",
              "      <td>55550000</td>\n",
              "      <td>0</td>\n",
              "      <td>55550000</td>\n",
              "      <td>5</td>\n",
              "      <td>-999999.0</td>\n",
              "      <td>-999999.0</td>\n",
              "      <td>0.000000</td>\n",
              "    </tr>\n",
              "    <tr>\n",
              "      <th>1</th>\n",
              "      <td>63560</td>\n",
              "      <td>201902</td>\n",
              "      <td>126.497121</td>\n",
              "      <td>33.247225</td>\n",
              "      <td>1</td>\n",
              "      <td>59</td>\n",
              "      <td>0.0</td>\n",
              "      <td>0.125000</td>\n",
              "      <td>0.000000</td>\n",
              "      <td>0.000000</td>\n",
              "      <td>0.375000</td>\n",
              "      <td>0.500000</td>\n",
              "      <td>0.000000</td>\n",
              "      <td>35378000</td>\n",
              "      <td>32000000</td>\n",
              "      <td>1987726</td>\n",
              "      <td>0</td>\n",
              "      <td>108571077</td>\n",
              "      <td>25896955</td>\n",
              "      <td>13317443</td>\n",
              "      <td>0</td>\n",
              "      <td>200000000</td>\n",
              "      <td>74421721</td>\n",
              "      <td>4</td>\n",
              "      <td>-999999.0</td>\n",
              "      <td>-999999.0</td>\n",
              "      <td>0.000000</td>\n",
              "    </tr>\n",
              "    <tr>\n",
              "      <th>2</th>\n",
              "      <td>63560</td>\n",
              "      <td>201902</td>\n",
              "      <td>126.497121</td>\n",
              "      <td>33.247225</td>\n",
              "      <td>2</td>\n",
              "      <td>49</td>\n",
              "      <td>0.0</td>\n",
              "      <td>0.250000</td>\n",
              "      <td>0.000000</td>\n",
              "      <td>0.000000</td>\n",
              "      <td>0.125000</td>\n",
              "      <td>0.625000</td>\n",
              "      <td>0.000000</td>\n",
              "      <td>32119000</td>\n",
              "      <td>34000000</td>\n",
              "      <td>3529667</td>\n",
              "      <td>172405</td>\n",
              "      <td>26424335</td>\n",
              "      <td>12015311</td>\n",
              "      <td>12015311</td>\n",
              "      <td>40833359</td>\n",
              "      <td>0</td>\n",
              "      <td>40833359</td>\n",
              "      <td>2</td>\n",
              "      <td>-999999.0</td>\n",
              "      <td>-999999.0</td>\n",
              "      <td>0.000000</td>\n",
              "    </tr>\n",
              "    <tr>\n",
              "      <th>3</th>\n",
              "      <td>63560</td>\n",
              "      <td>201902</td>\n",
              "      <td>126.497121</td>\n",
              "      <td>33.247225</td>\n",
              "      <td>1</td>\n",
              "      <td>54</td>\n",
              "      <td>0.0</td>\n",
              "      <td>0.181818</td>\n",
              "      <td>0.090909</td>\n",
              "      <td>0.090909</td>\n",
              "      <td>0.363636</td>\n",
              "      <td>0.272727</td>\n",
              "      <td>0.000000</td>\n",
              "      <td>64746000</td>\n",
              "      <td>68200000</td>\n",
              "      <td>4868477</td>\n",
              "      <td>12046</td>\n",
              "      <td>647716901</td>\n",
              "      <td>39952556</td>\n",
              "      <td>21558153</td>\n",
              "      <td>36697792</td>\n",
              "      <td>0</td>\n",
              "      <td>706300496</td>\n",
              "      <td>4</td>\n",
              "      <td>-999999.0</td>\n",
              "      <td>-999999.0</td>\n",
              "      <td>0.166667</td>\n",
              "    </tr>\n",
              "    <tr>\n",
              "      <th>4</th>\n",
              "      <td>63560</td>\n",
              "      <td>201902</td>\n",
              "      <td>126.497121</td>\n",
              "      <td>33.247225</td>\n",
              "      <td>1</td>\n",
              "      <td>49</td>\n",
              "      <td>0.0</td>\n",
              "      <td>0.250000</td>\n",
              "      <td>0.000000</td>\n",
              "      <td>0.000000</td>\n",
              "      <td>0.250000</td>\n",
              "      <td>0.500000</td>\n",
              "      <td>0.000000</td>\n",
              "      <td>29578000</td>\n",
              "      <td>29700000</td>\n",
              "      <td>5209689</td>\n",
              "      <td>0</td>\n",
              "      <td>248232725</td>\n",
              "      <td>35712501</td>\n",
              "      <td>5568751</td>\n",
              "      <td>0</td>\n",
              "      <td>0</td>\n",
              "      <td>626810674</td>\n",
              "      <td>5</td>\n",
              "      <td>-999999.0</td>\n",
              "      <td>-999999.0</td>\n",
              "      <td>0.000000</td>\n",
              "    </tr>\n",
              "  </tbody>\n",
              "</table>\n",
              "</div>"
            ],
            "text/plain": [
              "   zip_cd  year_month  ...  large_resid_rat  vehicle_own_rat\n",
              "0   63299      201902  ...        -999999.0         0.000000\n",
              "1   63560      201902  ...        -999999.0         0.000000\n",
              "2   63560      201902  ...        -999999.0         0.000000\n",
              "3   63560      201902  ...        -999999.0         0.166667\n",
              "4   63560      201902  ...        -999999.0         0.000000\n",
              "\n",
              "[5 rows x 27 columns]"
            ]
          },
          "metadata": {
            "tags": []
          },
          "execution_count": 9
        }
      ]
    },
    {
      "cell_type": "code",
      "metadata": {
        "colab": {
          "base_uri": "https://localhost:8080/"
        },
        "id": "1jwbteFQuDn0",
        "outputId": "3880381b-f9f8-42c2-d1a7-c33795cf4f7a"
      },
      "source": [
        "jeju_life.info()"
      ],
      "execution_count": 10,
      "outputs": [
        {
          "output_type": "stream",
          "text": [
            "<class 'pandas.core.frame.DataFrame'>\n",
            "RangeIndex: 10422 entries, 0 to 10421\n",
            "Data columns (total 27 columns):\n",
            " #   Column               Non-Null Count  Dtype  \n",
            "---  ------               --------------  -----  \n",
            " 0   zip_cd               10422 non-null  int64  \n",
            " 1   year_month           10422 non-null  int64  \n",
            " 2   x_axis               10422 non-null  float64\n",
            " 3   y_axis               10422 non-null  float64\n",
            " 4   sex                  10422 non-null  int64  \n",
            " 5   age                  10422 non-null  int64  \n",
            " 6   job_majorc           10422 non-null  float64\n",
            " 7   job_smallc           10422 non-null  float64\n",
            " 8   job_public           10422 non-null  float64\n",
            " 9   job_profession       10422 non-null  float64\n",
            " 10  job_self             10422 non-null  float64\n",
            " 11  job_none             10422 non-null  float64\n",
            " 12  job_other            10422 non-null  float64\n",
            " 13  avg_income           10422 non-null  int64  \n",
            " 14  med_income           10422 non-null  int64  \n",
            " 15  avg_spend            10422 non-null  int64  \n",
            " 16  avg_foreign_spend    10422 non-null  int64  \n",
            " 17  avg_debt             10422 non-null  int64  \n",
            " 18  avg_debt_credit      10422 non-null  int64  \n",
            " 19  avg_debt_noneb       10422 non-null  int64  \n",
            " 20  avg_debt_mortgage    10422 non-null  int64  \n",
            " 21  avg_debt_deposit     10422 non-null  int64  \n",
            " 22  avg_debt_collateral  10422 non-null  int64  \n",
            " 23  avg_credit_rat       10422 non-null  int64  \n",
            " 24  medium_resid_rat     10422 non-null  float64\n",
            " 25  large_resid_rat      10422 non-null  float64\n",
            " 26  vehicle_own_rat      10422 non-null  float64\n",
            "dtypes: float64(12), int64(15)\n",
            "memory usage: 2.1 MB\n"
          ],
          "name": "stdout"
        }
      ]
    },
    {
      "cell_type": "code",
      "metadata": {
        "colab": {
          "base_uri": "https://localhost:8080/",
          "height": 204
        },
        "id": "beyFvHHyuIel",
        "outputId": "5f3e7065-b1db-4973-c40a-566ce8459c13"
      },
      "source": [
        "weather.head()"
      ],
      "execution_count": 11,
      "outputs": [
        {
          "output_type": "execute_result",
          "data": {
            "text/html": [
              "<div>\n",
              "<style scoped>\n",
              "    .dataframe tbody tr th:only-of-type {\n",
              "        vertical-align: middle;\n",
              "    }\n",
              "\n",
              "    .dataframe tbody tr th {\n",
              "        vertical-align: top;\n",
              "    }\n",
              "\n",
              "    .dataframe thead th {\n",
              "        text-align: right;\n",
              "    }\n",
              "</style>\n",
              "<table border=\"1\" class=\"dataframe\">\n",
              "  <thead>\n",
              "    <tr style=\"text-align: right;\">\n",
              "      <th></th>\n",
              "      <th>날짜</th>\n",
              "      <th>현재일기</th>\n",
              "      <th>현재기온</th>\n",
              "      <th>체감온도</th>\n",
              "      <th>일강수</th>\n",
              "    </tr>\n",
              "  </thead>\n",
              "  <tbody>\n",
              "    <tr>\n",
              "      <th>0</th>\n",
              "      <td>2019-09-01</td>\n",
              "      <td>흐림</td>\n",
              "      <td>26.2</td>\n",
              "      <td>75.0</td>\n",
              "      <td>0</td>\n",
              "    </tr>\n",
              "    <tr>\n",
              "      <th>1</th>\n",
              "      <td>2019-09-02</td>\n",
              "      <td>비 끝남</td>\n",
              "      <td>22.5</td>\n",
              "      <td>72.0</td>\n",
              "      <td>25.7</td>\n",
              "    </tr>\n",
              "    <tr>\n",
              "      <th>2</th>\n",
              "      <td>2019-09-03</td>\n",
              "      <td>흐림</td>\n",
              "      <td>25.4</td>\n",
              "      <td>77.0</td>\n",
              "      <td>12.1</td>\n",
              "    </tr>\n",
              "    <tr>\n",
              "      <th>3</th>\n",
              "      <td>2019-09-04</td>\n",
              "      <td>약한비단속</td>\n",
              "      <td>24.2</td>\n",
              "      <td>75.0</td>\n",
              "      <td>34.3</td>\n",
              "    </tr>\n",
              "    <tr>\n",
              "      <th>4</th>\n",
              "      <td>2019-09-05</td>\n",
              "      <td>구름많음</td>\n",
              "      <td>27.6</td>\n",
              "      <td>79.0</td>\n",
              "      <td>0.1</td>\n",
              "    </tr>\n",
              "  </tbody>\n",
              "</table>\n",
              "</div>"
            ],
            "text/plain": [
              "           날짜   현재일기  현재기온  체감온도   일강수\n",
              "0  2019-09-01     흐림  26.2  75.0     0\n",
              "1  2019-09-02   비 끝남  22.5  72.0  25.7\n",
              "2  2019-09-03     흐림  25.4  77.0  12.1\n",
              "3  2019-09-04  약한비단속  24.2  75.0  34.3\n",
              "4  2019-09-05   구름많음  27.6  79.0   0.1"
            ]
          },
          "metadata": {
            "tags": []
          },
          "execution_count": 11
        }
      ]
    },
    {
      "cell_type": "code",
      "metadata": {
        "colab": {
          "base_uri": "https://localhost:8080/"
        },
        "id": "1h2LxVuOveiV",
        "outputId": "be089dd0-41d1-4d78-f672-c4672103952c"
      },
      "source": [
        "weather.info()"
      ],
      "execution_count": 12,
      "outputs": [
        {
          "output_type": "stream",
          "text": [
            "<class 'pandas.core.frame.DataFrame'>\n",
            "RangeIndex: 46 entries, 0 to 45\n",
            "Data columns (total 5 columns):\n",
            " #   Column  Non-Null Count  Dtype  \n",
            "---  ------  --------------  -----  \n",
            " 0   날짜      46 non-null     object \n",
            " 1   현재일기    46 non-null     object \n",
            " 2   현재기온    46 non-null     float64\n",
            " 3   체감온도    46 non-null     float64\n",
            " 4   일강수     46 non-null     object \n",
            "dtypes: float64(2), object(3)\n",
            "memory usage: 1.9+ KB\n"
          ],
          "name": "stdout"
        }
      ]
    },
    {
      "cell_type": "code",
      "metadata": {
        "colab": {
          "base_uri": "https://localhost:8080/",
          "height": 204
        },
        "id": "nutMWUXhwNMC",
        "outputId": "799bc1b4-59df-4492-c099-123daff2a14c"
      },
      "source": [
        "rain.head()"
      ],
      "execution_count": 13,
      "outputs": [
        {
          "output_type": "execute_result",
          "data": {
            "text/html": [
              "<div>\n",
              "<style scoped>\n",
              "    .dataframe tbody tr th:only-of-type {\n",
              "        vertical-align: middle;\n",
              "    }\n",
              "\n",
              "    .dataframe tbody tr th {\n",
              "        vertical-align: top;\n",
              "    }\n",
              "\n",
              "    .dataframe thead th {\n",
              "        text-align: right;\n",
              "    }\n",
              "</style>\n",
              "<table border=\"1\" class=\"dataframe\">\n",
              "  <thead>\n",
              "    <tr style=\"text-align: right;\">\n",
              "      <th></th>\n",
              "      <th>지점</th>\n",
              "      <th>일시</th>\n",
              "      <th>기온(°C)</th>\n",
              "      <th>강수량(mm)</th>\n",
              "    </tr>\n",
              "  </thead>\n",
              "  <tbody>\n",
              "    <tr>\n",
              "      <th>0</th>\n",
              "      <td>gosan</td>\n",
              "      <td>2019-09-01</td>\n",
              "      <td>23.916667</td>\n",
              "      <td>0.00</td>\n",
              "    </tr>\n",
              "    <tr>\n",
              "      <th>1</th>\n",
              "      <td>gosan</td>\n",
              "      <td>2019-09-02</td>\n",
              "      <td>23.700000</td>\n",
              "      <td>12.10</td>\n",
              "    </tr>\n",
              "    <tr>\n",
              "      <th>2</th>\n",
              "      <td>gosan</td>\n",
              "      <td>2019-09-03</td>\n",
              "      <td>23.550000</td>\n",
              "      <td>1.90</td>\n",
              "    </tr>\n",
              "    <tr>\n",
              "      <th>3</th>\n",
              "      <td>gosan</td>\n",
              "      <td>2019-09-04</td>\n",
              "      <td>23.533333</td>\n",
              "      <td>12.84</td>\n",
              "    </tr>\n",
              "    <tr>\n",
              "      <th>4</th>\n",
              "      <td>gosan</td>\n",
              "      <td>2019-09-05</td>\n",
              "      <td>26.033333</td>\n",
              "      <td>0.00</td>\n",
              "    </tr>\n",
              "  </tbody>\n",
              "</table>\n",
              "</div>"
            ],
            "text/plain": [
              "      지점          일시     기온(°C)  강수량(mm)\n",
              "0  gosan  2019-09-01  23.916667     0.00\n",
              "1  gosan  2019-09-02  23.700000    12.10\n",
              "2  gosan  2019-09-03  23.550000     1.90\n",
              "3  gosan  2019-09-04  23.533333    12.84\n",
              "4  gosan  2019-09-05  26.033333     0.00"
            ]
          },
          "metadata": {
            "tags": []
          },
          "execution_count": 13
        }
      ]
    },
    {
      "cell_type": "code",
      "metadata": {
        "colab": {
          "base_uri": "https://localhost:8080/"
        },
        "id": "5_MFlwO3wvBR",
        "outputId": "4fd000aa-f16e-4cd5-fa16-cbd51c62162a"
      },
      "source": [
        "rain.info()"
      ],
      "execution_count": 14,
      "outputs": [
        {
          "output_type": "stream",
          "text": [
            "<class 'pandas.core.frame.DataFrame'>\n",
            "RangeIndex: 184 entries, 0 to 183\n",
            "Data columns (total 4 columns):\n",
            " #   Column   Non-Null Count  Dtype  \n",
            "---  ------   --------------  -----  \n",
            " 0   지점       184 non-null    object \n",
            " 1   일시       184 non-null    object \n",
            " 2   기온(°C)   184 non-null    float64\n",
            " 3   강수량(mm)  66 non-null     float64\n",
            "dtypes: float64(2), object(2)\n",
            "memory usage: 5.9+ KB\n"
          ],
          "name": "stdout"
        }
      ]
    },
    {
      "cell_type": "code",
      "metadata": {
        "id": "e2HXVIKqw0dF"
      },
      "source": [
        "import matplotlib\n",
        "import matplotlib.pyplot as plt\n",
        "import seaborn as sns\n",
        "\n",
        "%matplotlib inline\n",
        "\n",
        "plt.rc('font', family='NanumBarunGothic')\n",
        "\n",
        "# plt.rc('axes', unicode_minus=False)\n",
        "\n",
        "import warnings\n",
        "warnings.filterwarnings('ignore')"
      ],
      "execution_count": 18,
      "outputs": []
    },
    {
      "cell_type": "code",
      "metadata": {
        "id": "3xlXD-Mdycd4"
      },
      "source": [
        "traindata = train.copy()"
      ],
      "execution_count": 19,
      "outputs": []
    },
    {
      "cell_type": "code",
      "metadata": {
        "colab": {
          "base_uri": "https://localhost:8080/",
          "height": 296
        },
        "id": "Ta15KckRy8Q2",
        "outputId": "06fffd7c-dea5-47ca-9552-a53e257124b7"
      },
      "source": [
        "sns.distplot(traindata['18~20_ride'], kde=False, bins=50)\n",
        "plt.axis([0, 50, 0, 450000])\n",
        "plt.title(\"퇴근 시간 승차 인원 히스토그램\")\n",
        "plt.show()"
      ],
      "execution_count": 20,
      "outputs": [
        {
          "output_type": "display_data",
          "data": {
            "image/png": "[encoded data removed]",
            "text/plain": [
              "<Figure size 432x288 with 1 Axes>"
            ]
          },
          "metadata": {
            "tags": [],
            "needs_background": "light"
          }
        }
      ]
    },
    {
      "cell_type": "code",
      "metadata": {
        "id": "h8NKhmih0KF9",
        "colab": {
          "base_uri": "https://localhost:8080/"
        },
        "outputId": "183b38ab-9ae6-451b-fd36-565cd5a714ef"
      },
      "source": [
        "traindata.groupby('18~20_ride').size().head()"
      ],
      "execution_count": 40,
      "outputs": [
        {
          "output_type": "execute_result",
          "data": {
            "text/plain": [
              "18~20_ride\n",
              "0.0    296528\n",
              "1.0     44268\n",
              "2.0     23752\n",
              "3.0     13560\n",
              "4.0      8630\n",
              "dtype: int64"
            ]
          },
          "metadata": {
            "tags": []
          },
          "execution_count": 40
        }
      ]
    },
    {
      "cell_type": "code",
      "metadata": {
        "id": "OicKTF49kQ4-"
      },
      "source": [
        "traindata['date'] = pd.to_datetime(traindata['date'])\n",
        "traindata['weekday'] = traindata['date'].dt.strftime('%a')"
      ],
      "execution_count": 41,
      "outputs": []
    },
    {
      "cell_type": "code",
      "metadata": {
        "colab": {
          "base_uri": "https://localhost:8080/",
          "height": 309
        },
        "id": "7CfWpQZLllnQ",
        "outputId": "c31cd184-2f52-4125-997f-fca13434c122"
      },
      "source": [
        "traindata.head()"
      ],
      "execution_count": 42,
      "outputs": [
        {
          "output_type": "execute_result",
          "data": {
            "text/html": [
              "<div>\n",
              "<style scoped>\n",
              "    .dataframe tbody tr th:only-of-type {\n",
              "        vertical-align: middle;\n",
              "    }\n",
              "\n",
              "    .dataframe tbody tr th {\n",
              "        vertical-align: top;\n",
              "    }\n",
              "\n",
              "    .dataframe thead th {\n",
              "        text-align: right;\n",
              "    }\n",
              "</style>\n",
              "<table border=\"1\" class=\"dataframe\">\n",
              "  <thead>\n",
              "    <tr style=\"text-align: right;\">\n",
              "      <th></th>\n",
              "      <th>id</th>\n",
              "      <th>date</th>\n",
              "      <th>bus_route_id</th>\n",
              "      <th>in_out</th>\n",
              "      <th>station_code</th>\n",
              "      <th>station_name</th>\n",
              "      <th>latitude</th>\n",
              "      <th>longitude</th>\n",
              "      <th>6~7_ride</th>\n",
              "      <th>7~8_ride</th>\n",
              "      <th>8~9_ride</th>\n",
              "      <th>9~10_ride</th>\n",
              "      <th>10~11_ride</th>\n",
              "      <th>11~12_ride</th>\n",
              "      <th>6~7_takeoff</th>\n",
              "      <th>7~8_takeoff</th>\n",
              "      <th>8~9_takeoff</th>\n",
              "      <th>9~10_takeoff</th>\n",
              "      <th>10~11_takeoff</th>\n",
              "      <th>11~12_takeoff</th>\n",
              "      <th>18~20_ride</th>\n",
              "      <th>weekday</th>\n",
              "    </tr>\n",
              "  </thead>\n",
              "  <tbody>\n",
              "    <tr>\n",
              "      <th>0</th>\n",
              "      <td>0</td>\n",
              "      <td>2019-09-01</td>\n",
              "      <td>4270000</td>\n",
              "      <td>시외</td>\n",
              "      <td>344</td>\n",
              "      <td>제주썬호텔</td>\n",
              "      <td>33.48990</td>\n",
              "      <td>126.49373</td>\n",
              "      <td>0.0</td>\n",
              "      <td>1.0</td>\n",
              "      <td>2.0</td>\n",
              "      <td>5.0</td>\n",
              "      <td>2.0</td>\n",
              "      <td>6.0</td>\n",
              "      <td>0.0</td>\n",
              "      <td>0.0</td>\n",
              "      <td>0.0</td>\n",
              "      <td>0.0</td>\n",
              "      <td>0.0</td>\n",
              "      <td>0.0</td>\n",
              "      <td>0.0</td>\n",
              "      <td>Sun</td>\n",
              "    </tr>\n",
              "    <tr>\n",
              "      <th>1</th>\n",
              "      <td>1</td>\n",
              "      <td>2019-09-01</td>\n",
              "      <td>4270000</td>\n",
              "      <td>시외</td>\n",
              "      <td>357</td>\n",
              "      <td>한라병원</td>\n",
              "      <td>33.48944</td>\n",
              "      <td>126.48508</td>\n",
              "      <td>1.0</td>\n",
              "      <td>4.0</td>\n",
              "      <td>4.0</td>\n",
              "      <td>2.0</td>\n",
              "      <td>5.0</td>\n",
              "      <td>6.0</td>\n",
              "      <td>0.0</td>\n",
              "      <td>0.0</td>\n",
              "      <td>0.0</td>\n",
              "      <td>0.0</td>\n",
              "      <td>0.0</td>\n",
              "      <td>0.0</td>\n",
              "      <td>5.0</td>\n",
              "      <td>Sun</td>\n",
              "    </tr>\n",
              "    <tr>\n",
              "      <th>2</th>\n",
              "      <td>2</td>\n",
              "      <td>2019-09-01</td>\n",
              "      <td>4270000</td>\n",
              "      <td>시외</td>\n",
              "      <td>432</td>\n",
              "      <td>정존마을</td>\n",
              "      <td>33.48181</td>\n",
              "      <td>126.47352</td>\n",
              "      <td>1.0</td>\n",
              "      <td>1.0</td>\n",
              "      <td>0.0</td>\n",
              "      <td>2.0</td>\n",
              "      <td>0.0</td>\n",
              "      <td>0.0</td>\n",
              "      <td>0.0</td>\n",
              "      <td>0.0</td>\n",
              "      <td>0.0</td>\n",
              "      <td>0.0</td>\n",
              "      <td>0.0</td>\n",
              "      <td>0.0</td>\n",
              "      <td>2.0</td>\n",
              "      <td>Sun</td>\n",
              "    </tr>\n",
              "    <tr>\n",
              "      <th>3</th>\n",
              "      <td>3</td>\n",
              "      <td>2019-09-01</td>\n",
              "      <td>4270000</td>\n",
              "      <td>시내</td>\n",
              "      <td>1579</td>\n",
              "      <td>제주국제공항(600번)</td>\n",
              "      <td>33.50577</td>\n",
              "      <td>126.49252</td>\n",
              "      <td>0.0</td>\n",
              "      <td>17.0</td>\n",
              "      <td>6.0</td>\n",
              "      <td>26.0</td>\n",
              "      <td>14.0</td>\n",
              "      <td>16.0</td>\n",
              "      <td>0.0</td>\n",
              "      <td>0.0</td>\n",
              "      <td>0.0</td>\n",
              "      <td>0.0</td>\n",
              "      <td>0.0</td>\n",
              "      <td>0.0</td>\n",
              "      <td>53.0</td>\n",
              "      <td>Sun</td>\n",
              "    </tr>\n",
              "    <tr>\n",
              "      <th>4</th>\n",
              "      <td>4</td>\n",
              "      <td>2019-09-01</td>\n",
              "      <td>4270000</td>\n",
              "      <td>시내</td>\n",
              "      <td>1646</td>\n",
              "      <td>중문관광단지입구</td>\n",
              "      <td>33.25579</td>\n",
              "      <td>126.41260</td>\n",
              "      <td>0.0</td>\n",
              "      <td>0.0</td>\n",
              "      <td>0.0</td>\n",
              "      <td>0.0</td>\n",
              "      <td>0.0</td>\n",
              "      <td>0.0</td>\n",
              "      <td>0.0</td>\n",
              "      <td>0.0</td>\n",
              "      <td>0.0</td>\n",
              "      <td>1.0</td>\n",
              "      <td>0.0</td>\n",
              "      <td>0.0</td>\n",
              "      <td>0.0</td>\n",
              "      <td>Sun</td>\n",
              "    </tr>\n",
              "  </tbody>\n",
              "</table>\n",
              "</div>"
            ],
            "text/plain": [
              "   id       date  bus_route_id  ... 11~12_takeoff  18~20_ride weekday\n",
              "0   0 2019-09-01       4270000  ...           0.0         0.0     Sun\n",
              "1   1 2019-09-01       4270000  ...           0.0         5.0     Sun\n",
              "2   2 2019-09-01       4270000  ...           0.0         2.0     Sun\n",
              "3   3 2019-09-01       4270000  ...           0.0        53.0     Sun\n",
              "4   4 2019-09-01       4270000  ...           0.0         0.0     Sun\n",
              "\n",
              "[5 rows x 22 columns]"
            ]
          },
          "metadata": {
            "tags": []
          },
          "execution_count": 42
        }
      ]
    },
    {
      "cell_type": "code",
      "metadata": {
        "colab": {
          "base_uri": "https://localhost:8080/"
        },
        "id": "iJmcW8AqmUz6",
        "outputId": "a83b4edf-fda7-4997-ea31-55713e953ed7"
      },
      "source": [
        "traindata.info()"
      ],
      "execution_count": 43,
      "outputs": [
        {
          "output_type": "stream",
          "text": [
            "<class 'pandas.core.frame.DataFrame'>\n",
            "RangeIndex: 415423 entries, 0 to 415422\n",
            "Data columns (total 22 columns):\n",
            " #   Column         Non-Null Count   Dtype         \n",
            "---  ------         --------------   -----         \n",
            " 0   id             415423 non-null  int64         \n",
            " 1   date           415423 non-null  datetime64[ns]\n",
            " 2   bus_route_id   415423 non-null  int64         \n",
            " 3   in_out         415423 non-null  object        \n",
            " 4   station_code   415423 non-null  int64         \n",
            " 5   station_name   415423 non-null  object        \n",
            " 6   latitude       415423 non-null  float64       \n",
            " 7   longitude      415423 non-null  float64       \n",
            " 8   6~7_ride       415423 non-null  float64       \n",
            " 9   7~8_ride       415423 non-null  float64       \n",
            " 10  8~9_ride       415423 non-null  float64       \n",
            " 11  9~10_ride      415423 non-null  float64       \n",
            " 12  10~11_ride     415423 non-null  float64       \n",
            " 13  11~12_ride     415423 non-null  float64       \n",
            " 14  6~7_takeoff    415423 non-null  float64       \n",
            " 15  7~8_takeoff    415423 non-null  float64       \n",
            " 16  8~9_takeoff    415423 non-null  float64       \n",
            " 17  9~10_takeoff   415423 non-null  float64       \n",
            " 18  10~11_takeoff  415423 non-null  float64       \n",
            " 19  11~12_takeoff  415423 non-null  float64       \n",
            " 20  18~20_ride     415423 non-null  float64       \n",
            " 21  weekday        415423 non-null  object        \n",
            "dtypes: datetime64[ns](1), float64(15), int64(3), object(3)\n",
            "memory usage: 69.7+ MB\n"
          ],
          "name": "stdout"
        }
      ]
    },
    {
      "cell_type": "code",
      "metadata": {
        "colab": {
          "base_uri": "https://localhost:8080/",
          "height": 312
        },
        "id": "F-80oFY4mcPi",
        "outputId": "12b2106e-5a7b-42b6-c459-f61b0f54bdc8"
      },
      "source": [
        "sns.barplot(x=\"weekday\", y=\"18~20_ride\", data=traindata)\n",
        "plt.title(\"number of riders at rushour by weekday\")\n",
        "plt.show"
      ],
      "execution_count": 45,
      "outputs": [
        {
          "output_type": "execute_result",
          "data": {
            "text/plain": [
              "<function matplotlib.pyplot.show>"
            ]
          },
          "metadata": {
            "tags": []
          },
          "execution_count": 45
        },
        {
          "output_type": "display_data",
          "data": {
            "image/png": "[encoded data removed]",
            "text/plain": [
              "<Figure size 432x288 with 1 Axes>"
            ]
          },
          "metadata": {
            "tags": [],
            "needs_background": "light"
          }
        }
      ]
    },
    {
      "cell_type": "code",
      "metadata": {
        "colab": {
          "base_uri": "https://localhost:8080/",
          "height": 296
        },
        "id": "z9dgzL_Gn1Yf",
        "outputId": "53fbb857-2188-44cf-eb7f-a52556e388af"
      },
      "source": [
        "# 버스 종류별 퇴근시간 평균 탑승객 수 시각화\n",
        "sns.barplot(x=\"in_out\", y=\"18~20_ride\", data=traindata)\n",
        "plt.title(\"number of riders by busType\")\n",
        "plt.show()"
      ],
      "execution_count": 46,
      "outputs": [
        {
          "output_type": "display_data",
          "data": {
            "image/png": "[encoded data removed]",
            "text/plain": [
              "<Figure size 432x288 with 1 Axes>"
            ]
          },
          "metadata": {
            "tags": [],
            "needs_background": "light"
          }
        }
      ]
    },
    {
      "cell_type": "code",
      "metadata": {
        "id": "X50GXfs0vZpC"
      },
      "source": [
        "# 일별 출퇴근 시간의 총 승차 인원 데이터 생성\n",
        "traindata['8~10_ride'] = traindata['8~9_ride'] + traindata['9~10_ride']\n",
        "eda_data = traindata.groupby('date')[['18~20_ride', '8~10_ride']].agg('sum').reset_index()"
      ],
      "execution_count": 22,
      "outputs": []
    },
    {
      "cell_type": "code",
      "metadata": {
        "colab": {
          "base_uri": "https://localhost:8080/",
          "height": 204
        },
        "id": "4GbXk0Guy6hn",
        "outputId": "93b46062-498c-4d61-c869-59065a81be92"
      },
      "source": [
        "eda_data.head()"
      ],
      "execution_count": 23,
      "outputs": [
        {
          "output_type": "execute_result",
          "data": {
            "text/html": [
              "<div>\n",
              "<style scoped>\n",
              "    .dataframe tbody tr th:only-of-type {\n",
              "        vertical-align: middle;\n",
              "    }\n",
              "\n",
              "    .dataframe tbody tr th {\n",
              "        vertical-align: top;\n",
              "    }\n",
              "\n",
              "    .dataframe thead th {\n",
              "        text-align: right;\n",
              "    }\n",
              "</style>\n",
              "<table border=\"1\" class=\"dataframe\">\n",
              "  <thead>\n",
              "    <tr style=\"text-align: right;\">\n",
              "      <th></th>\n",
              "      <th>date</th>\n",
              "      <th>18~20_ride</th>\n",
              "      <th>8~10_ride</th>\n",
              "    </tr>\n",
              "  </thead>\n",
              "  <tbody>\n",
              "    <tr>\n",
              "      <th>0</th>\n",
              "      <td>2019-09-01</td>\n",
              "      <td>11537.0</td>\n",
              "      <td>11957.0</td>\n",
              "    </tr>\n",
              "    <tr>\n",
              "      <th>1</th>\n",
              "      <td>2019-09-02</td>\n",
              "      <td>20561.0</td>\n",
              "      <td>21844.0</td>\n",
              "    </tr>\n",
              "    <tr>\n",
              "      <th>2</th>\n",
              "      <td>2019-09-03</td>\n",
              "      <td>19743.0</td>\n",
              "      <td>25756.0</td>\n",
              "    </tr>\n",
              "    <tr>\n",
              "      <th>3</th>\n",
              "      <td>2019-09-04</td>\n",
              "      <td>20133.0</td>\n",
              "      <td>21472.0</td>\n",
              "    </tr>\n",
              "    <tr>\n",
              "      <th>4</th>\n",
              "      <td>2019-09-05</td>\n",
              "      <td>20392.0</td>\n",
              "      <td>26331.0</td>\n",
              "    </tr>\n",
              "  </tbody>\n",
              "</table>\n",
              "</div>"
            ],
            "text/plain": [
              "         date  18~20_ride  8~10_ride\n",
              "0  2019-09-01     11537.0    11957.0\n",
              "1  2019-09-02     20561.0    21844.0\n",
              "2  2019-09-03     19743.0    25756.0\n",
              "3  2019-09-04     20133.0    21472.0\n",
              "4  2019-09-05     20392.0    26331.0"
            ]
          },
          "metadata": {
            "tags": []
          },
          "execution_count": 23
        }
      ]
    },
    {
      "cell_type": "code",
      "metadata": {
        "colab": {
          "base_uri": "https://localhost:8080/",
          "height": 287
        },
        "id": "ukNVmpc4zEdR",
        "outputId": "4948b4c7-b8a7-4a2c-dfb0-7ebea600dfdc"
      },
      "source": [
        "# 일별 출퇴근 시간 탑승객 수 시각화\n",
        "plt.plot(\"date\", \"18~20_ride\", \"g-\", label=\"number of riders by leave\", data=eda_data)\n",
        "plt.plot(\"date\", \"8~10_ride\", \"b-\", label=\"number of riders by attandance\", data=eda_data)\n",
        "plt.gcf().autofmt_xdate()\n",
        "plt.legend(loc=0)\n",
        "plt.title(\"number of riders at attandance & leave by day\")\n",
        "plt.show()"
      ],
      "execution_count": 27,
      "outputs": [
        {
          "output_type": "display_data",
          "data": {
            "image/png": "[encoded data removed]",
            "text/plain": [
              "<Figure size 432x288 with 1 Axes>"
            ]
          },
          "metadata": {
            "tags": [],
            "needs_background": "light"
          }
        }
      ]
    },
    {
      "cell_type": "code",
      "metadata": {
        "id": "O7hsifys1Co9"
      },
      "source": [
        "train['cue'] = 0\n",
        "test['cue'] = 1\n",
        "\n",
        "df = pd.concat([train, test], axis=0)"
      ],
      "execution_count": 28,
      "outputs": []
    },
    {
      "cell_type": "code",
      "metadata": {
        "id": "W6ICblmr6hS6"
      },
      "source": [
        "# datetime 변수형으로 변환\n",
        "df['date'] = pd.to_datetime(df['date'])\n",
        "\n",
        "# 요일 추출 (0-월요일~6-일요일)\n",
        "df['weekday'] = df['date'].dt.weekday"
      ],
      "execution_count": 29,
      "outputs": []
    },
    {
      "cell_type": "code",
      "metadata": {
        "colab": {
          "base_uri": "https://localhost:8080/",
          "height": 204
        },
        "id": "kygT_xXR7Wy6",
        "outputId": "17571e68-fda7-41d7-e320-5916190c3bac"
      },
      "source": [
        "df[['weekday']].head()"
      ],
      "execution_count": 31,
      "outputs": [
        {
          "output_type": "execute_result",
          "data": {
            "text/html": [
              "<div>\n",
              "<style scoped>\n",
              "    .dataframe tbody tr th:only-of-type {\n",
              "        vertical-align: middle;\n",
              "    }\n",
              "\n",
              "    .dataframe tbody tr th {\n",
              "        vertical-align: top;\n",
              "    }\n",
              "\n",
              "    .dataframe thead th {\n",
              "        text-align: right;\n",
              "    }\n",
              "</style>\n",
              "<table border=\"1\" class=\"dataframe\">\n",
              "  <thead>\n",
              "    <tr style=\"text-align: right;\">\n",
              "      <th></th>\n",
              "      <th>weekday</th>\n",
              "    </tr>\n",
              "  </thead>\n",
              "  <tbody>\n",
              "    <tr>\n",
              "      <th>0</th>\n",
              "      <td>6</td>\n",
              "    </tr>\n",
              "    <tr>\n",
              "      <th>1</th>\n",
              "      <td>6</td>\n",
              "    </tr>\n",
              "    <tr>\n",
              "      <th>2</th>\n",
              "      <td>6</td>\n",
              "    </tr>\n",
              "    <tr>\n",
              "      <th>3</th>\n",
              "      <td>6</td>\n",
              "    </tr>\n",
              "    <tr>\n",
              "      <th>4</th>\n",
              "      <td>6</td>\n",
              "    </tr>\n",
              "  </tbody>\n",
              "</table>\n",
              "</div>"
            ],
            "text/plain": [
              "   weekday\n",
              "0        6\n",
              "1        6\n",
              "2        6\n",
              "3        6\n",
              "4        6"
            ]
          },
          "metadata": {
            "tags": []
          },
          "execution_count": 31
        }
      ]
    },
    {
      "cell_type": "code",
      "metadata": {
        "id": "uv_dJkyg7baZ"
      },
      "source": [
        "def week_mean():\n",
        "  # 전체 데이터에서 train 데이터에 해당하는 행 추출\n",
        "  train_data = df.query('cue==\"0\"').reset_index(drop=True)\n",
        "\n",
        "  # 일괄적으로 1의 값을 가지는 'weekdaymean' 변수 생성\n",
        "  df['weekdaymean'] = 1\n",
        "\n",
        "  # 각 요일에 해당하는 인덱스 추출\n",
        "  index0 = df.query('weekday==0').index\n",
        "  index1 = df.query('weekday==1').index\n",
        "  index2 = df.query('weekday==2').index\n",
        "  index3 = df.query('weekday==3').index\n",
        "  index4 = df.query('weekday==4').index\n",
        "  index5 = df.query('weekday==5').index\n",
        "  index6 = df.query('weekday==6').index\n",
        "\n",
        "  # 인덱스를 활용해 'weekdaymean'의 값을 각 요일에 맞는 평균 탑승 탑승객 수로 변경\n",
        "  df.iloc[index0, -1] = train_data.query('weekday==0')['18~20_ride'].mean()\n",
        "  df.iloc[index1, -1] = train_data.query('weekday==1')['18~20_ride'].mean()\n",
        "  df.iloc[index2, -1] = train_data.query('weekday==2')['18~20_ride'].mean()\n",
        "  df.iloc[index3, -1] = train_data.query('weekday==3')['18~20_ride'].mean()\n",
        "  df.iloc[index4, -1] = train_data.query('weekday==4')['18~20_ride'].mean()\n",
        "  df.iloc[index5, -1] = train_data.query('weekday==5')['18~20_ride'].mean()\n",
        "  df.iloc[index6, -1] = train_data.query('weekday==6')['18~20_ride'].mean()\n",
        "\n",
        "  return df\n",
        "\n",
        "df = week_mean()"
      ],
      "execution_count": 32,
      "outputs": []
    },
    {
      "cell_type": "code",
      "metadata": {
        "colab": {
          "base_uri": "https://localhost:8080/",
          "height": 204
        },
        "id": "XwLXMeQP_Zt5",
        "outputId": "f1874cfc-b363-4467-efd2-e499d8251a21"
      },
      "source": [
        "df[['weekdaymean']].head()"
      ],
      "execution_count": 33,
      "outputs": [
        {
          "output_type": "execute_result",
          "data": {
            "text/html": [
              "<div>\n",
              "<style scoped>\n",
              "    .dataframe tbody tr th:only-of-type {\n",
              "        vertical-align: middle;\n",
              "    }\n",
              "\n",
              "    .dataframe tbody tr th {\n",
              "        vertical-align: top;\n",
              "    }\n",
              "\n",
              "    .dataframe thead th {\n",
              "        text-align: right;\n",
              "    }\n",
              "</style>\n",
              "<table border=\"1\" class=\"dataframe\">\n",
              "  <thead>\n",
              "    <tr style=\"text-align: right;\">\n",
              "      <th></th>\n",
              "      <th>weekdaymean</th>\n",
              "    </tr>\n",
              "  </thead>\n",
              "  <tbody>\n",
              "    <tr>\n",
              "      <th>0</th>\n",
              "      <td>1.034282</td>\n",
              "    </tr>\n",
              "    <tr>\n",
              "      <th>1</th>\n",
              "      <td>1.034282</td>\n",
              "    </tr>\n",
              "    <tr>\n",
              "      <th>2</th>\n",
              "      <td>1.034282</td>\n",
              "    </tr>\n",
              "    <tr>\n",
              "      <th>3</th>\n",
              "      <td>1.034282</td>\n",
              "    </tr>\n",
              "    <tr>\n",
              "      <th>4</th>\n",
              "      <td>1.034282</td>\n",
              "    </tr>\n",
              "  </tbody>\n",
              "</table>\n",
              "</div>"
            ],
            "text/plain": [
              "   weekdaymean\n",
              "0     1.034282\n",
              "1     1.034282\n",
              "2     1.034282\n",
              "3     1.034282\n",
              "4     1.034282"
            ]
          },
          "metadata": {
            "tags": []
          },
          "execution_count": 33
        }
      ]
    },
    {
      "cell_type": "code",
      "metadata": {
        "id": "MwHpv5Ss_ilT"
      },
      "source": [
        "# 버스 종류별 평균 탑승객 수를 구하는 함수\n",
        "def inout_mean():\n",
        "  # 전체 데이터에서 train 데이터에 해당하는 행 추출\n",
        "  train_data = df.query('cue==\"0\"').reset_index(drop=True)\n",
        "\n",
        "  # 일괄적으로 1의 값을 가지는 in_out_mean 변수 생성\n",
        "  df['in_out_mean'] = 1\n",
        "\n",
        "  # 버스 종류별 인덱스 추출\n",
        "  in_index = df.query('in_out == \"시내\"').index   # 시내버스\n",
        "  out_index = df.query('in_out == \"시외\"').index  # 시외버스\n",
        "\n",
        "  # 인덱스를 활용하여 in_out_mean의 값을 각 버스 종류에 맞는 평균 탑승 승객 수로 변경\n",
        "  df.iloc[in_index, -1] = train_data.query('in_out == \"시내\"')['18~20_ride'].mean()\n",
        "  df.iloc[out_index, -1] = train_data.query('in_out == \"시외\"')['18~20_ride'].mean()\n",
        "\n",
        "  return df\n",
        "\n",
        "df = inout_mean()"
      ],
      "execution_count": 34,
      "outputs": []
    },
    {
      "cell_type": "code",
      "metadata": {
        "id": "q_e8TEBNEx0c"
      },
      "source": [
        ""
      ],
      "execution_count": null,
      "outputs": []
    }
  ]
}